{
 "cells": [
  {
   "cell_type": "markdown",
   "metadata": {},
   "source": [
    "### A. Значения функции  \n",
    "\n",
    "Младший брат Аллы Вася делает тест по математике: вычисляет значение   \n",
    "функций в различных точках. Стоит отличная погода, и друзья зовут Васю гулять.   \n",
    "Но мама разрешила мальчику пойти на улицу только после того, как он закончит тест.   \n",
    "К сожалению, Вася пока не умеет программировать. Зато Алла умеет.  \n",
    "Она решила помочь брату и написала код функции $y = ax^2 + bx + c.$ И вы напишите.  \n",
    "\n",
    "Формат ввода  \n",
    "На вход через пробел подаются числа a, x, b, c  \n",
    "\n",
    "Формат вывода  \n",
    "Выведите одно число - значение функции в точке x.  \n",
    "\n",
    "-8 -5 -2 7   --->   -183    \n",
    "8 2 9 -10    --->    40  "
   ]
  },
  {
   "cell_type": "code",
   "execution_count": 3,
   "metadata": {},
   "outputs": [
    {
     "name": "stdout",
     "output_type": "stream",
     "text": [
      "-8 -5 -2 7\n",
      "-183\n"
     ]
    }
   ],
   "source": [
    "a, x, b, c = (int(x) for x in input().split())\n",
    "print(a*x**2+b*x+c)  "
   ]
  },
  {
   "cell_type": "markdown",
   "metadata": {},
   "source": [
    "### B. Любители конференций\n",
    "\n",
    "На IT-конференции присутствовали студенты из разных вузов со всей страны.   \n",
    "Список студентов представлен в таблице. В колонке «Вуз» записаны числа — id   \n",
    "учебного заведения. Тимофей предложил Саше выяснить, из каких вузов на   \n",
    "конференцию пришло больше всего учащихся. Ребята решили выяснить, из   \n",
    "каких k вузов присутствует больше всего гостей.  \n",
    "\n",
    "Формат ввода  \n",
    "В первой строке записан список id вузов длиной не больше 10100.   \n",
    "Каждое из чисел находится в диапазоне от 0 до 10000.  \n",
    "Во второй строке записано одно число - параметр k.  \n",
    "\n",
    "Формат вывода  \n",
    "Выведите k чисел (id вуза) через пробел, отсортированные по убыванию,   \n",
    "начиная от максимального количества гостей от вуза на конференции.  \n",
    "\n",
    "1 2 3 1 2 3 4  \n",
    "3   \n",
    "\n",
    "Вывод: 1 2 3\n",
    "\n",
    "1 1 1 2 2 3  \n",
    "1  \n",
    "\n",
    "Вывод: 1\n",
    "\n",
    "\n"
   ]
  },
  {
   "cell_type": "code",
   "execution_count": 43,
   "metadata": {},
   "outputs": [
    {
     "name": "stdout",
     "output_type": "stream",
     "text": [
      "1 1 1 1\n",
      "2\n"
     ]
    }
   ],
   "source": [
    "from collections import defaultdict\n",
    "university_id = [int(x) for x in input().split()]\n",
    "k = int(input())"
   ]
  },
  {
   "cell_type": "code",
   "execution_count": 44,
   "metadata": {},
   "outputs": [
    {
     "name": "stdout",
     "output_type": "stream",
     "text": [
      "[(1, 4)]\n",
      "1\n"
     ]
    }
   ],
   "source": [
    "university_number_of_students = defaultdict(int)\n",
    "for x in university_id:\n",
    "    university_number_of_students[x] += 1\n",
    "\n",
    "list_d = list(university_number_of_students.items())    \n",
    "list_d.sort(reverse=True, key=lambda i: i[1])\n",
    "\n",
    "L = []\n",
    "for i,x in enumerate(list_d):\n",
    "    if i<= k-1:\n",
    "        L.append(x[0])\n",
    "        continue\n",
    "    break\n",
    "print(list_d)\n",
    "M=[f'{x}' for x in L]\n",
    "print(\" \".join(M))\n"
   ]
  },
  {
   "cell_type": "markdown",
   "metadata": {},
   "source": [
    "### C. Списочная форма   \n",
    "\n",
    "Вася просил Аллу помочь решить задачу. На этот раз по информатике.   \n",
    "Для неотрицательного целого числа X списочная форма — это массив его   \n",
    "цифр слева направо. К примеру, для 1231 списочная форма будет [1,2,3,1].   \n",
    "На вход подается количество цифр числа Х, списочная форма неотрицательного   \n",
    "числа Х и число K. Числа К и Х не превосходят 10000.  \n",
    "\n",
    "Нужно вернуть списочную форму числа X + K.  \n",
    "\n",
    "Формат ввода  \n",
    "В первой строке - длина списочной формы числа X. На следующей строке -   \n",
    "сама списочная форма с цифрами записанными через пробел. В последней строке записано число K.  \n",
    "\n",
    "Формат вывода  \n",
    "Выведите списочную форму числа X+K  \n",
    "\n",
    "4  \n",
    "1 2 0 0  \n",
    "34  \n",
    "\n",
    "Вывод: 1 2 3 4    \n",
    "\n",
    "2  \n",
    "9 5  \n",
    "17  \n",
    "\n",
    "Вывод: 1 1 2"
   ]
  },
  {
   "cell_type": "code",
   "execution_count": 1,
   "metadata": {},
   "outputs": [
    {
     "name": "stdout",
     "output_type": "stream",
     "text": [
      "4\n",
      "1 2 0 0\n",
      "34\n"
     ]
    }
   ],
   "source": [
    "length = int(input())\n",
    "list_form = [int(x) for x in input().split()]\n",
    "K = int(input())"
   ]
  },
  {
   "cell_type": "code",
   "execution_count": 2,
   "metadata": {},
   "outputs": [],
   "source": [
    "X = sum([x*10**(length-i-1) for i,x in enumerate(list_form)])"
   ]
  },
  {
   "cell_type": "code",
   "execution_count": 3,
   "metadata": {},
   "outputs": [],
   "source": [
    "S = X + K"
   ]
  },
  {
   "cell_type": "code",
   "execution_count": 12,
   "metadata": {},
   "outputs": [
    {
     "name": "stdout",
     "output_type": "stream",
     "text": [
      "1 2 3 4\n"
     ]
    }
   ],
   "source": [
    "power = 1\n",
    "L = []\n",
    "while S//(10**power) != 0:\n",
    "    L.append(str((S%(10**power) - S%(10**(power-1)))//10**(power-1)))\n",
    "    power += 1\n",
    "L.append(str((S%(10**power)-S%(10**(power-1)))//10**(power-1)))\n",
    "L.reverse()\n",
    "print(\" \".join(L))    "
   ]
  },
  {
   "cell_type": "markdown",
   "metadata": {},
   "source": [
    "### D. Убрать очки   \n",
    "\n",
    "Гоша решил убрать из статистики дни, когда ничего в «Черепашеньке»   \n",
    "не заработал и не проиграл. Дан список заработанных очков.   \n",
    "Нужно удалить из него нули. Дополнительную память больше O(1) использовать нельзя.  \n",
    "\n",
    "Формат ввода  \n",
    "В первой строке - одно число n. Во второй - n целых чисел через пробел.   \n",
    "\n",
    "Формат вывода   \n",
    "Напечатайте очки за все дни, где выигрыш был отличен от нуля.   \n",
    " \n",
    "8  \n",
    "-1 0 0 1 2 -1 -4 0  \n",
    "\n",
    "Вывод: -1 1 2 -1 -4  \n",
    "\n",
    "\n",
    "5  \n",
    "-1 1 2 -1 -4  \n",
    "\n",
    "Вывод: -1 1 2 -1 -4   \n",
    "\n"
   ]
  },
  {
   "cell_type": "code",
   "execution_count": 50,
   "metadata": {},
   "outputs": [
    {
     "name": "stdout",
     "output_type": "stream",
     "text": [
      "8\n",
      "-1 0 0 1 2 -1 -4 0\n"
     ]
    }
   ],
   "source": [
    "n = int(input())\n",
    "L = [int(x) for x in input().split()]"
   ]
  },
  {
   "cell_type": "code",
   "execution_count": 51,
   "metadata": {},
   "outputs": [
    {
     "name": "stdout",
     "output_type": "stream",
     "text": [
      "[-1, 0, 1, 2, -1, -4, 0, 0]\n",
      "[-1, 1, 2, -1, -4, 0, 0, 0]\n",
      "[-1, 1, 2, -1, -4, 0, 0, 0]\n",
      "-1 1 2 -1 -4\n"
     ]
    }
   ],
   "source": [
    "k = 0\n",
    "i = 0\n",
    "while k+i <= n-1:\n",
    "    if L[i] == 0:\n",
    "        L.pop(i)\n",
    "        L.append(0)\n",
    "        k += 1\n",
    "    else:\n",
    "        i += 1\n",
    "L = [str(x) for x in L[:n-k]]\n",
    "print(\" \".join(L))"
   ]
  },
  {
   "cell_type": "markdown",
   "metadata": {},
   "source": [
    "### E. Работа из дома    \n",
    "\n",
    "Алла осталась работать из дома. Во время её рабочего видеозвонка с   \n",
    "Тимофеем и Гошей подошёл Вася. Он решил показать им написанный им   \n",
    "недавно код функции, переводящей целое число из десятичной системы в двоичную.   \n",
    "Ему было интересно, смогут ли ребята написать более короткую, или более эффективную программу.  \n",
    "Тимофей, Алла и Гоша с радостью отвлеклись от работы, чтобы попробовать. А у вас получится обойти Васю?   \n",
    "\n",
    "\n",
    "Формат ввода   \n",
    "На вход подается целое число в диапазоне от 0 до 10000.   \n",
    "\n",
    "Формат вывода   \n",
    "Выведите двоичное представление этого числа.   \n",
    "\n",
    "5   \n",
    "\n",
    "Вывод: 101\n",
    "\n",
    "14   \n",
    "\n",
    "Вывод: 1110\n"
   ]
  },
  {
   "cell_type": "code",
   "execution_count": 51,
   "metadata": {},
   "outputs": [
    {
     "name": "stdout",
     "output_type": "stream",
     "text": [
      "13\n",
      "1101\n"
     ]
    }
   ],
   "source": [
    "n =int(input())\n",
    "L = []\n",
    "i = 0\n",
    "while n>>i != 0:\n",
    "    L.append(f'{(n>>i)%2}')\n",
    "    i += 1\n",
    "L.reverse()\n",
    "print(''.join(L))"
   ]
  },
  {
   "cell_type": "markdown",
   "metadata": {},
   "source": [
    "### F. База данных   \n",
    "\n",
    "Алла писала код, добавляющий запись в новую таблицу базы данных.   \n",
    "И вдруг получила ошибку duplicate foreign key constraint.   \n",
    "В тот же момент её отвлекла Рита. Алла случайно закрыла окно   \n",
    "терминала с информацией о том, какое именно значение стало причиной ошибки.   \n",
    "Зато у неё сохранился список id, использованных при запросе.   \n",
    "Помогите ей выяснить, какой id стал причиной ошибки.   \n",
    "\n",
    "Дан массив чисел, состоящий  из n целых чисел.   \n",
    "Одно число встречается более одного раза. Нужно определить это число.  \n",
    "\n",
    "Формат ввода   \n",
    "В первой строке записано число n, которое не превосходит 1000.   \n",
    "В следующей строке через пробел записаны n целых чисел,   \n",
    "каждое из которых также не превосходит 10000.  \n",
    "\n",
    "Формат вывода   \n",
    "Выведите одно число.   \n",
    "\n",
    "5   \n",
    "3 1 3 4 2   \n",
    "\n",
    "Вывод: 3   \n",
    "\n",
    "3   \n",
    "2 8 8    \n",
    "\n",
    "Вывод: 8"
   ]
  },
  {
   "cell_type": "code",
   "execution_count": 8,
   "metadata": {},
   "outputs": [
    {
     "name": "stdout",
     "output_type": "stream",
     "text": [
      "5\n",
      "3 1 3 4 2\n"
     ]
    }
   ],
   "source": [
    "n = int(input())\n",
    "L = [int(x) for x in input().split()]"
   ]
  },
  {
   "cell_type": "code",
   "execution_count": 9,
   "metadata": {},
   "outputs": [
    {
     "name": "stdout",
     "output_type": "stream",
     "text": [
      "3\n"
     ]
    }
   ],
   "source": [
    "L_sorted = sorted(L)\n",
    "i = 0\n",
    "while i <= n-2:\n",
    "    if L_sorted[i] ==  L_sorted[i+1]:\n",
    "        print(L_sorted[i])\n",
    "        break\n",
    "    i+=1"
   ]
  },
  {
   "cell_type": "markdown",
   "metadata": {},
   "source": [
    "### G. Анаграммы    \n",
    "\n",
    "Вася вернулся домой под вечер и вспомнил, что ещё не сделал домашнее   \n",
    "задание по русскому языку. Чтобы понять разницу между анаграммой и палиндромом,   \n",
    "Вася снова обратился к Алле. Она объяснила брату, что два слова — анаграммы, если   \n",
    "одно можно получить из другого перестановкой букв. А палиндром — это слово или фраза,   \n",
    "которая читается одинаково, если читать слева направо и справа налево. Теперь Васе   \n",
    "интересно: как закодить функцию, определяющую, анаграммы слова или нет. Помогите ему.  \n",
    "\n",
    "Формат ввода   \n",
    "Два слова - каждое на отдельной строке.   \n",
    "Слова состоят из строчных букв латинского и русского алфавитов.   \n",
    "\n",
    "Формат вывода  \n",
    "Слово True, если слова являются анаграммами друг друга, слово False - если не являются.  \n",
    "\n",
    "мошкара  \n",
    "ромашка  \n",
    "\n",
    "Вывод: True    \n",
    "\n",
    "Примечания   \n",
    "Решение должно работать за O(N) и использовать O(1) дополнительной памяти,   \n",
    "где N - максимум из длин строк на входе  "
   ]
  },
  {
   "cell_type": "code",
   "execution_count": 14,
   "metadata": {},
   "outputs": [
    {
     "data": {
      "text/plain": [
       "{'а', 'к', 'о', 'ш'}"
      ]
     },
     "execution_count": 14,
     "metadata": {},
     "output_type": "execute_result"
    }
   ],
   "source": [
    "set(word_1.strip())"
   ]
  },
  {
   "cell_type": "code",
   "execution_count": 15,
   "metadata": {},
   "outputs": [
    {
     "name": "stdout",
     "output_type": "stream",
     "text": [
      "йцу\n",
      "уццй\n",
      "True\n"
     ]
    }
   ],
   "source": [
    "from collections import defaultdict\n",
    "word_1 = str(input())\n",
    "word_2 = str(input())\n",
    "d_1 = defaultdict(int)\n",
    "d_2 = defaultdict(int)\n",
    "\n",
    "for x in word_1:\n",
    "    d_1[x] += 1\n",
    "for x in word_2:\n",
    "    d_2[x] += 1\n",
    "if d_1 == d_2:\n",
    "    print('True')\n",
    "else:\n",
    "    print('False')"
   ]
  },
  {
   "cell_type": "code",
   "execution_count": 11,
   "metadata": {},
   "outputs": [
    {
     "name": "stdout",
     "output_type": "stream",
     "text": [
      "мошкара\n",
      "ромашка\n",
      "True\n"
     ]
    }
   ],
   "source": [
    "word_1 = str(input())\n",
    "word_2 = str(input())\n",
    "\n",
    "if sorted(word_1) == sorted(word_2):\n",
    "    print('True')\n",
    "else:\n",
    "    print('False')"
   ]
  },
  {
   "cell_type": "markdown",
   "metadata": {},
   "source": [
    "### H. Палиндром    \n",
    "\n",
    "А теперь помогите Васе понять, будет ли фраза палиндромом.    \n",
    "Учитываются только буквы и цифры, заглавные и строчные буквы считаются одинаковыми.   \n",
    "\n",
    "\n",
    "Формат ввода  \n",
    "В единственной строке записана фраза или слово. Буквы могут быть только латинские.  \n",
    "\n",
    "Формат вывода   \n",
    "Выведите True, если фраза является палиндромом и False, если не является.  \n",
    "\n",
    "A man, a plan, a canal: Panama  \n",
    "\n",
    "Вывод: True  "
   ]
  },
  {
   "cell_type": "code",
   "execution_count": 31,
   "metadata": {},
   "outputs": [
    {
     "name": "stdout",
     "output_type": "stream",
     "text": [
      "A man, a plan, a canal: Panama \n"
     ]
    }
   ],
   "source": [
    "n = str(input())\n",
    "import re\n",
    "valids = re.sub(r\"[^A-Za-z]+\", '', n).lower()"
   ]
  },
  {
   "cell_type": "code",
   "execution_count": 59,
   "metadata": {},
   "outputs": [
    {
     "name": "stdout",
     "output_type": "stream",
     "text": [
      "True\n"
     ]
    }
   ],
   "source": [
    "L_rev = list(valids)\n",
    "L_rev.reverse()\n",
    "if L_rev == list(valids):\n",
    "    print('True')\n",
    "else:\n",
    "    print('False')"
   ]
  },
  {
   "cell_type": "markdown",
   "metadata": {},
   "source": [
    "### I. Двоичная система    \n",
    "\n",
    "Тимофей спросил у студента Саши, умеет ли тот работать с числами в двоичной    \n",
    "системе счисления. Он ответил, что проходил это на одной из первых лекций по информатике.    \n",
    "Тимофей предложил Саше решить задачку. Два числа записаны в двоичной системе счисления.    \n",
    "Нужно вывести их сумму, также в двоичной системе. Встроенную в язык    \n",
    "программирования возможность сложения двоичных чисел применять нельзя.   \n",
    "\n",
    "Формат ввода   \n",
    "Два числа в двоичной системе счисления, каждое на отдельной строке.   \n",
    "\n",
    "Формат вывода   \n",
    "Одно число в двоичной системе счисления.   \n",
    "\n",
    "Примечания   \n",
    "Решение должно работать за O(N) и использовать O(N) дополнительной памяти,   \n",
    "где N - количество разрядов максимального числа на входе.   \n",
    "\n",
    "1010\n",
    "1011\n",
    "\n",
    "Вывод: 10101\n"
   ]
  },
  {
   "cell_type": "code",
   "execution_count": 111,
   "metadata": {},
   "outputs": [
    {
     "name": "stdout",
     "output_type": "stream",
     "text": [
      "101\n",
      "1\n"
     ]
    }
   ],
   "source": [
    "n_1 = int(input())\n",
    "n_2 = int(input())"
   ]
  },
  {
   "cell_type": "code",
   "execution_count": 56,
   "metadata": {},
   "outputs": [
    {
     "name": "stdout",
     "output_type": "stream",
     "text": [
      "101\n"
     ]
    }
   ],
   "source": [
    "n_1_list = [int(x) for x in input()]"
   ]
  },
  {
   "cell_type": "code",
   "execution_count": 57,
   "metadata": {},
   "outputs": [
    {
     "data": {
      "text/plain": [
       "[1, 0, 1]"
      ]
     },
     "execution_count": 57,
     "metadata": {},
     "output_type": "execute_result"
    }
   ],
   "source": [
    "# РЕШЕНИЕ долго работало так как переводил из int в str и обратно, \n",
    "#summa.append(1) а надо summa.append('1') и т.п. см ниже другие решения\n",
    "\n",
    "n_1 = int(input())\n",
    "n_2 = int(input())\n",
    "n_1_list = [int(x) for x in list(str(n_1))]\n",
    "n_2_list = [int(x) for x in list(str(n_2))]\n",
    "n_1_list.reverse()\n",
    "n_2_list.reverse()\n",
    "if n_1 > n_2:\n",
    "    n_2_list.extend([0]*(len(n_1_list)-len(n_2_list)))\n",
    "else:\n",
    "    n_1_list.extend([0]*(len(n_2_list)-len(n_1_list)))\n",
    "summa = []\n",
    "for i in range(len(n_1_list)-1):    \n",
    "    F = (n_1_list[i] + n_2_list[i]) \n",
    "    #print(F)\n",
    "    if F == 3:\n",
    "        summa.append(1)\n",
    "        n_1_list[i+1] += 1\n",
    "    elif F == 1:\n",
    "        summa.append(1)\n",
    "    elif F == 2:\n",
    "        summa.append(0)\n",
    "        n_1_list[i+1] += 1\n",
    "    else: \n",
    "        summa.append(0)\n",
    "F = (n_1_list[len(n_1_list)-1] + n_2_list[len(n_1_list)-1]) \n",
    "if F == 3:\n",
    "    summa.append(1)\n",
    "    summa.append(1)\n",
    "elif F == 1:\n",
    "    summa.append(1)\n",
    "elif F == 2:\n",
    "    summa.append(0)\n",
    "    summa.append(1)\n",
    "else:\n",
    "    summa.append(0)\n",
    "summa.reverse()\n",
    "print(int(''.join([str(x) for x in summa])))"
   ]
  },
  {
   "cell_type": "code",
   "execution_count": 63,
   "metadata": {},
   "outputs": [
    {
     "name": "stdout",
     "output_type": "stream",
     "text": [
      "1\n",
      "101\n"
     ]
    }
   ],
   "source": [
    "# РЕШЕНИЕ 0\n",
    "n_1 = input()\n",
    "n_2 = input()\n",
    "bin(int(n_1,2)+int(n_2,2))[2:]"
   ]
  },
  {
   "cell_type": "code",
   "execution_count": 82,
   "metadata": {},
   "outputs": [
    {
     "name": "stdout",
     "output_type": "stream",
     "text": [
      "1\n",
      "1\n"
     ]
    }
   ],
   "source": [
    "# РЕШЕНИЕ 1\n",
    "n_1_list = [int(x) for x in input()]\n",
    "n_2_list = [int(x) for x in input()]\n",
    "\n",
    "n_1_list.reverse()\n",
    "n_2_list.reverse()\n",
    "\n",
    "if len(n_1_list) > len(n_2_list):\n",
    "    n_2_list.extend([0]*(len(n_1_list)-len(n_2_list)))\n",
    "else:\n",
    "    n_1_list.extend([0]*(len(n_2_list)-len(n_1_list)))\n",
    "summa = []\n",
    "for i in range(len(n_1_list)-1):    \n",
    "    F = (n_1_list[i] + n_2_list[i]) \n",
    "    #print(F)\n",
    "    if F == 3:\n",
    "        summa.append('1')\n",
    "        n_1_list[i+1] += 1\n",
    "    elif F == 1:\n",
    "        summa.append('1')\n",
    "    elif F == 2:\n",
    "        summa.append('0')\n",
    "        n_1_list[i+1] += 1\n",
    "    else: \n",
    "        summa.append('0')\n",
    "F = (n_1_list[len(n_1_list)-1] + n_2_list[len(n_1_list)-1]) \n",
    "#print(F)\n",
    "if F == 3:\n",
    "    summa.append('1')\n",
    "    summa.append('1')\n",
    "elif F == 1:\n",
    "    summa.append('1')\n",
    "elif F == 2:\n",
    "    summa.append('0')\n",
    "    summa.append('1')\n",
    "else:\n",
    "    summa.append('0')\n",
    "summa.reverse()\n",
    "print(''.join(summa)) "
   ]
  },
  {
   "cell_type": "markdown",
   "metadata": {},
   "source": [
    "### J. Обеды   \n",
    "\n",
    "Руководство компании, где работают Гоша с друзьями, подарило каждому сотруднику   \n",
    "два талона на обед в близлежащем ресторане. Сотрудники могли взять талоны и записать   \n",
    "номер своего бейджика в специальный бланк. Так сделали все кроме одного сотрудника.   \n",
    "Нужно вычислить, кто же это такой! На вход подается непустой массив целых чисел.    \n",
    "Каждое из них, за исключением одного, встречается 2 раза. Размер массива не превосходит 10000.   \n",
    "Числа по модулю не больше 10000. Нужно выяснить, кто не такой, как все!   \n",
    "\n",
    "Формат ввода  \n",
    "В первой строке записано число n. Во второй строке через пробел записаны n чисел.   \n",
    "Длина массива и каждое из чисел не превосходят 10000.   \n",
    "\n",
    "Формат вывода   \n",
    "Выведите единственное число, соответствующее id отличившегося сотрудника   \n",
    "\n",
    "\n",
    "5  \n",
    "4 1 2 1 2   \n",
    "\n",
    "Вывод: 4   \n",
    "\n",
    "5  \n",
    "42 67 67 42 42  \n",
    "\n",
    "Вывод: 42  \n",
    "\n",
    "\n",
    "\n"
   ]
  },
  {
   "cell_type": "code",
   "execution_count": 17,
   "metadata": {},
   "outputs": [
    {
     "name": "stdout",
     "output_type": "stream",
     "text": [
      "5\n",
      "4 1 2 1 2\n"
     ]
    }
   ],
   "source": [
    "n = int(input())\n",
    "L = [int(x) for x in input().split()]"
   ]
  },
  {
   "cell_type": "code",
   "execution_count": 18,
   "metadata": {},
   "outputs": [
    {
     "name": "stdout",
     "output_type": "stream",
     "text": [
      "4\n"
     ]
    }
   ],
   "source": [
    "from collections import defaultdict\n",
    "d = defaultdict(int)\n",
    "\n",
    "for x in L:\n",
    "    d[x]+=1\n",
    "    if d[x] == 2:\n",
    "        d.pop(x)\n",
    "print(tuple(d.items())[0][0])"
   ]
  },
  {
   "cell_type": "markdown",
   "metadata": {},
   "source": [
    "### K. Единицы     \n",
    "\n",
    "Пока Вася писал программу про степени четверки, погода на улице ухудшилась.    \n",
    "Он долго не расстраивался и придумал новую задачку! Ему нравится работать с    \n",
    "системами счисления. И вот что на этот раз получилось: Дано целое положительное число.    \n",
    "Нужно посчитать, сколько 1 встречается в двоичной записи этого числа.   \n",
    "\n",
    "\n",
    "Формат ввода   \n",
    "На вход подается число в диапазоне от 1 до 10000   \n",
    "\n",
    "Формат вывода   \n",
    "Выведите одно число - количество единиц.   \n",
    "\n",
    "\n",
    "5   \n",
    "Вывод: 2   \n",
    "\n",
    "12   \n",
    "Вывод: 2  "
   ]
  },
  {
   "cell_type": "code",
   "execution_count": 29,
   "metadata": {},
   "outputs": [
    {
     "name": "stdout",
     "output_type": "stream",
     "text": [
      "12\n"
     ]
    }
   ],
   "source": [
    "n = int(input())"
   ]
  },
  {
   "cell_type": "code",
   "execution_count": 30,
   "metadata": {},
   "outputs": [
    {
     "name": "stdout",
     "output_type": "stream",
     "text": [
      "2\n"
     ]
    }
   ],
   "source": [
    "i = 0\n",
    "k = 0\n",
    "while n>>i != 0:\n",
    "    if (n>>i) % 2 !=0:\n",
    "        k+=1\n",
    "    i += 1\n",
    "print(k)"
   ]
  },
  {
   "cell_type": "markdown",
   "metadata": {},
   "source": [
    "### L. Лишняя буква   \n",
    "\n",
    "Васе очень понравилась задача про анаграммы и он придумал к ней модификацию.   \n",
    "Есть 2 строки s и t, состоящие только из строчных букв. Строка t получена   \n",
    "перемешиванием букв строки s и добавлением 1 буквы в случайную позицию.   \n",
    "Нужно найти добавленную букву.   \n",
    "\n",
    "\n",
    "Формат ввода    \n",
    "На вход подаются строки s и t, разделенные переносом строки.     \n",
    "\n",
    "Формат вывода  \n",
    "Выведите лишнюю букву.  \n",
    "\n",
    "abcd  \n",
    "abcde   \n",
    "\n",
    "Вывод: \n",
    "e   \n",
    "\n",
    "go  \n",
    "ogg  \n",
    "\n",
    "Вывод: g  \n",
    "\n",
    "xtkpx  \n",
    "xkctpx  \n",
    "\n",
    "Вывод: c  "
   ]
  },
  {
   "cell_type": "code",
   "execution_count": 57,
   "metadata": {},
   "outputs": [
    {
     "name": "stdout",
     "output_type": "stream",
     "text": [
      "abcd\\nabcde\n"
     ]
    }
   ],
   "source": [
    "s = str(input())\n",
    "line_1, line_2 = s.split(r\"\\n\")"
   ]
  },
  {
   "cell_type": "code",
   "execution_count": 58,
   "metadata": {},
   "outputs": [
    {
     "name": "stdout",
     "output_type": "stream",
     "text": [
      "e\n"
     ]
    }
   ],
   "source": [
    "line_1 = sorted(line_1)\n",
    "line_2 = sorted(line_2)\n",
    "for i,x in enumerate(line_2):\n",
    "    line_2.pop(i)\n",
    "    if line_1 == line_2:\n",
    "        print(x)\n",
    "        break\n",
    "    line_2.insert(i, x)"
   ]
  },
  {
   "cell_type": "markdown",
   "metadata": {},
   "source": [
    "### M. Частоты    \n",
    "\n",
    "А теперь помогите Васе решить задачу по информатике.   \n",
    "Он снова томится дома в хорошую погоду.  \n",
    "\n",
    "На вход подается строка длиной от 1 до 10000 символов.   \n",
    "Нужно отсортировать её в порядке частот букв по встречаемости.   \n",
    "Заглавные и строчные буквы считаются разными. Если частота одинаковая,   \n",
    "нужно применить вторичную сортировку лексикографически.   \n",
    "\n",
    "Формат ввода  \n",
    "Одна строка длиной не более 10000 символов.  \n",
    "\n",
    "Формат вывода  \n",
    "Строка, в которой символы отсортированы в порядке убывания частотности.  \n",
    "\n",
    "tree  \n",
    "\n",
    "Вывод: eert  \n",
    "\n",
    "ztwidhfk  \n",
    "\n",
    "Вывод: dfhiktwz  "
   ]
  },
  {
   "cell_type": "code",
   "execution_count": 1,
   "metadata": {},
   "outputs": [
    {
     "name": "stdout",
     "output_type": "stream",
     "text": [
      "ztwidhfk\n"
     ]
    }
   ],
   "source": [
    "line = input()"
   ]
  },
  {
   "cell_type": "code",
   "execution_count": 2,
   "metadata": {},
   "outputs": [
    {
     "name": "stdout",
     "output_type": "stream",
     "text": [
      "dfhiktwz\n"
     ]
    }
   ],
   "source": [
    "from collections import defaultdict\n",
    "d = defaultdict(int)\n",
    "\n",
    "for x in line:\n",
    "    d[x] += 1\n",
    "W = list(d.items())\n",
    "W.sort( reverse=False, key=lambda x: x[0])\n",
    "W.sort( reverse=True, key=lambda x: x[1])\n",
    "L = [] \n",
    "for x in W:\n",
    "    L.append(x[0]*d[x[0]])\n",
    "print(''.join(L))"
   ]
  },
  {
   "cell_type": "markdown",
   "metadata": {},
   "source": [
    "### N. Степень четырех     \n",
    "\n",
    "Вася на уроке математики проходил степени. Он хочет написать программу,   \n",
    "которая определяет, будет ли положительное целое число степенью четверки.   \n",
    "\n",
    "Формат ввода  \n",
    "На вход подается целое число в диапазоне от 1 до 10000.   \n",
    "\n",
    "Формат вывода  \n",
    "True, если число является степенью четырех, False - в обратном случае.  \n",
    "\n",
    "15  \n",
    "Вывод: False   \n",
    "\n",
    "16   \n",
    "Вывод: True\n"
   ]
  },
  {
   "cell_type": "code",
   "execution_count": 104,
   "metadata": {},
   "outputs": [
    {
     "name": "stdout",
     "output_type": "stream",
     "text": [
      "20\n"
     ]
    }
   ],
   "source": [
    "n = bin(int(input()))\n",
    "n = list(n[2:])\n",
    "n.reverse()"
   ]
  },
  {
   "cell_type": "code",
   "execution_count": 105,
   "metadata": {},
   "outputs": [
    {
     "name": "stdout",
     "output_type": "stream",
     "text": [
      "False\n"
     ]
    }
   ],
   "source": [
    "i = 0\n",
    "F = 0\n",
    "G = 0\n",
    "if n==0:\n",
    "    print(\"False\")\n",
    "    F=1\n",
    "for x in n:\n",
    "    if (i%2) == 1 and x == '1':\n",
    "        print('False')\n",
    "        F = 1\n",
    "        break\n",
    "    if G == 0 and  (i%2) == 0 and x == '1':\n",
    "        G = 1\n",
    "    elif (i%2) == 0 and x == '1':\n",
    "        print('False')\n",
    "        F = 1\n",
    "        break\n",
    "    i += 1\n",
    "if F == 0:\n",
    "    print(\"True\")\n",
    "        "
   ]
  },
  {
   "cell_type": "markdown",
   "metadata": {},
   "source": [
    "### O. И снова Вася    \n",
    "\n",
    "Тимофей собирает метрики посещаемости сайта за последний месяц с двух серверов.   \n",
    "На каждой машине имеется список id пользователей, отсортированный в порядке от   \n",
    "минимального количества посещений к максимальному. Пользователи, не посещавшие   \n",
    "сайт в последний месяц, не учитываются. Нужно получить общий список id пользователей,   \n",
    "отсортированный в таком же порядке.   \n",
    "\n",
    "Формат ввода   \n",
    "В первой строке записаны id пользователей с первого сервера через пробел, в конце - k нулей.   \n",
    "Во второй строке записано число m - количество id, пришедших с первого сервера   \n",
    "(без учета нулей в конце списка). В третьей - число k - которое, помимо количества нулей,   \n",
    "также является длиной списка пользователей со второго сервера.   \n",
    "В последней строке - id со второго сервера (k штук).  \n",
    "\n",
    "Все id не превосходят 10000, числа m и k также не превосходят 10000  \n",
    "\n",
    "Формат вывода  \n",
    "В одной строке через пробел выведите элементы получившегося id в отсортированном порядке.   \n",
    "\n",
    "1 2 3 0 0 0  \n",
    "3  \n",
    "3  \n",
    "2 5 6   \n",
    "\n",
    "Вывод: 1 2 2 3 5 6   \n",
    "\n",
    "8 98 0  \n",
    "2  \n",
    "1  \n",
    "65  \n",
    "\n",
    "Вывод: 8 65 98    \n",
    "\n",
    "Примечания  \n",
    "Дополнительную память использовать нельзя, все id нужно сохранять в первом массиве."
   ]
  },
  {
   "cell_type": "code",
   "execution_count": 132,
   "metadata": {},
   "outputs": [
    {
     "name": "stdout",
     "output_type": "stream",
     "text": [
      "1 2 3 0 0 0\n",
      "3\n",
      "3\n",
      "2 5 6\n"
     ]
    }
   ],
   "source": [
    "id_1 = [int(x) for x in input().split()]\n",
    "num_id_1 = int(input())\n",
    "num_id_2 = int(input())\n",
    "id_2 = [int(x) for x in input().split()]"
   ]
  },
  {
   "cell_type": "code",
   "execution_count": 109,
   "metadata": {},
   "outputs": [
    {
     "data": {
      "text/plain": [
       "'J'"
      ]
     },
     "execution_count": 109,
     "metadata": {},
     "output_type": "execute_result"
    }
   ],
   "source": [
    "ind_1 = 0\n",
    "ind_2 = 0 \n",
    "ind_merged = num_id_1 + num_id_2 - 1\n",
    "\n",
    "while ind_2 <= num_id_2 - 1:\n",
    "    if num_id_1-1-ind_1 >= 0 and id_1[num_id_1-1-ind_1] > id_2[num_id_2-1-ind_2]:\n",
    "        id_1[ind_merged] = id_1[num_id_1-1-ind_1]\n",
    "        ind_1 += 1\n",
    "    else:\n",
    "        id_1[ind_merged] = id_2[num_id_2-1-ind_2]\n",
    "        ind_2 += 1\n",
    "        \n",
    "    #print(id_1)\n",
    "    ind_merged -= 1\n",
    "print(''.join([str(x) for x in id_1])) "
   ]
  },
  {
   "cell_type": "markdown",
   "metadata": {},
   "source": [
    "### P. Комбинации   \n",
    "\n",
    "На клавиатуре старых мобильных телефонов каждой цифре соответствовало несколько букв.   \n",
    "Примерно так:  \n",
    "\n",
    "2:'abc', 3:'def', 4:'ghi', 5:'jkl', 6:'mno', 7:'pqrs', 8:'tuv', 9:'wxyz'  \n",
    "\n",
    "Вам известно в каком порядке были нажаты клавиши телефона, без учета повторов.   \n",
    "Напечатайте все комбинации букв, которые можно набрать такой последовательностью нажатий.   \n",
    "\n",
    "Формат ввода  \n",
    "На вход подается строка, состоящая из цифр 2-9 включительно  \n",
    "\n",
    "Формат вывода  \n",
    "Выведите все возможные комбинации букв через пробел.   \n",
    "\n",
    "23   \n",
    "Вывод: ad ae af bd be bf cd ce cf\n",
    "\n",
    "92   \n",
    "Вывод: wa wb wc xa xb xc ya yb yc za zb zc   \n",
    "\n",
    "\n"
   ]
  },
  {
   "cell_type": "code",
   "execution_count": 1,
   "metadata": {},
   "outputs": [
    {
     "name": "stdout",
     "output_type": "stream",
     "text": [
      "23\n"
     ]
    }
   ],
   "source": [
    "n = input()"
   ]
  },
  {
   "cell_type": "code",
   "execution_count": 36,
   "metadata": {},
   "outputs": [
    {
     "name": "stdout",
     "output_type": "stream",
     "text": [
      "ad ae af bd be bf cd ce cf\n"
     ]
    }
   ],
   "source": [
    "letters = {'2':'abc', '3':'def','4':'ghi', '5':'jkl', '6':'mno', '7':'pqrs','8':'tuv', '9':'wxyz'}\n",
    "\n",
    "def backtrack(digits, path, res):\n",
    "    if digits == '':\n",
    "        res.append(path)\n",
    "        return\n",
    "    for letter in letters[digits[0]]:\n",
    "        path += letter\n",
    "        backtrack(digits[1:], path, res)\n",
    "        path = path[:-1]\n",
    "\n",
    "\n",
    "res = []\n",
    "backtrack(n, '', res)\n",
    "print(' '.join(res))"
   ]
  },
  {
   "cell_type": "markdown",
   "metadata": {},
   "source": [
    "### Q. Статистика    \n",
    "\n",
    "В метро Гоша обычно играет в мобильную игру «Черепашенька».   \n",
    "Он долго собирал данные о том, сколько очков зарабатывает и проигрывает в день.   \n",
    "Гоша собирает необычную статистику. Нужно определить максимальное произведение   \n",
    "заработанных очков среди троек дней, в которые сумма очков равна нулю, и   \n",
    "произведение является положительным числом.   \n",
    "\n",
    "Формат ввода   \n",
    "В первой строке записано число n. В следующей строке через пробел записаны n целых чисел.    \n",
    "Числа находятся в диапазоне от -10000 до 10000    \n",
    "\n",
    "Формат вывода   \n",
    "Выведите максимальное положительное произведение заработанных за три дня очков среди   \n",
    "троек дней, в которые их сумма равна нулю. Если троек, удовлетворяющих условиям, нет, нужно вывести -1.   \n",
    "\n",
    "5   \n",
    "-2 -1 3 -1 -2   \n",
    "\n",
    "Вывод: 6   \n",
    "\n",
    "5   \n",
    "-2 1 1 -1 -2   \n",
    "\n",
    "Вывод: -1   \n",
    "\n",
    "Примечания   \n",
    "Решение должно использовать O(1) дополнительной памяти    \n",
    "(помимо массива, в который считаны входные данные).\n",
    "\n",
    "\n",
    "\n",
    "\n",
    "\n",
    " "
   ]
  },
  {
   "cell_type": "code",
   "execution_count": 53,
   "metadata": {},
   "outputs": [
    {
     "name": "stdout",
     "output_type": "stream",
     "text": [
      "5\n",
      "-2 1 1 -1 -2\n"
     ]
    }
   ],
   "source": [
    "n = int(input())\n",
    "L = [int(x) for x in input().split()]"
   ]
  },
  {
   "cell_type": "code",
   "execution_count": 55,
   "metadata": {},
   "outputs": [
    {
     "name": "stdout",
     "output_type": "stream",
     "text": [
      "-1\n"
     ]
    }
   ],
   "source": [
    "L.sort()\n",
    "Max=-1\n",
    "i = 0\n",
    "j = 0\n",
    "while L[i]<0:\n",
    "    while L[j]<0:\n",
    "        if (-L[i]-L[j]) in L and Max< L[i]*L[j]*(-L[i]-L[j]):\n",
    "            Max = L[i]*L[j]*(-L[i]-L[j])\n",
    "        j += 1\n",
    "    i += 1\n",
    "print(Max)"
   ]
  },
  {
   "cell_type": "code",
   "execution_count": null,
   "metadata": {},
   "outputs": [],
   "source": []
  }
 ],
 "metadata": {
  "kernelspec": {
   "display_name": "Python 3",
   "language": "python",
   "name": "python3"
  },
  "language_info": {
   "codemirror_mode": {
    "name": "ipython",
    "version": 3
   },
   "file_extension": ".py",
   "mimetype": "text/x-python",
   "name": "python",
   "nbconvert_exporter": "python",
   "pygments_lexer": "ipython3",
   "version": "3.7.3"
  }
 },
 "nbformat": 4,
 "nbformat_minor": 2
}
