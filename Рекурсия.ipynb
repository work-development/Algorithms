{
 "cells": [
  {
   "cell_type": "code",
   "execution_count": null,
   "metadata": {},
   "outputs": [],
   "source": [
    "import os\n",
    "\n",
    "file_to_find = 'some_file'\n",
    "path = os.getcwd()\n",
    "\n",
    "def look_for_file(path):\n",
    "    for _object in os.listdir(path):\n",
    "        if os.path.isdir(_object):\n",
    "            look_for_file(_object)\n",
    "        else:\n",
    "            if _object == file_to_find:\n",
    "                return _object\n",
    "\n",
    "# Комментарии к используемым методам:\n",
    "\n",
    "os.path.isdir(path) # True, если объект является папкой\n",
    "\n",
    "os.path.isfile(path) # True, если объект является файлом\n",
    "\n",
    "os.getcwd() # узнать текущую директорию\n",
    "\n",
    "os.listdir(path) # получить содержимое папки"
   ]
  },
  {
   "cell_type": "code",
   "execution_count": 1,
   "metadata": {},
   "outputs": [],
   "source": [
    "def matryoshka_builder(size, n):\n",
    "    if n >= 1:\n",
    "        print(\"Создаём низ матрёшки размера {}.\".format(size))\n",
    "        matryoshka_builder(size - 1, n - 1)\n",
    "        print(\"Создаем верх матрешки размера {}.\".format(size))  \n",
    "        print('Матрешка размера {} готова!'.format(size))\n",
    "    else:\n",
    "        return"
   ]
  },
  {
   "cell_type": "code",
   "execution_count": 2,
   "metadata": {},
   "outputs": [
    {
     "name": "stdout",
     "output_type": "stream",
     "text": [
      "Создаём низ матрёшки размера 4.\n",
      "Создаём низ матрёшки размера 3.\n",
      "Создаём низ матрёшки размера 2.\n",
      "Создаем верх матрешки размера 2.\n",
      "Матрешка размера 2 готова!\n",
      "Создаем верх матрешки размера 3.\n",
      "Матрешка размера 3 готова!\n",
      "Создаем верх матрешки размера 4.\n",
      "Матрешка размера 4 готова!\n"
     ]
    }
   ],
   "source": [
    "matryoshka_builder(4, 3)"
   ]
  },
  {
   "cell_type": "markdown",
   "metadata": {},
   "source": [
    "### A. Рекурсивные числа Фибоначчи   \n",
    "\n",
    "Помогите жителям Трешландии понять, сколько питомцев они могут завести.                              \n",
    "Напишите рекурсивную реализацию функции, определяющей по номеру значение n-ого числа Фибоначчи. \n",
    "\n",
    "Формат ввода                                            \n",
    "На вход подается n - целое число в диапазоне от 0 до 30.    \n",
    "\n",
    "Формат вывода                       \n",
    "Нужно вывести n-ое число Фибоначчи.    \n",
    "\n",
    "Ввод:  \n",
    "3\n",
    "\n",
    "Вывод:\n",
    "3   \n",
    "\n",
    "Ввод:   \n",
    "0\n",
    "\n",
    "Вывод:   \n",
    "1"
   ]
  },
  {
   "cell_type": "code",
   "execution_count": 16,
   "metadata": {},
   "outputs": [
    {
     "name": "stdout",
     "output_type": "stream",
     "text": [
      "8\n"
     ]
    }
   ],
   "source": [
    "with open(r'input.txt', 'r') as f:\n",
    "    n = int(f.readline())\n",
    "#n = 5    \n",
    "def fib(n):\n",
    "    if n > 1:\n",
    "        return fib(n-1) + fib(n-2)\n",
    "    else:\n",
    "        return 1\n",
    "\n",
    "print(fib(n))"
   ]
  },
  {
   "cell_type": "markdown",
   "metadata": {},
   "source": [
    "### B. Фибоначчи с памятью   \n",
    "\n",
    "Функция из прошлого задания работала слишком долго. Нужно модифицировать ее   \n",
    "таким образом, чтобы одни и те же значения повторно не вычислялись.   \n",
    "\n",
    "Формат ввода                \n",
    "На вход подается число n.   \n",
    "\n",
    "Формат вывода                        \n",
    "Напечатайте n-ное число Фибоначчи.   \n"
   ]
  },
  {
   "cell_type": "code",
   "execution_count": 32,
   "metadata": {},
   "outputs": [
    {
     "name": "stdout",
     "output_type": "stream",
     "text": [
      "1\n"
     ]
    }
   ],
   "source": [
    "#from collections import defaultdict\n",
    "\n",
    "#d = defaultdict(int)\n",
    "\n",
    "\n",
    "\n",
    "with open(r'input.txt', 'r') as f:\n",
    "    n = int(f.readline())\n",
    "\n",
    "n = 0\n",
    "d = [0]*(n+2)\n",
    "d[0] = 1\n",
    "d[1] = 1\n",
    "\n",
    "def fib(k):\n",
    "    if k > 1 and d[k] == 0:\n",
    "        d[k] = fib(k-1) + fib(k-2)\n",
    "    return d[k]\n",
    "\n",
    "\n",
    "print(fib(n))"
   ]
  },
  {
   "cell_type": "markdown",
   "metadata": {},
   "source": [
    "### C. Эффективные числа Фибоначчи    \n",
    "\n",
    "У многих жителей Трешландии на компьютере осталось совсем мало свободного места.    \n",
    "Но они тоже хотят иметь возможность вычислять, сколько животных могут завести.    \n",
    "Нужно оптимизировать решение задачи про вычисление чисел Фибоначчи.   \n",
    "Объем дополнительной памяти должен быть O(1).   \n",
    "\n",
    "Формат ввода                                               \n",
    "На вход подается n - целое число в диапазоне от 0 до 30.              \n",
    "               \n",
    "Формат вывода                                        \n",
    "Нужно вывести значение n - ого числа Фибоначчи.                \n",
    "\n",
    "Примечания    \n",
    "Решение должно работать за O(n) и использовать O(1) дополнительной памяти.   "
   ]
  },
  {
   "cell_type": "code",
   "execution_count": 17,
   "metadata": {},
   "outputs": [
    {
     "name": "stdout",
     "output_type": "stream",
     "text": [
      "21\n"
     ]
    }
   ],
   "source": [
    "with open(r'input.txt', 'r') as f:\n",
    "    n = int(f.readline())\n",
    "    \n",
    "def fib(k):\n",
    "    d1 = 0\n",
    "    d2 = 1\n",
    "    if k > 1:\n",
    "        for i in range(k):\n",
    "            d2 = d1 + d2\n",
    "            d1 = d2 - d1\n",
    "    return d2\n",
    "\n",
    "\n",
    "print(fib(n))"
   ]
  },
  {
   "cell_type": "markdown",
   "metadata": {},
   "source": [
    "### D. Последняя цифра   \n",
    "\n",
    "У одного жителя деревни Упыревка очень старый компьютер. На экран он может   \n",
    "выводить только одну цифру, причем последнюю из тех, что выводится в       \n",
    "стандартный поток вывода. Помогите жителю Упыревки понять, что должно быть              \n",
    "выведено на экран, когда он запустит программу для вычисления n - ого числа Фибоначчи.   \n",
    "\n",
    "Формат ввода                                                 \n",
    "На вход подается n - целое число в диапазоне от 0 до 10000       \n",
    "\n",
    "Формат вывода                                                                   \n",
    "Нужно вывести одну цифру, последнюю в числе, равному n - ому числу Фибоначчи                \n",
    "\n",
    "Ввод:   \n",
    "7   \n",
    "\n",
    "Вывод:    \n",
    "1   \n",
    "      \n",
    "Ввод:      \n",
    "2   \n",
    "       \n",
    "Вывод:     \n",
    "2  \n",
    "\n",
    "\n"
   ]
  },
  {
   "cell_type": "code",
   "execution_count": 54,
   "metadata": {},
   "outputs": [
    {
     "name": "stdout",
     "output_type": "stream",
     "text": [
      "4\n"
     ]
    }
   ],
   "source": [
    "with open(r'input.txt', 'r') as f:\n",
    "    n = int(f.readline())\n",
    "\n",
    "d = [-1]*(n+2)\n",
    "d[0] = 1\n",
    "d[1] = 1\n",
    "\n",
    "def fib(k):\n",
    "    if k > 1 and d[k] == -1:\n",
    "        d[k] = (fib(k-1) + fib(k-2)) \n",
    "        if d[k] >= 10:\n",
    "            d[k] = d[k] - 10\n",
    "    return d[k]\n",
    "\n",
    "\n",
    "print(fib(n))"
   ]
  },
  {
   "cell_type": "code",
   "execution_count": 29,
   "metadata": {},
   "outputs": [
    {
     "name": "stdout",
     "output_type": "stream",
     "text": [
      "3\n"
     ]
    }
   ],
   "source": [
    "with open(r'input.txt', 'r') as f:\n",
    "    n = int(f.readline())\n",
    "\n",
    "def fib(k):\n",
    "    d1 = 0\n",
    "    d2 = 1\n",
    "    if k > 1:\n",
    "        for i in range(k):\n",
    "            d1, d2 = d2, (d1 + d2) \n",
    "            if d2 >= 10:\n",
    "                d2 = d2 - 10\n",
    "    return d2\n",
    "\n",
    "\n",
    "print(fib(n))"
   ]
  },
  {
   "cell_type": "code",
   "execution_count": 30,
   "metadata": {},
   "outputs": [
    {
     "name": "stdout",
     "output_type": "stream",
     "text": [
      "1\n"
     ]
    }
   ],
   "source": [
    "with open(r'input.txt', 'r') as f:\n",
    "    n = int(f.readline())\n",
    "\n",
    "def fib(k):\n",
    "    d1 = 0\n",
    "    d2 = 1\n",
    "    if k > 1:\n",
    "        for i in range(k):\n",
    "            k = d2\n",
    "            d2 = (d1 + d2) \n",
    "            d1 = k\n",
    "            if d2 >= 10:\n",
    "                d2 = d2 - 10\n",
    "    return d2\n",
    "print(fib(n)%60)"
   ]
  },
  {
   "cell_type": "markdown",
   "metadata": {},
   "source": [
    "## Базовый и рекурсивный случай   "
   ]
  },
  {
   "cell_type": "code",
   "execution_count": 1,
   "metadata": {},
   "outputs": [],
   "source": [
    "def _findSum(arr): \n",
    "     if len(arr) == 1: \n",
    "        return arr[0] \n",
    "     else: \n",
    "        return arr[0] + _findSum(arr[1:])"
   ]
  },
  {
   "cell_type": "code",
   "execution_count": 3,
   "metadata": {},
   "outputs": [],
   "source": [
    "def sum(n):\n",
    "    if n == 0:\n",
    "        return 0\n",
    "    else:\n",
    "        return n + sum(n - 1)"
   ]
  },
  {
   "cell_type": "markdown",
   "metadata": {},
   "source": [
    "### E. Кондратиева система шифрования    \n",
    "\n",
    "Ещё один важный математический объект — факториал.    \n",
    "Факториал - это произведение чисел от 1 до n.                    \n",
    "В Трешландии существует своя система кодирования - Кондратиева.              \n",
    "Число в этой системе кодируется через значение факториала. Дочь Кондратия,              \n",
    "Евлампия, использует эту систему для шифрования пароля от айфона.             \n",
    "Помогите Евлампии зашифровать пароль. Нужно написать рекурсивную реализацию            \n",
    "функции, вычисляющей факториал заданного числа.                  \n",
    "                \n",
    "Формат ввода                                                          \n",
    "На вход подаётся целое положительное число в диапазоне от 0 до 22.              \n",
    "\n",
    "Формат вывода                               \n",
    "Нужно вывести факториал заданного числа.                      \n",
    "\n",
    "Ввод:   \n",
    "3   \n",
    "\n",
    "Вывод:   \n",
    "6   \n",
    "\n",
    "Ввод:  \n",
    "1    \n",
    "\n",
    "Вывод:   \n",
    "1   \n",
    "\n",
    "Примечания  \n",
    "Решение должно быть реализовано с помощью рекурсивной функции.   "
   ]
  },
  {
   "cell_type": "code",
   "execution_count": 19,
   "metadata": {},
   "outputs": [
    {
     "name": "stdout",
     "output_type": "stream",
     "text": [
      "6\n"
     ]
    }
   ],
   "source": [
    "with open(r'input.txt', 'r') as f:\n",
    "    n = int(f.readline())\n",
    "    \n",
    "\n",
    "def factorial(n):\n",
    "    if n == 3:\n",
    "        return 6\n",
    "    if n == 2:\n",
    "        return 2\n",
    "    \n",
    "    if n > 2:\n",
    "        return n*(n-1)*(n-2)*factorial(n-3)\n",
    "    \n",
    "    return 1\n",
    "    \n",
    "print(factorial(n))"
   ]
  },
  {
   "cell_type": "markdown",
   "metadata": {},
   "source": [
    "### F. Циклический факториал   \n",
    "\n",
    "Евлампия не смогла разобраться с рекурсией! Напишите реализацию алгоритма   \n",
    "определения факториала числа с использованием цикла.   \n",
    "\n",
    "Формат ввода                                               \n",
    "На вход подается n - целое число в диапазоне от 0 до 22           \n",
    "\n",
    "Формат вывода                               \n",
    "Нужно вывести число - факториал для n             "
   ]
  },
  {
   "cell_type": "code",
   "execution_count": 22,
   "metadata": {},
   "outputs": [
    {
     "name": "stdout",
     "output_type": "stream",
     "text": [
      "1\n"
     ]
    }
   ],
   "source": [
    "with open(r'input.txt', 'r') as f:\n",
    "    n = int(f.readline())\n",
    "\n",
    "def factorial(n):\n",
    "    fact = 1\n",
    "    for k in range(1,n+1):\n",
    "        fact = fact*k\n",
    "    return fact\n",
    "print(factorial(n))"
   ]
  },
  {
   "cell_type": "markdown",
   "metadata": {},
   "source": [
    "## Преимущества и недостатки рекурсии"
   ]
  },
  {
   "cell_type": "code",
   "execution_count": 23,
   "metadata": {},
   "outputs": [],
   "source": [
    "def say_hello(name):\n",
    "    print(\"Привет, {}\".format(name))\n",
    "    print_horoscope(name)\n",
    "    print('Пока, {}, хорошего дня!'.format(name))\n",
    "    \n",
    "def print_horoscope(name):\n",
    "    print('{}! Сегодня подходящий день для прогулок в парке и изучения рекурсии'.format(name))"
   ]
  },
  {
   "cell_type": "code",
   "execution_count": 24,
   "metadata": {},
   "outputs": [
    {
     "name": "stdout",
     "output_type": "stream",
     "text": [
      "Гоша\n"
     ]
    }
   ],
   "source": [
    "name = input()"
   ]
  },
  {
   "cell_type": "code",
   "execution_count": 25,
   "metadata": {},
   "outputs": [
    {
     "name": "stdout",
     "output_type": "stream",
     "text": [
      "Привет, Гоша\n",
      "Гоша! Сегодня подходящий день для прогулок в парке и изучения рекурсии\n",
      "Пока, Гоша, хорошего дня!\n"
     ]
    }
   ],
   "source": [
    "say_hello(name)"
   ]
  },
  {
   "cell_type": "markdown",
   "metadata": {},
   "source": [
    "### G. Недоалфавит   \n",
    "\n",
    "Кондратий решил взяться за изучение английского языка и устроил конкурс.    \n",
    "Билет на тараканьи бега получит тот, кто напишет самую быструю функцию,    \n",
    "рекурсивно выводящую английский алфавит до заданной буквы включительно.   \n",
    "\n",
    "Формат ввода                                              \n",
    "На вход подается маленькая буква английского алфавита                     \n",
    "\n",
    "Формат вывода                                                                     \n",
    "Нужно вывести ответ - алфавит с начала до заданной буквы - в строку через пробел.                \n",
    "\n",
    "Ввод:  \n",
    "z   \n",
    "\n",
    "Вывод:   \n",
    "\t\n",
    "a b c d e f g h i j k l m n o p q r s t u v w x y z    \n",
    "\n",
    "Ввод:   \n",
    "c   \n",
    "\n",
    "Вывод:   \n",
    "\n",
    "a b c   "
   ]
  },
  {
   "cell_type": "code",
   "execution_count": 44,
   "metadata": {},
   "outputs": [
    {
     "name": "stdout",
     "output_type": "stream",
     "text": [
      "a b c d e f g h i j k l m n o p q r s t u v w x y z\n"
     ]
    }
   ],
   "source": [
    "with open(r'input.txt', 'r') as f:\n",
    "    letter_cod = ord(f.readline())\n",
    "  \n",
    "a = 97\n",
    "def truncated_alphabet(a, letter_cod):\n",
    "    if letter_cod > a:\n",
    "        return chr(a) + \" \" + truncated_alphabet(a + 1, letter_cod)\n",
    "    return chr(letter_cod)\n",
    "print(truncated_alphabet(a, letter_cod))  "
   ]
  },
  {
   "cell_type": "markdown",
   "metadata": {},
   "source": [
    "### H. Генератор скобок   \n",
    "\n",
    "В Удотинске объявлен конкурс. Нужно написать самую быструю реализацию функции,    \n",
    "которая генерирует все правильные скобочные последовательности длины n.   \n",
    "\n",
    "Вид скобок только один: ( )           \n",
    "\n",
    "Формат ввода                                          \n",
    "На вход функция принимает n - целое число от 0 до 10.              \n",
    "\n",
    "Формат вывода                                                                         \n",
    "Функция должна напечатать все возможные скобочные последовательности заданной длины.            \n",
    "\n",
    "Ввод:   \n",
    "3   \n",
    "\n",
    "Вывод:   \n",
    "((()))   \n",
    "(()())   \n",
    "(())()   \n",
    "()(())   \n",
    "()()()   \n",
    "\n",
    "Ввод:   \n",
    "2   \n",
    "\n",
    "Вывод:     \n",
    "(())  \n",
    "()()   "
   ]
  },
  {
   "cell_type": "code",
   "execution_count": 83,
   "metadata": {},
   "outputs": [
    {
     "name": "stdout",
     "output_type": "stream",
     "text": [
      "(())\n",
      "()()\n"
     ]
    }
   ],
   "source": [
    "with open(r'input.txt', 'r') as f:\n",
    "    n = int(f.readline())\n",
    "\n",
    "def f(search, left, right, pairs):\n",
    "    if left == pairs and right == pairs:\n",
    "        print(search)\n",
    "    else:\n",
    "        if left < pairs:\n",
    "            f(search + '(', left + 1, right, pairs)\n",
    "        if right < left:\n",
    "            f(search + ')', left, right + 1, pairs)\n",
    "\n",
    "\n",
    "f('', 0, 0, n)"
   ]
  },
  {
   "cell_type": "markdown",
   "metadata": {},
   "source": [
    "### I. Призы    \n",
    "\n",
    "В конкурсе на самую быструю программу сортировки одинаковый результат получили k человек.    \n",
    "В призовом фонде имеется n монет различного достоинства. Нужно определить, можно ли разделить    \n",
    "их между победителями таким образом, чтобы каждый получил одинаковую сумму.    \n",
    "\n",
    "Формат ввода                                                                                 \n",
    "В первой строке задано k - количество победителей - целое число от 1 до 16. Во второй строке    \n",
    "задано n - количество монет - целое число, не превосходящее 16. Далее в строку через пробел    \n",
    "записано n чисел, каждое из которых не превосходит 10000.     \n",
    "\n",
    "Формат вывода                                                                                                   \n",
    "Нужно вывести True, если возможно разделить призовой фонд на равные части между победителями, иначе - False.           \n",
    "\n",
    "Ввод:      \n",
    "4  \n",
    "7  \n",
    "4 3 2 3 5 2 1   \n",
    "\n",
    "Вывод:   \n",
    "True   \n",
    "\n",
    "Ввод:   \n",
    "2  \n",
    "7            \n",
    "2 3 1 3 5 2 1   \n",
    "\n",
    "Вывод:   \n",
    "False  "
   ]
  },
  {
   "cell_type": "code",
   "execution_count": null,
   "metadata": {},
   "outputs": [],
   "source": [
    "# Решение 2\n",
    "n = int(input())\n",
    "scores = [int(i) for i in input().split()]\n",
    "def solution(scores, n, scores_sum):\n",
    "    if scores_sum == 0:\n",
    "        return True\n",
    "    if n == 0 and scores_sum != 0:\n",
    "        return False\n",
    "    if scores[n - 1] > scores_sum:\n",
    "        return False\n",
    "    for i in range(n - 1, 0, -1):\n",
    "        if solution(scores, i, scores_sum - scores[i]):\n",
    "            return True\n",
    "    return False\n",
    "def get_answer(scores, n):\n",
    "    scores.sort(reverse=True)\n",
    "    scores_sum = sum(scores)\n",
    "    if scores_sum % 2 != 0:\n",
    "        return False\n",
    "    return solution(scores, n, scores_sum // 2)\n",
    "print(get_answer(scores, n))"
   ]
  },
  {
   "cell_type": "code",
   "execution_count": 21,
   "metadata": {},
   "outputs": [
    {
     "name": "stdout",
     "output_type": "stream",
     "text": [
      "False\n"
     ]
    }
   ],
   "source": [
    "# Решение 3\n",
    "with open(r'input.txt', 'r') as f:\n",
    "    k = int(f.readline())\n",
    "    n = int(f.readline())\n",
    "    fund = [int(x) for x in f.readline().split()]\n",
    "    \n",
    "# k = 4\n",
    "# n = 7\n",
    "# L = [4, 3, 2, 3, 5, 2, 1]\n",
    "\n",
    "# k = 2\n",
    "# n = 7\n",
    "# L = [2, 3, 1, 3, 5, 2, 1]\n",
    "    \n",
    "def solution(k, fund):\n",
    "    if k > 0:\n",
    "        if sum(fund) % k != 0:\n",
    "            return False\n",
    "        amount = sum(fund) // k\n",
    "        while amount:\n",
    "            # ищем минмак элементы\n",
    "            max_val = max(fund)\n",
    "            min_val = min(fund)\n",
    "            if amount >= max_val:\n",
    "                amount -= max_val\n",
    "                # выкидываем уже обработанный\n",
    "                fund.pop(fund.index(max_val))\n",
    "            if amount >= min_val:\n",
    "                amount -= min_val\n",
    "                fund.pop(fund.index(min_val))\n",
    "            else:\n",
    "                # если не удалось вставить самый маленький\n",
    "                break\n",
    "        if amount != 0:\n",
    "            return False\n",
    "        return solution(k-1, fund)\n",
    "    elif k == 0 and fund == []:\n",
    "        return True\n",
    "    return False\n",
    "\n",
    "print(solution(k,fund))"
   ]
  },
  {
   "cell_type": "code",
   "execution_count": 18,
   "metadata": {},
   "outputs": [
    {
     "name": "stdout",
     "output_type": "stream",
     "text": [
      "False\n"
     ]
    }
   ],
   "source": [
    "# Мое решение + Книга про рекурсию (выделяет все возможные подмножества с заданной суммой из множества) работает долго\n",
    "\n",
    "# k = 4\n",
    "# n = 7\n",
    "# L = [4, 3, 2, 3, 5, 2, 1]\n",
    "\n",
    "# k = 2\n",
    "# n = 7\n",
    "# L = [2, 3, 1, 3, 5, 2, 1]\n",
    "\n",
    "with open(r'input.txt', 'r') as f:\n",
    "    k = int(f.readline())\n",
    "    n = int(f.readline())\n",
    "    L = [int(x) for x in f.readline().split()]\n",
    "\n",
    "x = sum(L) / k\n",
    "M = []\n",
    "ind_used = []\n",
    "def subset_sum(i, sol, psum, L, x):\n",
    "\n",
    "    if psum == x:\n",
    "        Z = []\n",
    "        \n",
    "        for i in range(0, len(sol)):\n",
    "            if sol[i] == 1:\n",
    "                Z.append(L[i])\n",
    "\n",
    "        M.append(Z)\n",
    "        \n",
    "                            \n",
    "    elif i < len(L):\n",
    "        for k in range(0, 2):\n",
    "            if psum + k * L[i] <= x:\n",
    "                sol[i] = k\n",
    "                psum = psum + k * L[i]\n",
    "                subset_sum(i + 1, sol, psum, L, x)\n",
    "        sol[i] = 0\n",
    "        \n",
    "\n",
    "sol = [0] * (len(L))\n",
    "subset_sum(0, sol, 0, L, x)\n",
    "\n",
    "from collections import Counter\n",
    "d = Counter(L)\n",
    "for i,x in enumerate(M):\n",
    "    for y in x:\n",
    "        d[y] -= 1\n",
    "F = 0\n",
    "for x in d.values():\n",
    "    if x > 0:\n",
    "        F =1\n",
    "if F == 0:\n",
    "    print(True)\n",
    "else:\n",
    "    print(False)"
   ]
  },
  {
   "cell_type": "code",
   "execution_count": 59,
   "metadata": {},
   "outputs": [
    {
     "name": "stdout",
     "output_type": "stream",
     "text": [
      "True\n"
     ]
    }
   ],
   "source": [
    "# Мое решение (работает долго но работает)\n",
    "\n",
    "# k = 4\n",
    "# n = 7\n",
    "# L = [4, 3, 2, 3, 5, 2, 1]\n",
    "\n",
    "# k = 2\n",
    "# n = 7\n",
    "# L = [2, 3, 1, 3, 5, 2, 1]\n",
    "\n",
    "with open(r'input.txt', 'r') as f:\n",
    "    k = int(f.readline())\n",
    "    n = int(f.readline())\n",
    "    L = [int(x) for x in f.readline().split()]\n",
    "\n",
    "maxi = sum(L) / k\n",
    "M = [maxi]*k\n",
    "i = 0\n",
    "j = 0\n",
    "counter = 0 \n",
    "def f(L,M,n,k,i,j,counter):\n",
    "    if j < k:        \n",
    "        if i < n:\n",
    "            if M[j] >= L[i] and L[i] > 0:\n",
    "                M[j] -= L[i]\n",
    "                L[i] = 0\n",
    "                if M[j] == 0:\n",
    "                    counter += 1\n",
    "                    f(L,M,n,k,0,j+1,counter)\n",
    "                else:\n",
    "                    f(L,M,n,k,i+1,j,counter)\n",
    "\n",
    "            elif M[j] > 0:\n",
    "                f(L,M,n,k,i+1,j,counter)\n",
    "   \n",
    "        else:\n",
    "            print(False)\n",
    "\n",
    "    else:\n",
    "        if counter == k:\n",
    "            print(True)\n",
    "\n",
    "        else:\n",
    "            print(False)\n",
    " \n",
    "            \n",
    "f(L,M,n,k,0,0,0)            "
   ]
  },
  {
   "cell_type": "markdown",
   "metadata": {},
   "source": [
    "### J. Кондратиева Грамматика   \n",
    "\n",
    "\n",
    "В Тупограде объявлено о проведении соревнования. Уехать навсегда из города сможет тот,                   \n",
    "кто напишет самое эффективное решение задачи: В первой строке записано число 0. Для того, чтобы понять,        \n",
    "что записано в следующей строке, нужно посмотреть на предыдущую, и изменить каждый 0 на 01, и каждую 1 на 10.          \n",
    "\n",
    "Формат ввода                 \n",
    "В первой строке записано n - число, не превосходящее 30. Во второй строке записано k - число в диапазоне $[1,2^{(N-1)}]$  \n",
    "\n",
    "\n",
    "Формат вывода                             \n",
    "Нужно вывести k-ый символ в n-ой строке.          \n",
    "\n",
    "Ввод:   \n",
    "1   \n",
    "1   \n",
    "\n",
    "Вывод:  \n",
    "1   \n",
    "\n",
    "Ввод:   \n",
    "2   \n",
    "2  \n",
    "\n",
    "Вывод:   \n",
    "1"
   ]
  },
  {
   "cell_type": "code",
   "execution_count": 69,
   "metadata": {
    "scrolled": true
   },
   "outputs": [
    {
     "name": "stdout",
     "output_type": "stream",
     "text": [
      "01\n",
      "0110\n",
      "1\n"
     ]
    }
   ],
   "source": [
    "with open(r'input.txt', 'r') as f:\n",
    "    n = int(f.readline())\n",
    "    k = int(f.readline())\n",
    "k = 1\n",
    "n = 1\n",
    "Len = 1\n",
    "def f(n,line,Len):\n",
    "    if n > 0:\n",
    "        new_line = ''\n",
    "        for s in line:\n",
    "            if s == '0':\n",
    "                new_line += '01'\n",
    "            else:\n",
    "                new_line += '10'\n",
    "            Len += 1\n",
    "        print(new_line)\n",
    "        f(n-1,new_line,Len)\n",
    "    else:\n",
    "        print(line[k-1])\n",
    "f(n,'0',Len)\n"
   ]
  },
  {
   "cell_type": "code",
   "execution_count": 73,
   "metadata": {},
   "outputs": [
    {
     "name": "stdout",
     "output_type": "stream",
     "text": [
      "1\n"
     ]
    }
   ],
   "source": [
    "with open(r'input.txt', 'r') as f:\n",
    "    n = int(f.readline())\n",
    "    k = int(f.readline())\n",
    "# k = 2\n",
    "# n = 2\n",
    "\n",
    "def f(n,line):\n",
    "    if n > 0:\n",
    "        new_line = ''\n",
    "        for s in line:\n",
    "            if s == '0':\n",
    "                new_line += '01'\n",
    "            else:\n",
    "                new_line += '10'\n",
    "\n",
    "        f(n-1,new_line)\n",
    "    else:\n",
    "        print(line[k-1])\n",
    "f(n,'0')"
   ]
  },
  {
   "cell_type": "code",
   "execution_count": 48,
   "metadata": {},
   "outputs": [
    {
     "data": {
      "text/plain": [
       "'g'"
      ]
     },
     "execution_count": 48,
     "metadata": {},
     "output_type": "execute_result"
    }
   ],
   "source": [
    "with open(r'input.txt', 'r') as f:\n",
    "    n = int(f.readline())\n",
    "    k = int(f.readline())\n",
    "# k = 2\n",
    "# n = 2\n",
    "Len = 1\n",
    "def f(n,line,Len):\n",
    "    if n > 0:\n",
    "        if Len < k:\n",
    "            new_line = ''\n",
    "            for s in line:\n",
    "                if s == '0':\n",
    "                    new_line += '01'\n",
    "                else:\n",
    "                    new_line += '10'\n",
    "                Len += 1\n",
    "\n",
    "            f(n-1,new_line,Len)\n",
    "        else:\n",
    "            \n",
    "    else:\n",
    "        print(line[k-1])\n",
    "f(n,'0',Len)"
   ]
  },
  {
   "cell_type": "code",
   "execution_count": 77,
   "metadata": {},
   "outputs": [
    {
     "name": "stdout",
     "output_type": "stream",
     "text": [
      "1\n"
     ]
    }
   ],
   "source": [
    "with open(r'input.txt', 'r') as f:\n",
    "    n = int(f.readline())\n",
    "    k = int(f.readline())\n",
    "# k = 2\n",
    "# n = 2\n",
    "\n",
    "def f(n,line):\n",
    "    if n > 0:\n",
    "        new_line = ''\n",
    "        Len = 0\n",
    "        for s in line:\n",
    "            if Len >= k: \n",
    "                break\n",
    "            else:\n",
    "                if s == '0':\n",
    "                    new_line += '01'\n",
    "                else:\n",
    "                    new_line += '10'\n",
    "                Len += 2\n",
    "\n",
    "        f(n-1,new_line)\n",
    "    else:\n",
    "        print(line[k-1])\n",
    "f(n,'0')"
   ]
  },
  {
   "cell_type": "code",
   "execution_count": 84,
   "metadata": {},
   "outputs": [
    {
     "name": "stdout",
     "output_type": "stream",
     "text": [
      "0\n"
     ]
    }
   ],
   "source": [
    "with open(r'input.txt', 'r') as f:\n",
    "    n = int(f.readline())\n",
    "    k = int(f.readline())\n",
    "# k = 1\n",
    "# n = 1\n",
    "\n",
    "def f(n,line):\n",
    "    if n > 0:\n",
    "        for i in range(len(line)):\n",
    "            if line[i] == '0':\n",
    "                line.insert(i+1,'1')\n",
    "            else:\n",
    "                line.insert(i+1,'0')\n",
    "        f(n-1,line)\n",
    "    else:\n",
    "        print(line[k-1])\n",
    "\n",
    "f(n,['0'])\n",
    "  "
   ]
  },
  {
   "cell_type": "code",
   "execution_count": 99,
   "metadata": {},
   "outputs": [
    {
     "name": "stdout",
     "output_type": "stream",
     "text": [
      "0\n"
     ]
    }
   ],
   "source": [
    "with open(r'input.txt', 'r') as f:\n",
    "    n = int(f.readline())\n",
    "    k = int(f.readline())\n",
    "# k = 1\n",
    "# n = 1\n",
    "import math\n",
    "C = math.log(k, 2)\n",
    "\n",
    "def f(n,i,line,new_line):\n",
    "    if n > 0 and i <= C:\n",
    "        if i < len(line):\n",
    "            if line[i] == '0':\n",
    "                new_line += '01'\n",
    "            else:\n",
    "                new_line += '10'\n",
    "            f(n,i+1,line,new_line)\n",
    "        else:\n",
    "            f(n-1,0,new_line,'')\n",
    "    else:\n",
    "        print(line[k-1])\n",
    "\n",
    "f(n,0,'0','')"
   ]
  },
  {
   "cell_type": "code",
   "execution_count": 146,
   "metadata": {},
   "outputs": [
    {
     "name": "stdout",
     "output_type": "stream",
     "text": [
      "1\n"
     ]
    }
   ],
   "source": [
    "with open(r'input.txt', 'r') as f:\n",
    "    n = int(f.readline())\n",
    "    k = int(f.readline())\n",
    "# k = 1\n",
    "# n = 1\n",
    "import math\n",
    "C = math.log(k, 2)\n",
    "\n",
    "def invers(a):\n",
    "    t = ''\n",
    "    for s in a:\n",
    "        if s == '0':\n",
    "            t += '1'\n",
    "        else:\n",
    "            t += '0'\n",
    "    return t\n",
    "        \n",
    "\n",
    "def f(i,a,l):\n",
    "    if i <= C:\n",
    "        l += invers(a)\n",
    "        a = l\n",
    "        f(i+1,a,l)\n",
    "\n",
    "    else:\n",
    "        print(l[k-1])\n",
    "\n",
    "f(0,'0','0')"
   ]
  },
  {
   "cell_type": "code",
   "execution_count": 118,
   "metadata": {},
   "outputs": [
    {
     "data": {
      "text/plain": [
       "'-0b1011'"
      ]
     },
     "execution_count": 118,
     "metadata": {},
     "output_type": "execute_result"
    }
   ],
   "source": [
    "bin(~eval('0b'+'10'+bin(~0b01)[3:]))"
   ]
  },
  {
   "cell_type": "code",
   "execution_count": 119,
   "metadata": {},
   "outputs": [
    {
     "data": {
      "text/plain": [
       "'0b1110'"
      ]
     },
     "execution_count": 119,
     "metadata": {},
     "output_type": "execute_result"
    }
   ],
   "source": [
    "'0b'+'11'+bin(~0b01)[3:]"
   ]
  },
  {
   "cell_type": "code",
   "execution_count": 128,
   "metadata": {},
   "outputs": [
    {
     "data": {
      "text/plain": [
       "'0b1010'"
      ]
     },
     "execution_count": 128,
     "metadata": {},
     "output_type": "execute_result"
    }
   ],
   "source": [
    "bin(int('0b1010', 2))"
   ]
  },
  {
   "cell_type": "code",
   "execution_count": 147,
   "metadata": {},
   "outputs": [
    {
     "data": {
      "text/plain": [
       "'1100'"
      ]
     },
     "execution_count": 147,
     "metadata": {},
     "output_type": "execute_result"
    }
   ],
   "source": [
    "bin(~int('01011',2))[3:]"
   ]
  },
  {
   "cell_type": "code",
   "execution_count": null,
   "metadata": {},
   "outputs": [],
   "source": [
    "with open(r'input.txt', 'r') as f:\n",
    "    n = int(f.readline())\n",
    "    k = int(f.readline())\n",
    "# k = 1\n",
    "# n = 1\n",
    "import math\n",
    "C = math.log(k, 2)\n",
    "\n",
    "def f(n,i,line,new_line):\n",
    "    if n > 0 and i <= C:\n",
    "        if i < len(line):\n",
    "            if line[i] == '0':\n",
    "                new_line += '01'\n",
    "            else:\n",
    "                new_line += '10'\n",
    "            f(n,i+1,line,new_line)\n",
    "        else:\n",
    "            f(n-1,0,new_line,'')\n",
    "    else:\n",
    "        print(line[k-1])\n",
    "\n",
    "f(n,0,'0','')"
   ]
  },
  {
   "cell_type": "code",
   "execution_count": 149,
   "metadata": {},
   "outputs": [
    {
     "name": "stdout",
     "output_type": "stream",
     "text": [
      "0\n"
     ]
    }
   ],
   "source": [
    "with open(r'input.txt', 'r') as f:\n",
    "    n = int(f.readline())\n",
    "    k = int(f.readline())\n",
    "# k = 1\n",
    "# n = 1\n",
    "import math\n",
    "C = math.log(k, 2)\n",
    "\n",
    "def invers(a):\n",
    "    t = ''\n",
    "    for s in a:\n",
    "        if s == '0':\n",
    "            t += '1'\n",
    "        else:\n",
    "            t += '0'\n",
    "    return t\n",
    "        \n",
    "\n",
    "def f(i,a,l):\n",
    "    if i <= C:\n",
    "        l += bin(~int(a,2))[3:]\n",
    "        a = l\n",
    "        f(i+1,a,l)\n",
    "\n",
    "    else:\n",
    "        print(l[k-1])\n",
    "\n",
    "f(0,'0','0')"
   ]
  },
  {
   "cell_type": "code",
   "execution_count": 155,
   "metadata": {},
   "outputs": [
    {
     "name": "stdout",
     "output_type": "stream",
     "text": [
      "1\n"
     ]
    }
   ],
   "source": [
    "with open(r'input.txt', 'r') as f:\n",
    "    n = int(f.readline())\n",
    "    k = int(f.readline())\n",
    "# k = 2\n",
    "# n = 2\n",
    "import math\n",
    "C = math.log(k, 2)\n",
    "\n",
    "def f(n,i,line,new_line):\n",
    "    while i <= C:\n",
    "        new_line = ''\n",
    "        i = 0\n",
    "        while i < len(line):\n",
    "            if line[i] == '0':\n",
    "                new_line += '01'\n",
    "            else:\n",
    "                new_line += '10'\n",
    "            i += 1\n",
    "        line = new_line\n",
    "        n -= 1\n",
    "    \n",
    "    print(line[k-1])\n",
    "\n",
    "f(n,0,'0','')"
   ]
  },
  {
   "cell_type": "code",
   "execution_count": 162,
   "metadata": {},
   "outputs": [
    {
     "name": "stdout",
     "output_type": "stream",
     "text": [
      "0\n"
     ]
    }
   ],
   "source": [
    "with open(r'input.txt', 'r') as f:\n",
    "    n = int(f.readline())\n",
    "    k = int(f.readline())\n",
    "# k = 1\n",
    "# n = 1\n",
    "import math\n",
    "C = math.log(k, 2)\n",
    "\n",
    "def f(i,a,l):\n",
    "    for _ in range(int(C)+1):\n",
    "        l += bin(~int(a,2))[3:]\n",
    "        a = l\n",
    "    \n",
    "    print(l[k-1])\n",
    "\n",
    "f(0,'0','0')"
   ]
  },
  {
   "cell_type": "code",
   "execution_count": null,
   "metadata": {},
   "outputs": [],
   "source": [
    "with open(r'input.txt', 'r') as f:\n",
    "    n = int(f.readline())\n",
    "    k = int(f.readline())\n",
    "# k = 1\n",
    "# n = 1\n",
    "import math\n",
    "C = math.log(k, 2)\n",
    "\n",
    "def f(i,a,l):\n",
    "    for _ in range(int(C)+1):\n",
    "        l += bin(2**i - 1 - 2**(i-1))\n",
    "        a = l\n",
    "    \n",
    "    print(l[k-1])\n",
    "\n",
    "f(0,'0','0')"
   ]
  },
  {
   "cell_type": "code",
   "execution_count": 168,
   "metadata": {},
   "outputs": [
    {
     "name": "stdout",
     "output_type": "stream",
     "text": [
      "0b10\n",
      "0b110\n",
      "0b1110\n",
      "0b11110\n"
     ]
    }
   ],
   "source": [
    "a = 1\n",
    "for i in range(2,6):\n",
    "    print(bin(2**i - 1 - a))"
   ]
  },
  {
   "cell_type": "code",
   "execution_count": 3,
   "metadata": {},
   "outputs": [
    {
     "name": "stdout",
     "output_type": "stream",
     "text": [
      "0\n"
     ]
    }
   ],
   "source": [
    "with open(r'input.txt', 'r') as f:\n",
    "    n = int(f.readline())\n",
    "    k = int(f.readline())\n",
    "# k = 1\n",
    "# n = 1\n",
    "# import math\n",
    "# C = math.log(k, 2)\n",
    "\n",
    "\n",
    "F = 0\n",
    "i = 1\n",
    "line = '0'\n",
    "while len(line) < k:\n",
    "    #print(line)\n",
    "    new_line = ''\n",
    "    for i in range(len(line)):\n",
    "        if F == 0:\n",
    "            if line[i] == '0':\n",
    "                new_line += '1'\n",
    "            else:\n",
    "                new_line += '0'\n",
    "            i += 1\n",
    "            F = 1\n",
    "        else:\n",
    "            if line[i] == '1':\n",
    "                new_line += '1'\n",
    "            else:\n",
    "                new_line += '0'\n",
    "            i += 1\n",
    "            F = 0\n",
    "    line += new_line\n",
    "\n",
    "print(line[-1])\n",
    "\n"
   ]
  },
  {
   "cell_type": "code",
   "execution_count": 182,
   "metadata": {},
   "outputs": [
    {
     "data": {
      "text/plain": [
       "'01'"
      ]
     },
     "execution_count": 182,
     "metadata": {},
     "output_type": "execute_result"
    }
   ],
   "source": [
    "line"
   ]
  },
  {
   "cell_type": "code",
   "execution_count": 4,
   "metadata": {},
   "outputs": [
    {
     "data": {
      "text/plain": [
       "41"
      ]
     },
     "execution_count": 4,
     "metadata": {},
     "output_type": "execute_result"
    }
   ],
   "source": [
    "2**5+2**3+1"
   ]
  },
  {
   "cell_type": "code",
   "execution_count": 8,
   "metadata": {},
   "outputs": [
    {
     "data": {
      "text/plain": [
       "'0b1010101001'"
      ]
     },
     "execution_count": 8,
     "metadata": {},
     "output_type": "execute_result"
    }
   ],
   "source": [
    "bin(2**9+2**7+2**5+2**3+1)"
   ]
  },
  {
   "cell_type": "code",
   "execution_count": 7,
   "metadata": {},
   "outputs": [
    {
     "data": {
      "text/plain": [
       "'0b101001'"
      ]
     },
     "execution_count": 7,
     "metadata": {},
     "output_type": "execute_result"
    }
   ],
   "source": [
    "bin(2**5+2**3+1)"
   ]
  },
  {
   "cell_type": "code",
   "execution_count": 41,
   "metadata": {},
   "outputs": [
    {
     "name": "stdout",
     "output_type": "stream",
     "text": [
      "1\n"
     ]
    }
   ],
   "source": [
    "with open(r'input.txt', 'r') as f:\n",
    "    n = int(f.readline())\n",
    "    k = int(f.readline())\n",
    "# k = 8\n",
    "# n = 4\n",
    "\n",
    "def f(val,L):\n",
    "    for ind in reversed(L):\n",
    "        if val == '0':\n",
    "            val = '01'[ind%2-1]\n",
    "        else:\n",
    "            val = '10'[ind%2-1]\n",
    "    print(val)\n",
    "            \n",
    "\n",
    "ind = k \n",
    "L = []\n",
    "while ind >= 1:\n",
    "    L.append(ind)\n",
    "    ind = ind//2 +ind%2  \n",
    "    if ind == 1:\n",
    "        L.append(1)\n",
    "        break\n",
    "    #print(L)\n",
    "    \n",
    "\n",
    "f('0',L)"
   ]
  },
  {
   "cell_type": "code",
   "execution_count": 32,
   "metadata": {},
   "outputs": [
    {
     "data": {
      "text/plain": [
       "[2, 0]"
      ]
     },
     "execution_count": 32,
     "metadata": {},
     "output_type": "execute_result"
    }
   ],
   "source": [
    "with open(r'input.txt', 'r') as f:\n",
    "    n = int(f.readline())\n",
    "    k = int(f.readline())\n",
    "# k = 8\n",
    "# n = 4\n",
    "\n",
    "def f(val,L):\n",
    "    for ind in reversed(L):\n",
    "        if val == '0':\n",
    "            val = '01'[ind%2-1]\n",
    "        else:\n",
    "            val = '10'[ind%2-1]\n",
    "    print(val)\n",
    "            \n",
    "\n",
    "ind = k \n",
    "L = []\n",
    "while ind >= 1:\n",
    "    L.append(ind)\n",
    "    ind = ind//2 +ind%2  \n",
    "    if ind == 1:\n",
    "        L.append(1)\n",
    "        break\n",
    "    #print(L)\n",
    "    \n",
    "\n",
    "f('0',L)"
   ]
  },
  {
   "cell_type": "code",
   "execution_count": 101,
   "metadata": {},
   "outputs": [
    {
     "name": "stdout",
     "output_type": "stream",
     "text": [
      "1\n"
     ]
    }
   ],
   "source": [
    "with open(r'input.txt', 'r') as f:\n",
    "    n = int(f.readline())\n",
    "    k = int(f.readline())\n",
    "# k = 8\n",
    "# n = 4\n",
    "\n",
    "import math\n",
    "C = int(math.log(k, 2))\n",
    "\n",
    "if 2**C < k:\n",
    "    #print('ss')\n",
    "    C += 1\n",
    "\n",
    "def f(ind,i):\n",
    "    if i <= C:\n",
    "        val = f(ind//2+ind%2,i+1)\n",
    "        if val == '0':\n",
    "            val = '01'[ind%2-1]\n",
    "        else:\n",
    "            val = '10'[ind%2-1]\n",
    "    \n",
    "        return val\n",
    "    \n",
    "    return '0' \n",
    "\n",
    "\n",
    "print(f(k,0))"
   ]
  },
  {
   "cell_type": "code",
   "execution_count": 115,
   "metadata": {},
   "outputs": [
    {
     "name": "stdout",
     "output_type": "stream",
     "text": [
      "1\n"
     ]
    }
   ],
   "source": [
    "with open(r'input.txt', 'r') as f:\n",
    "    n = int(f.readline())\n",
    "    k = int(f.readline())\n",
    "# k =2\n",
    "# n = 2\n",
    "\n",
    "# import math\n",
    "# C = int(math.log(k, 2))\n",
    "\n",
    "# if 2**C < k:\n",
    "#     #print('ss')\n",
    "#     C += 1\n",
    "F=0\n",
    "def f(ind,i,F):\n",
    "    if ind >= 1 and F == 0:\n",
    "        if ind == 1:\n",
    "            F = 1\n",
    "\n",
    "        val = f(ind//2+ind%2,i+1,F)\n",
    "\n",
    "        if val == '0':\n",
    "            val = '01'[ind%2-1]\n",
    "        else:\n",
    "            val = '10'[ind%2-1]\n",
    "    \n",
    "        return val\n",
    "    \n",
    "    return '0' \n",
    "\n",
    "\n",
    "print(f(k,0,F))"
   ]
  },
  {
   "cell_type": "code",
   "execution_count": 130,
   "metadata": {},
   "outputs": [
    {
     "name": "stdout",
     "output_type": "stream",
     "text": [
      "0\n"
     ]
    }
   ],
   "source": [
    "# Это решение сдалось\n",
    "with open(r'input.txt', 'r') as f:\n",
    "    n = int(f.readline())\n",
    "    k = int(f.readline())\n",
    "k = 1\n",
    "n = 1\n",
    "\n",
    "def f(ind,F):\n",
    "\n",
    "    if ind >= 1 and F == 0:\n",
    "        \n",
    "        if ind == 1:\n",
    "            F = 1\n",
    "            \n",
    "        val = f(ind//2+ind%2,F)\n",
    "        if val == '0':\n",
    "            val = '01'[ind%2-1]\n",
    "        else:\n",
    "            val = '10'[ind%2-1]\n",
    "        return val\n",
    "    \n",
    "    return '0' \n",
    "\n",
    "\n",
    "print(f(k,0))"
   ]
  },
  {
   "cell_type": "markdown",
   "metadata": {},
   "source": [
    "### K. Корень из двух   \n",
    "\n",
    "В Трешландии своеобразная финансовая система. Из математических операций    \n",
    "используются не только стандартные: +, -, *, / Но также квадратный корень и логарифм.    \n",
    "Так что порой бывает сложно посчитать сдачу в магазине.                                  \n",
    "Феликс и Бенедикт, юные жители Удотинска, пошли в магазин купить капустное мороженное.      \n",
    "Но у кассира бобры сгрызли счеты. Помогите ребятам узнать, сколько им должны дать сдачи.    \n",
    "Напишите функцию, вычисляющую квадратный корень из двух.   \n",
    "\n",
    "Формат вывода                                                                   \n",
    "Выведите значение квадратного корня из двух с точностью 5 знаков после запятой           \n",
    "\n",
    "Примечания                                                                            \n",
    "Функцией, вычисляющей корень, из стандартной библиотеки пользоваться нельзя.        \n",
    "\n"
   ]
  },
  {
   "cell_type": "code",
   "execution_count": 1,
   "metadata": {},
   "outputs": [
    {
     "name": "stdout",
     "output_type": "stream",
     "text": [
      "1.41421\n"
     ]
    }
   ],
   "source": [
    "def f(x,a,k):\n",
    "    if k <= 6:\n",
    "        if x**2 < 2 and a >= 1:\n",
    "            x += a*0.1**k\n",
    "        elif a > 1:\n",
    "            x -= a*0.1**k\n",
    "            a -= 1\n",
    "        else:\n",
    "            x -= a*0.1**k\n",
    "            a = 9\n",
    "            k += 1\n",
    "        return f(x,a,k)\n",
    "    \n",
    "    else:\n",
    "        return x\n",
    "\n",
    "a = 9\n",
    "x = 1\n",
    "k = 1\n",
    "print(str(f(x,a,k))[:7])"
   ]
  },
  {
   "cell_type": "markdown",
   "metadata": {},
   "source": [
    "## Хвостовая рекурсия   "
   ]
  },
  {
   "cell_type": "code",
   "execution_count": 158,
   "metadata": {},
   "outputs": [],
   "source": [
    "# Хвостовая рекурсивная функция\n",
    "def f(x, y):\n",
    "    if y == 0:       \n",
    "        return x\n",
    "\n",
    "    return f(2*x * y, y - 1)"
   ]
  },
  {
   "cell_type": "code",
   "execution_count": 159,
   "metadata": {},
   "outputs": [],
   "source": [
    "# Не хвостовая рекурсивная функция\n",
    "def f(x):\n",
    "    if x == 1:\n",
    "        return 1\n",
    "\n",
    "    y = f(x - 1)\n",
    "    return x * y + 1\n",
    "\n",
    "def factorial(n):\n",
    "    if n == 0 or n == 1:\n",
    "        return 1\n",
    "    return n * factorial(n - 1)"
   ]
  },
  {
   "cell_type": "markdown",
   "metadata": {},
   "source": [
    "### L. Банкомат     \n",
    "\n",
    "Тимофей пошел снять деньги в банкомат. Ему нужно n трешландийских долларов.    \n",
    "В банкомате в бесконечном количестве имеется n монет различных достоинств.    \n",
    "Нужно определить число способов, которыми Тимофей сможет набрать нужную сумму.   \n",
    "\n",
    "Формат ввода                                                                    \n",
    "В первой строке записано m - сумма, которую нужно набрать. Во второй стоке             \n",
    "n - количество монет в банкомате. Оба числа не превосходят 300. Далее в строку           \n",
    "записано n чисел, каждое в диапазоне от 1 до 1000.                    \n",
    "\n",
    "Формат вывода                                                                \n",
    "Нужно вывести число способов, которым Тимофей сможет набрать нужную сумму.           \n",
    "\n",
    "Ввод:   \n",
    "5   \n",
    "3     \n",
    "1 2 3   \n",
    "\n",
    "Вывод:   \n",
    "5   \n",
    "\n",
    "Ввод:     \n",
    "3    \n",
    "2  \n",
    "1 2   \n",
    "\n",
    "Вывод:   \n",
    "2   \n",
    "\n",
    "Ввод:   \n",
    "8  \n",
    "1  \n",
    "5  \n",
    "\n",
    "Вывод:   \n",
    "0"
   ]
  },
  {
   "cell_type": "code",
   "execution_count": 175,
   "metadata": {},
   "outputs": [
    {
     "name": "stdout",
     "output_type": "stream",
     "text": [
      "0\n"
     ]
    }
   ],
   "source": [
    "with open(r'input.txt', 'r') as f:\n",
    "    m = int(f.readline())\n",
    "    n = int(f.readline())\n",
    "    L = [int(x) for x in f.readline().split()]\n",
    "# m = 8\n",
    "# n = 1\n",
    "# L = [5]\n",
    "\n",
    "    \n",
    "def f(summ,i,ch):\n",
    "    if i < n and summ < m:\n",
    "        ch =f(summ,i+1,ch)\n",
    "        summ += L[i]\n",
    "        ch =f(summ, i,ch)\n",
    "        return ch\n",
    "        \n",
    "    if summ == m:\n",
    "        ch += 1\n",
    "    return ch\n",
    "        \n",
    "ch = 0\n",
    "summ = 0\n",
    "i = 0\n",
    "print(f(summ,i,ch))        "
   ]
  },
  {
   "cell_type": "markdown",
   "metadata": {},
   "source": [
    "### M. Земельный участок    \n",
    "\n",
    "Помогите Овощеславу определить максимально возможный размер квадратных участков,   \n",
    "на которые он может разделить свои владения.   \n",
    "\n",
    "Формат ввода                                                                               \n",
    "В первой стоке записана ширина участка, во второй - длина. Оба числа не превосходят 10000.            \n",
    "\n",
    "Формат вывода                                                                                          \n",
    "Нужно вывести максимально возможный размер квадратных участков, на который можно разделить территорию.        \n",
    "\n",
    "Ввод:   \n",
    "15  \n",
    "18  \n",
    "\n",
    "Вывод:   \n",
    "3   \n",
    "\n",
    "Ввод:   \n",
    "2   \n",
    "1   \n",
    "\n",
    "Вывод:   \n",
    "1"
   ]
  },
  {
   "cell_type": "code",
   "execution_count": 183,
   "metadata": {},
   "outputs": [
    {
     "name": "stdout",
     "output_type": "stream",
     "text": [
      "7\n"
     ]
    }
   ],
   "source": [
    "with open(r'input.txt', 'r') as f:\n",
    "    a = int(f.readline())\n",
    "    b = int(f.readline())\n",
    "# a = 7\n",
    "# b = 49\n",
    "\n",
    "def f(a,b):\n",
    "    if a%b != 0:\n",
    "        r = a%b\n",
    "        a = b\n",
    "        b = r\n",
    "        f(a,b)\n",
    "    else:\n",
    "        print(b)\n",
    "f(a,b)    "
   ]
  },
  {
   "cell_type": "code",
   "execution_count": null,
   "metadata": {},
   "outputs": [],
   "source": [
    "def gcd(a, b):\n",
    "    return abs(a) if b == 0 else gcd(b, a % b)"
   ]
  },
  {
   "cell_type": "markdown",
   "metadata": {},
   "source": [
    "### N. Безупречные коэффициенты        \n",
    "\n",
    "По дороге в Удотинск ребятам встретилось поле, на котором местные жители выращивали подорожники.    \n",
    "Поле разделено на одинаковые квадраты. Размер квадратов вычислялся по алгоритму, который     \n",
    "использовал Овощеслав для схожей задачи. Тимофей рассказал друзьям, что, если размер участка    \n",
    "равен a на b, можно найти такие целые числа x и y, что они, будучи умноженными на a и b, в    \n",
    "сумме дадут наибольший общий делитель a и b. Помогите ребятам по двум числам найти их НОД и    \n",
    "коэффициенты его разложения в линейную комбинацию через эти числа.   \n",
    "\n",
    "Формат ввода  \n",
    "В первой строке записана ширина участка, во второй - длина. Оба числа не превосходят 10000.    \n",
    "\n",
    "Формат вывода                                                                             \n",
    "Выведите в строку через пробел 3 числа: коэффициент для a, коэффициент для b в разложении     \n",
    "НОД в линейную комбинацию через a и b, и сам НОД.    \n",
    "\n",
    "Ввод:   \n",
    "8    \n",
    "12   \n",
    "\n",
    "Вывод:   \n",
    "-1 1 4   \n",
    "\n",
    "Ввод:   \n",
    "15   \n",
    "5   \n",
    "\n",
    "Вывод:   \n",
    "0 1 5   \n",
    "\n",
    "Ввод:   \n",
    "2  \n",
    "5  \n",
    "\n",
    "Вывод:   \n",
    "-2 1 1   \n",
    "\n",
    "Примечания   \n",
    "Если a и b равны, то коэффициенты нужно выводить в отсортированном порядке.   \n",
    "Нужно выводить минимальную по модулю пару таких коэффициентов.   \n"
   ]
  },
  {
   "cell_type": "code",
   "execution_count": 205,
   "metadata": {},
   "outputs": [
    {
     "name": "stdout",
     "output_type": "stream",
     "text": [
      "-2 17 3\n",
      "3 -25\n"
     ]
    }
   ],
   "source": [
    "with open(r'input.txt', 'r') as f:\n",
    "    a = int(f.readline())\n",
    "    b = int(f.readline())\n",
    "a = 75\n",
    "b = 9\n",
    "\n",
    "p = 1\n",
    "q = 0\n",
    "r = 0\n",
    "s = 1\n",
    "\n",
    "if a == b:\n",
    "    F = 0\n",
    "else:\n",
    "    F = 1\n",
    "\n",
    "def f(a,b,p,q,r,s):\n",
    "    if not (a == 0 or b == 0):\n",
    "        if a >= b:\n",
    "            a = a - b\n",
    "            p = p - r\n",
    "            q = q - s\n",
    "        else:\n",
    "            b = b - a\n",
    "            r = r - p\n",
    "            s = s - q\n",
    "        f(a,b,p,q,r,s)\n",
    "        \n",
    "    else:\n",
    "        if b == 0:\n",
    "            if F == 0:\n",
    "                x, y = sorted([p,q])\n",
    "            else:\n",
    "                x, y = [p,q]\n",
    "            print(f\"{x} {y} {a}\")\n",
    "            print(r,s)\n",
    "            \n",
    "        else:\n",
    "            if F == 0:\n",
    "                x, y = sorted([r,s])\n",
    "            else:\n",
    "                x, y = [r,s]\n",
    "            x, y = sorted([r,s])\n",
    "            print(f\"{x} {y} {b}\")\n",
    "            print(p,q)\n",
    "            \n",
    "f(a,b,p,q,r,s)            "
   ]
  },
  {
   "cell_type": "code",
   "execution_count": 221,
   "metadata": {},
   "outputs": [
    {
     "name": "stdout",
     "output_type": "stream",
     "text": [
      "-2 1 1\n"
     ]
    }
   ],
   "source": [
    "with open(r'input.txt', 'r') as f:\n",
    "    a = int(f.readline())\n",
    "    b = int(f.readline())\n",
    "# a = 2\n",
    "# b = 5\n",
    "def f(a, b):\n",
    "    if b == 0:\n",
    "        return 1, 0, a\n",
    "    else:\n",
    "        x, y, d = f(b, a % b)\n",
    "        return y, x - y * (a // b), d\n",
    "\n",
    "x, y, d = f(a,b)    \n",
    "print(f'{x} {y} {d}')"
   ]
  },
  {
   "cell_type": "markdown",
   "metadata": {},
   "source": [
    "## Примеры задач на рекурсию   \n"
   ]
  },
  {
   "cell_type": "code",
   "execution_count": 1,
   "metadata": {},
   "outputs": [
    {
     "ename": "NameError",
     "evalue": "name 'arr' is not defined",
     "output_type": "error",
     "traceback": [
      "\u001b[1;31m---------------------------------------------------------------------------\u001b[0m",
      "\u001b[1;31mNameError\u001b[0m                                 Traceback (most recent call last)",
      "\u001b[1;32m<ipython-input-1-9cf0140cded8>\u001b[0m in \u001b[0;36m<module>\u001b[1;34m\u001b[0m\n\u001b[1;32m----> 1\u001b[1;33m \u001b[1;32mdef\u001b[0m \u001b[0mbinarySearch\u001b[0m\u001b[1;33m(\u001b[0m\u001b[0marr\u001b[0m\u001b[1;33m,\u001b[0m \u001b[0mx\u001b[0m\u001b[1;33m,\u001b[0m \u001b[0ml\u001b[0m\u001b[1;33m=\u001b[0m\u001b[1;36m0\u001b[0m\u001b[1;33m,\u001b[0m \u001b[0mr\u001b[0m\u001b[1;33m=\u001b[0m\u001b[0mlen\u001b[0m\u001b[1;33m(\u001b[0m\u001b[0marr\u001b[0m\u001b[1;33m)\u001b[0m\u001b[1;33m-\u001b[0m\u001b[1;36m1\u001b[0m\u001b[1;33m)\u001b[0m\u001b[1;33m:\u001b[0m\u001b[1;33m\u001b[0m\u001b[1;33m\u001b[0m\u001b[0m\n\u001b[0m\u001b[0;32m      2\u001b[0m     \u001b[1;32mif\u001b[0m \u001b[0mr\u001b[0m \u001b[1;33m>=\u001b[0m \u001b[0ml\u001b[0m\u001b[1;33m:\u001b[0m\u001b[1;33m\u001b[0m\u001b[1;33m\u001b[0m\u001b[0m\n\u001b[0;32m      3\u001b[0m         \u001b[0mmid\u001b[0m \u001b[1;33m=\u001b[0m \u001b[0ml\u001b[0m \u001b[1;33m+\u001b[0m \u001b[1;33m(\u001b[0m\u001b[0mr\u001b[0m \u001b[1;33m-\u001b[0m \u001b[0ml\u001b[0m\u001b[1;33m)\u001b[0m \u001b[1;33m//\u001b[0m \u001b[1;36m2\u001b[0m\u001b[1;33m\u001b[0m\u001b[1;33m\u001b[0m\u001b[0m\n\u001b[0;32m      4\u001b[0m \u001b[1;33m\u001b[0m\u001b[0m\n\u001b[0;32m      5\u001b[0m         \u001b[1;32mif\u001b[0m \u001b[0marr\u001b[0m\u001b[1;33m[\u001b[0m\u001b[0mmid\u001b[0m\u001b[1;33m]\u001b[0m \u001b[1;33m==\u001b[0m \u001b[0mx\u001b[0m\u001b[1;33m:\u001b[0m\u001b[1;33m\u001b[0m\u001b[1;33m\u001b[0m\u001b[0m\n",
      "\u001b[1;31mNameError\u001b[0m: name 'arr' is not defined"
     ]
    }
   ],
   "source": [
    "def binarySearch(arr, x, l=0, r=len(arr)-1): \n",
    "    if r >= l: \n",
    "        mid = l + (r - l) // 2\n",
    "\n",
    "        if arr[mid] == x: \n",
    "            return mid \n",
    "\n",
    "        elif arr[mid] > x: \n",
    "            return binarySearch(arr, x, l, mid - 1) \n",
    "\n",
    "        else: \n",
    "            return binarySearch(arr, x, mid + 1, r) \n",
    "    else: \n",
    "        return -1"
   ]
  },
  {
   "cell_type": "code",
   "execution_count": 204,
   "metadata": {},
   "outputs": [
    {
     "data": {
      "text/plain": [
       "1"
      ]
     },
     "execution_count": 204,
     "metadata": {},
     "output_type": "execute_result"
    }
   ],
   "source": [
    "# для массива отсортированноого по убыванию\n",
    "\n",
    "def binarySearch(arr, x, l=0, r=len(arr)-1): \n",
    "    if r >= l: \n",
    "        mid = l + (r - l) // 2\n",
    "\n",
    "        if arr[mid] == x: \n",
    "            return mid \n",
    "\n",
    "        elif arr[mid] < x: \n",
    "            return binarySearch(arr, x, l, mid - 1) \n",
    "\n",
    "        else: \n",
    "            return binarySearch(arr, x, mid + 1, r) \n",
    "    else: \n",
    "        return -1"
   ]
  },
  {
   "cell_type": "code",
   "execution_count": null,
   "metadata": {},
   "outputs": [],
   "source": [
    "# алгоритм быстрого возведения в степень\n",
    "\n",
    "def recursive_power(x, n):\n",
    "    if n == 0:\n",
    "        return 1\n",
    "\n",
    "    if n % 2:\n",
    "        return x * recursive_power(x, n - 1)\n",
    "    else:\n",
    "        m = recursive_power(x, n // 2)\n",
    "        return m * m"
   ]
  },
  {
   "cell_type": "code",
   "execution_count": null,
   "metadata": {},
   "outputs": [],
   "source": [
    "# генерации всех двоичных последовательностей длины n\n",
    "\n",
    "def gen_binary(n, prefix):\n",
    "    if n == 0:\n",
    "        print(prefix)\n",
    "    else:\n",
    "        gen_binary(n - 1, prefix + '0')\n",
    "        gen_binary(n - 1, prefix + '1')"
   ]
  },
  {
   "cell_type": "code",
   "execution_count": null,
   "metadata": {},
   "outputs": [],
   "source": [
    "                            ''\n",
    "                          /     \\\n",
    "                         0       1\n",
    "                        / \\     /  \\\n",
    "                       0   1   0    1\n",
    "                      / \\ / \\ / \\  / \\\n",
    "                     0   10  10  10   1"
   ]
  }
 ],
 "metadata": {
  "kernelspec": {
   "display_name": "Python 3",
   "language": "python",
   "name": "python3"
  },
  "language_info": {
   "codemirror_mode": {
    "name": "ipython",
    "version": 3
   },
   "file_extension": ".py",
   "mimetype": "text/x-python",
   "name": "python",
   "nbconvert_exporter": "python",
   "pygments_lexer": "ipython3",
   "version": "3.7.3"
  }
 },
 "nbformat": 4,
 "nbformat_minor": 2
}
