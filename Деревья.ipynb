{
 "cells": [
  {
   "cell_type": "markdown",
   "metadata": {},
   "source": [
    "# Деревья    "
   ]
  },
  {
   "cell_type": "code",
   "execution_count": 1,
   "metadata": {},
   "outputs": [],
   "source": [
    "class Node:\n",
    "    def __init__(self, value, left=None, right=None):\n",
    "        self.value = value\n",
    "        self.left = left\n",
    "        self.right = right"
   ]
  },
  {
   "cell_type": "markdown",
   "metadata": {},
   "source": [
    "## Обход в глубину"
   ]
  },
  {
   "cell_type": "code",
   "execution_count": 2,
   "metadata": {},
   "outputs": [],
   "source": [
    "class Node :\n",
    "    def __init__ ( self , value , left = None , right = None ):\n",
    "        self.value = value\n",
    "        self.left = left\n",
    "        self.right = right\n",
    "    def __repr__ ( self ):\n",
    "        return str ( self.value )\n",
    "    "
   ]
  },
  {
   "cell_type": "code",
   "execution_count": null,
   "metadata": {},
   "outputs": [],
   "source": [
    "def dfs_post_order ( node , path =[]) :\n",
    "    if node.left :\n",
    "        path = dfs_post_order ( node.left , path )\n",
    "    if node.right :\n",
    "        path = dfs_post_order ( node.right , path )\n",
    "    path += [ node ]\n",
    "    return path\n",
    "# 4, 5, 2, 8, 9, 6, 10, 7, 3, 1"
   ]
  },
  {
   "cell_type": "markdown",
   "metadata": {},
   "source": [
    "<img src=\'images\3.jpg'/>"
   ]
  },
  {
   "cell_type": "code",
   "execution_count": 3,
   "metadata": {},
   "outputs": [],
   "source": [
    "def dfs_pre_order ( node , path =[]) :\n",
    "    path += [ node ]\n",
    "    if node.left :\n",
    "        path = dfs_pre_order ( node.left , path )\n",
    "    if node.right :\n",
    "        path = dfs_pre_order ( node.right , path )\n",
    "    return path\n",
    "# 1, 2, 4, 5, 3, 6, 8, 9, 7, 10."
   ]
  },
  {
   "cell_type": "markdown",
   "metadata": {},
   "source": [
    "<img src=\"3.jpg\">"
   ]
  },
  {
   "cell_type": "code",
   "execution_count": null,
   "metadata": {},
   "outputs": [],
   "source": [
    "def dfs_in_order ( node , path =[]) :\n",
    "    if node . left :\n",
    "        path = dfs_in_order ( node . left , path )\n",
    "    path += [ node ]\n",
    "    if node . right :\n",
    "        path = dfs_in_order ( node . right , path )\n",
    "    return path\n",
    "\n",
    "# 4, 2, 5, 1, 8, 6, 9, 3, 7, 10."
   ]
  },
  {
   "cell_type": "markdown",
   "metadata": {},
   "source": [
    "## Обход в ширину"
   ]
  },
  {
   "cell_type": "code",
   "execution_count": 6,
   "metadata": {},
   "outputs": [
    {
     "data": {
      "text/plain": [
       "[1, 3, 5, 8, 10, -2, 6, 14, 15, 0, 1]"
      ]
     },
     "execution_count": 6,
     "metadata": {},
     "output_type": "execute_result"
    }
   ],
   "source": [
    "class Node:  \n",
    "    def __init__(self, value, left=None, right=None):  \n",
    "        self.value = value  \n",
    "        self.right = right  \n",
    "        self.left = left\n",
    "        \n",
    "    def __repr__ ( self ):\n",
    "        return str(self.value)\n",
    "    \n",
    "s1 = Node(1)\n",
    "s2 = Node(3)\n",
    "s3 = Node(5)\n",
    "s4 = Node(8)\n",
    "s5 = Node(10)\n",
    "s6 = Node(-2)\n",
    "s7 = Node(6)\n",
    "s8 = Node(14)\n",
    "s9 = Node(15)\n",
    "s10 = Node(3)\n",
    "s11 = Node(0)\n",
    "s12 = Node(1)\n",
    "\n",
    "s1.left = s2\n",
    "s1.right = s3\n",
    "s2.left = s4\n",
    "s2.right = s5\n",
    "s4.left = s8\n",
    "s4.right = s9\n",
    "\n",
    "s3.left = s6\n",
    "s3.right = s7\n",
    "s7.left = s11\n",
    "s7.right = s12\n",
    "\n",
    "from collections import deque\n",
    "def bfs(root, path =[]):\n",
    "    q = deque()\n",
    "    q.append(root)\n",
    "    while q:\n",
    "        cur_node = q.popleft()\n",
    "        path.append(cur_node)\n",
    "        if cur_node.left:\n",
    "            q.append(cur_node.left)\n",
    "        if cur_node.right:\n",
    "            q.append(cur_node.right)\n",
    "    return path\n",
    "\n",
    "bfs(s1)\n",
    "\n",
    "# 1, 2, 3, 4, 5, 6, 7, 8, 9, 10"
   ]
  },
  {
   "cell_type": "markdown",
   "metadata": {},
   "source": [
    "<img src=\"3.png\">"
   ]
  },
  {
   "cell_type": "markdown",
   "metadata": {},
   "source": [
    "### A. Бриллианты    \n",
    "\n",
    "У Евлампии есть брошь с бриллиантами в виде дерева. В каждом узле дерева      \n",
    "есть какое-то количество бриллиантов. Помогите выяснить, какое максимальное        \n",
    "количество бриллиантов есть в одном узле. В Трешландии может быть и отрицательное     \n",
    "число драгоценных камней в украшени     \n",
    "\n",
    "Формат вывода                                                           \n",
    "Функция должна вернуть максимальное число бриллиантов в узле дерева.   \n",
    "           \n",
    "Примечания                                                             \n",
    "Решение нужно отправлять в виде файла с расширением соответствующем    \n",
    "вашему языку программирования. Нужно выбирать компилятор make.   \n",
    "Для Java файл должен называться Solution.java                                             \n",
    "Для остальных языков программирования это имя использовать нельзя (имя solution тоже).   \n",
    "\n",
    "<img src=\"3.png\">"
   ]
  },
  {
   "cell_type": "code",
   "execution_count": 10,
   "metadata": {},
   "outputs": [],
   "source": [
    "class Node:  \n",
    "    def __init__(self, value, left=None, right=None):  \n",
    "        self.value = value  \n",
    "        self.right = right  \n",
    "        self.left = left\n",
    "        \n",
    "    def __repr__ ( self ):\n",
    "        return str(self.value)\n",
    "\n",
    "s1 = Node(1)\n",
    "s2 = Node(3)\n",
    "s3 = Node(5)\n",
    "s4 = Node(8)\n",
    "s5 = Node(10)\n",
    "s6 = Node(-2)\n",
    "s7 = Node(6)\n",
    "s8 = Node(14)\n",
    "s9 = Node(15)\n",
    "s10 = Node(3)\n",
    "s11 = Node(0)\n",
    "s12 = Node(1)\n",
    "\n",
    "s1.left = s2\n",
    "s1.right = s3\n",
    "s2.left = s4\n",
    "s2.right = s5\n",
    "s4.left = s8\n",
    "s4.right = s9\n",
    "\n",
    "s3.left = s6\n",
    "s3.right = s7\n",
    "s7.left = s11\n",
    "s7.right = s12"
   ]
  },
  {
   "cell_type": "code",
   "execution_count": 11,
   "metadata": {},
   "outputs": [
    {
     "data": {
      "text/plain": [
       "15"
      ]
     },
     "execution_count": 11,
     "metadata": {},
     "output_type": "execute_result"
    }
   ],
   "source": [
    "def dfs_post_order(node , path =[]) :\n",
    "    if node.left :\n",
    "        path = dfs_post_order(node.left, path)\n",
    "    if node.right :\n",
    "        path = dfs_post_order(node.right , path)\n",
    "    path += [ node.value ]\n",
    "    return path\n",
    "\n",
    "def solution(s1):\n",
    "    return max(dfs_post_order(s1))\n",
    "    \n",
    "solution(s1)"
   ]
  },
  {
   "cell_type": "code",
   "execution_count": 14,
   "metadata": {},
   "outputs": [
    {
     "data": {
      "text/plain": [
       "15"
      ]
     },
     "execution_count": 14,
     "metadata": {},
     "output_type": "execute_result"
    }
   ],
   "source": [
    "# Поиск MAX по ходу рекурсии\n",
    "\n",
    "def solution(node,max_value=None):\n",
    "    if not max_value:\n",
    "        max_value = node.value\n",
    "    if node.left:\n",
    "        max_value = solution(node.left, max_value)\n",
    "    if node.right:\n",
    "        max_value = solution(node.right, max_value)\n",
    "    if node.value > max_value:\n",
    "        max_value = node.value\n",
    "    return max_value\n",
    "solution(s1)        "
   ]
  },
  {
   "cell_type": "code",
   "execution_count": null,
   "metadata": {},
   "outputs": [],
   "source": []
  },
  {
   "cell_type": "code",
   "execution_count": null,
   "metadata": {},
   "outputs": [],
   "source": []
  },
  {
   "cell_type": "markdown",
   "metadata": {},
   "source": [
    "### E. Деревья - близнецы   \n",
    "Евлампии на день рождения подарили два дерева. Кондратий сказал,      \n",
    "что они совершенно одинаковые. Но, по мнению Евлампии, они отличаются.    \n",
    "Помогите разрешить семейный спор!   \n",
    "\n",
    "<img src=\"4.png\">"
   ]
  },
  {
   "cell_type": "code",
   "execution_count": 1,
   "metadata": {},
   "outputs": [],
   "source": [
    "class Node:  \n",
    "    def __init__(self, value, left=None, right=None):  \n",
    "        self.value = value  \n",
    "        self.right = right  \n",
    "        self.left = left\n",
    "        \n",
    "    def __repr__ ( self ):\n",
    "        return str(self.value)"
   ]
  },
  {
   "cell_type": "code",
   "execution_count": 4,
   "metadata": {},
   "outputs": [],
   "source": [
    "def dfs_post_order(node, T, path =[]) :\n",
    "    if node.left :\n",
    "        path = dfs_post_order(node.left, T+\"l\", path)\n",
    "    if node.right :\n",
    "        path = dfs_post_order(node.right, T+'r', path)\n",
    "    path += [\"{}+{}\".format(node.value, T)]\n",
    "    \n",
    "    return path\n",
    "\n",
    "def solution(s1, s2):\n",
    "    T = ''\n",
    "    TT = ''\n",
    "    return dfs_post_order(s1,T,path=[]) == dfs_post_order(s2,TT,path=[])"
   ]
  },
  {
   "cell_type": "code",
   "execution_count": 5,
   "metadata": {},
   "outputs": [
    {
     "data": {
      "text/plain": [
       "False"
      ]
     },
     "execution_count": 5,
     "metadata": {},
     "output_type": "execute_result"
    }
   ],
   "source": [
    "s1 = Node(1)\n",
    "s1.left = Node(2)\n",
    "\n",
    "s2 = Node(1)\n",
    "s2.right = Node(2)\n",
    "\n",
    "solution(s1,s2)"
   ]
  },
  {
   "cell_type": "code",
   "execution_count": 21,
   "metadata": {},
   "outputs": [
    {
     "name": "stdout",
     "output_type": "stream",
     "text": [
      "2\n"
     ]
    }
   ],
   "source": [
    "print(s1.left)"
   ]
  },
  {
   "cell_type": "code",
   "execution_count": 22,
   "metadata": {},
   "outputs": [
    {
     "data": {
      "text/plain": [
       "['2l', '1']"
      ]
     },
     "execution_count": 22,
     "metadata": {},
     "output_type": "execute_result"
    }
   ],
   "source": [
    "dfs_post_order(s1,'',path=[])"
   ]
  },
  {
   "cell_type": "code",
   "execution_count": 23,
   "metadata": {},
   "outputs": [
    {
     "data": {
      "text/plain": [
       "['2r', '1']"
      ]
     },
     "execution_count": 23,
     "metadata": {},
     "output_type": "execute_result"
    }
   ],
   "source": [
    "dfs_post_order(s2,'',path=[])"
   ]
  },
  {
   "cell_type": "markdown",
   "metadata": {},
   "source": [
    "### C. Генеалогическое древо    \n",
    "\n",
    "Гуляя по вилле Кондратия, ребята нашли генеалогическое древо его семьи.   \n",
    "Им стало интересно, сколько лет прожили члены семьи разных поколений.   \n",
    "Помогите ребятам это выяснить.   \n",
    "\n",
    "<img src=\"5.png\">"
   ]
  },
  {
   "cell_type": "code",
   "execution_count": 12,
   "metadata": {},
   "outputs": [
    {
     "data": {
      "text/plain": [
       "[[1], [3, 5], [8, 10, -2, 6], [14, 15, 3, 0, 1]]"
      ]
     },
     "execution_count": 12,
     "metadata": {},
     "output_type": "execute_result"
    }
   ],
   "source": [
    "class Node:  \n",
    "    def __init__(self, value, left=None, right=None):  \n",
    "        self.value = value  \n",
    "        self.right = right  \n",
    "        self.left = left\n",
    "        \n",
    "    def __repr__ ( self ):\n",
    "        return str(self.value)\n",
    "    \n",
    "\n",
    "\n",
    "from collections import deque\n",
    "def bfs(root, path =[]):\n",
    "    q = deque()\n",
    "    i = 0\n",
    "    level = []\n",
    "    q.append([root,i])\n",
    "    \n",
    "    while q:\n",
    "        cur_node = q.popleft()\n",
    "        if cur_node[1] != i:\n",
    "            i += 1\n",
    "            path.append(level)\n",
    "            level = []\n",
    "            \n",
    "        level.append(cur_node[0])\n",
    "        if cur_node[0].left:\n",
    "            q.append([cur_node[0].left,i+1])\n",
    "        if cur_node[0].right:\n",
    "            q.append([cur_node[0].right,i+1])\n",
    "            \n",
    "    path.append(level)\n",
    "          \n",
    "    return path\n",
    "\n",
    "def solution(s):\n",
    "    return bfs(s,path=[])\n",
    "\n",
    "\n",
    "#solution(s1)"
   ]
  },
  {
   "cell_type": "code",
   "execution_count": null,
   "metadata": {},
   "outputs": [],
   "source": [
    "s1 = Node(1)\n",
    "s2 = Node(3)\n",
    "s3 = Node(5)\n",
    "s4 = Node(8)\n",
    "s5 = Node(10)\n",
    "s6 = Node(-2)\n",
    "s7 = Node(6)\n",
    "s8 = Node(14)\n",
    "s9 = Node(15)\n",
    "s10 = Node(3)\n",
    "s11 = Node(0)\n",
    "s12 = Node(1)\n",
    "\n",
    "s1.left = s2\n",
    "s1.right = s3\n",
    "s2.left = s4\n",
    "s2.right = s5\n",
    "s4.left = s8\n",
    "s4.right = s9\n",
    "s5.right = s10\n",
    "\n",
    "s3.left = s6\n",
    "s3.right = s7\n",
    "s7.left = s11\n",
    "s7.right = s12"
   ]
  },
  {
   "cell_type": "code",
   "execution_count": null,
   "metadata": {},
   "outputs": [],
   "source": [
    "# Константин\n",
    "\n",
    "def solution(root, result=[]):\n",
    "    main_list = [root]\n",
    "    result.append([root.value])\n",
    "    while main_list:\n",
    "        children = []\n",
    "        for node in main_list:\n",
    "            if node.left:\n",
    "                children.append(node.left)\n",
    "            if node.right:\n",
    "                children.append(node.right)\n",
    "        main_list = []\n",
    "        if children:\n",
    "            result.append([node.value for node in children])\n",
    "            main_list.extend(children)\n",
    "    return result"
   ]
  },
  {
   "cell_type": "markdown",
   "metadata": {},
   "source": [
    "<img src=\"3.png\">"
   ]
  },
  {
   "cell_type": "markdown",
   "metadata": {},
   "source": [
    "### D. Дерево - анаграмма    \n",
    "\n",
    "Кондратий приказал найти в его лесу дерево - анаграмму. Гоша и Алла отправились на поиски.    \n",
    "Помогите ребятам определить, является ли дерево, которое они нашли деревом - анаграммой?   \n",
    "Дерево является анаграммой, если оно симметричное относительно своего центра.   \n",
    "\n",
    "<img src=\"4.jpg\">  \n",
    "\n",
    "Формат ввода                                                             \n",
    "Напишите функцию, которая определяет, является ли дерево анаграммой.    \n",
    "На вход подается корень дерева.   \n",
    "\n",
    "Python:     \n",
    "    \n",
    "class Node:                                                 \n",
    "    def __init__(self, value, left=None, right=None):    \n",
    "        self.value = value    \n",
    "        self.right = right    \n",
    "        self.left = left  \n",
    "Ваша функция должна иметь сигнатуру solution(root: Node) -> bool.    \n",
    "\n",
    "Формат вывода   \n",
    "Функция должна вернуть True если дерево является анаграммой. Иначе - False   \n",
    "\n",
    "Примечания                                                                                         \n",
    "Решение нужно отправлять в виде файла с расширением соответствующем вашему языку программирования.   \n",
    "Нужно выбирать компилятор make.              \n",
    "Для Java файл должен называться Solution.java                                               \n",
    "Для остальных языков программирования это имя использовать нельзя (имя solution тоже)."
   ]
  },
  {
   "cell_type": "code",
   "execution_count": 3,
   "metadata": {},
   "outputs": [],
   "source": [
    "class Node:  \n",
    "    def __init__(self, value, left=None, right=None):  \n",
    "        self.value = value  \n",
    "        self.right = right  \n",
    "        self.left = left\n",
    "        \n",
    "    def __repr__ ( self ):\n",
    "        return str(self.value)\n",
    "    \n",
    "\n",
    "\n",
    "from collections import deque\n",
    "def bfs(root, path =[]):\n",
    "    q = deque()\n",
    "    i = 0\n",
    "    level = []\n",
    "    q.append([root,i])\n",
    "    \n",
    "    while q:\n",
    "        cur_node = q.popleft()\n",
    "        if cur_node[1] != i:\n",
    "            i += 1\n",
    "            path.append(level)\n",
    "            level = []\n",
    "        if cur_node[0] != None:        \n",
    "            level.append(cur_node[0].value)\n",
    "            if cur_node[0].left:\n",
    "                q.append([cur_node[0].left,i+1])\n",
    "            if cur_node[0].right:\n",
    "                q.append([cur_node[0].right,i+1])\n",
    "                   \n",
    "    path.append(level)\n",
    "          \n",
    "    return path\n",
    "\n",
    "def solution(s):\n",
    "    s1 = s.left\n",
    "    s2 = s.right\n",
    "    l1 = bfs(s1,path=[])\n",
    "    l2 = bfs(s2,path=[])\n",
    "    \n",
    "    def f(x):\n",
    "        x.reverse()\n",
    "        return x\n",
    "    l1 = list(map(f,l1))\n",
    "      \n",
    "\n",
    "    return l1 == l2\n",
    "        \n",
    "\n",
    "#1\n",
    "#0 1 None None"
   ]
  },
  {
   "cell_type": "code",
   "execution_count": 4,
   "metadata": {},
   "outputs": [
    {
     "data": {
      "text/plain": [
       "False"
      ]
     },
     "execution_count": 4,
     "metadata": {},
     "output_type": "execute_result"
    }
   ],
   "source": [
    "s = Node(1)\n",
    "s.left = Node(0)\n",
    "s.right = Node(1)\n",
    "solution(s)"
   ]
  },
  {
   "cell_type": "code",
   "execution_count": 74,
   "metadata": {},
   "outputs": [
    {
     "data": {
      "text/plain": [
       "True"
      ]
     },
     "execution_count": 74,
     "metadata": {},
     "output_type": "execute_result"
    }
   ],
   "source": [
    "s = Node(1)\n",
    "d1 = Node(2)\n",
    "d2 = Node(2)\n",
    "d3 = Node(3)\n",
    "d4 = Node(4)\n",
    "d5 = Node(3)\n",
    "d6 = Node(4)\n",
    "\n",
    "s.left = d1\n",
    "s.right = d2\n",
    "d1.left = d4\n",
    "d1.right = d3\n",
    "d2.left = d5\n",
    "d2.right = d6\n",
    "\n",
    "solution(s)"
   ]
  },
  {
   "cell_type": "code",
   "execution_count": 34,
   "metadata": {},
   "outputs": [
    {
     "data": {
      "text/plain": [
       "False"
      ]
     },
     "execution_count": 34,
     "metadata": {},
     "output_type": "execute_result"
    }
   ],
   "source": [
    "[[2], [4, 3]]==[[2], [3, 4]]\n"
   ]
  },
  {
   "cell_type": "code",
   "execution_count": 15,
   "metadata": {},
   "outputs": [],
   "source": [
    "q = [1,2,3]\n",
    "q.reverse()"
   ]
  },
  {
   "cell_type": "code",
   "execution_count": 16,
   "metadata": {},
   "outputs": [
    {
     "data": {
      "text/plain": [
       "[3, 2, 1]"
      ]
     },
     "execution_count": 16,
     "metadata": {},
     "output_type": "execute_result"
    }
   ],
   "source": [
    "q"
   ]
  },
  {
   "cell_type": "markdown",
   "metadata": {},
   "source": [
    "### B. Сбалансированное дерево    \n",
    "\n",
    "Гоше очень понравилось слушать рассказ Тимофея про деревья. Особенно часть   \n",
    "про сбалансированные деревья. Он решил написать функцию, которая определяет,     \n",
    "сбалансировано ли дерево. Дерево считается сбалансированным, если левое и правое    \n",
    "поддеревья каждого узла отличаются по высоте не больше, чем на один   \n",
    "\n",
    "<img src=\"5.jpg\">  \n",
    "\n",
    "\n",
    "Формат ввода                                         \n",
    "На вход функции подается корень бинарного дерева.  \n",
    "\n",
    "Python:          \n",
    "    \n",
    "class Node:                                                \n",
    "    def __init__(self, value, left=None, right=None):            \n",
    "        self.value = value               \n",
    "        self.right = right               \n",
    "        self.left = left                                           \n",
    "Ваша функция должна иметь сигнатуру solution(Node root) -> bool.                 \n",
    "\n",
    "Формат вывода                                                              \n",
    "Функция должна вернуть True, если дерево сбалансировано в соответствии            \n",
    "с критерием из условия, иначе - False.               \n",
    "\n",
    "Примечания                                                                      \n",
    "Решение нужно отправлять в виде файла с расширением соответствующем вашему               \n",
    "языку программирования. Нужно выбирать компилятор make.                   \n",
    "Для Java файл должен называться Solution.java                                               \n",
    "Для остальных языков программирования это имя использовать нельзя (имя solution тоже)          "
   ]
  },
  {
   "cell_type": "code",
   "execution_count": 79,
   "metadata": {},
   "outputs": [
    {
     "data": {
      "text/plain": [
       "False"
      ]
     },
     "execution_count": 79,
     "metadata": {},
     "output_type": "execute_result"
    }
   ],
   "source": [
    "class Node:  \n",
    "    def __init__(self, value, left=None, right=None):  \n",
    "        self.value = value  \n",
    "        self.right = right  \n",
    "        self.left = left\n",
    "        \n",
    "    def __repr__ ( self ):\n",
    "        return str(self.value)\n",
    "    \n",
    "\n",
    "def depth(s):\n",
    "    if s != None:\n",
    "        left_depth = depth(s.left) if s.left else 0\n",
    "        right_depth = depth(s.right) if s.right else 0\n",
    "        return max(left_depth, right_depth) + 1\n",
    "    else:\n",
    "        return 0\n",
    "    \n",
    "from collections import deque\n",
    "def bfs(root, path =[]):\n",
    "    q = deque()\n",
    "    i = 0\n",
    "    level = []\n",
    "    q.append([root,i])\n",
    "    \n",
    "    while q:\n",
    "        cur_node = q.popleft()\n",
    "        if cur_node[1] != i:\n",
    "            i += 1\n",
    "           \n",
    "            for x in level:\n",
    "                if abs(depth(x.left) - depth(x.right)) <= 1:\n",
    "                    continue\n",
    "                else:\n",
    "                    return False\n",
    "            level = []\n",
    "            \n",
    "        level.append(cur_node[0])\n",
    "        if cur_node[0].left:\n",
    "            q.append([cur_node[0].left,i+1])\n",
    "        if cur_node[0].right:\n",
    "            q.append([cur_node[0].right,i+1])\n",
    "                           \n",
    "    return True\n",
    "\n",
    "# s = Node(1)\n",
    "# s.left = Node(2)\n",
    "# s1 = Node(0)\n",
    "# s.right = s1\n",
    "# s1.right = Node(6)\n",
    "# s2 = Node(3)\n",
    "# s1.left = s2\n",
    "# s2.left = Node(12)\n",
    "\n",
    "\n",
    "def solution(s):\n",
    "    return (bfs(s))\n",
    "solution(s)    "
   ]
  },
  {
   "cell_type": "code",
   "execution_count": null,
   "metadata": {},
   "outputs": [],
   "source": [
    "# Констанин\n",
    "\n",
    "def height(root):\n",
    "    if root is None:\n",
    "        return 0\n",
    "    left_height = height(root.left)\n",
    "    right_height = height(root.right)\n",
    "    return max(left_height, right_height) + 1\n",
    "def solution(root):\n",
    "    if root is None:\n",
    "        return True\n",
    "    left_height = height(root.left)\n",
    "    right_height = height(root.right)\n",
    "    return (abs(right_height - left_height) <= 1 and\n",
    "            solution(root.left) and solution(root.right)\n",
    "            )"
   ]
  },
  {
   "cell_type": "markdown",
   "metadata": {},
   "source": [
    "### F. Вид слева   \n",
    "\n",
    "Прабабке Кондратия уже 182 года. Домна Тарасовна часто любит выходить в сад погулять.    \n",
    "Сегодня, выходя на прогулку, она забыла очки, без которых почти ничего не видит.    \n",
    "Но она может прекрасно ориентироваться при помощи трости. Ей она и определила,    \n",
    "что приближается к дереву. Что бы увидела баба Домна, если бы не забыла очки?   \n",
    "\n",
    "<img src=\"6.jpg\">  \n",
    "\n",
    "Формат ввода                                                              \n",
    "Напишите функцию, которая определяет, что перед бабушкой Кондратия.   \n",
    "\n",
    "Python:   \n",
    "\n",
    "class Node:                                              \n",
    "    def __init__(self, value, left=None, right=None):     \n",
    "        self.value = value     \n",
    "        self.right = right     \n",
    "        self.left = left   \n",
    "Ваша функция должна иметь сигнатуру solution(root: Node) -> int[].    \n",
    "\n",
    "Формат вывода                                                 \n",
    "Функция должна вернуть список вершин дерева, которые видны,   \n",
    "если Домна Тарасовна подошла к нему слева.   \n",
    "\n",
    "Примечания                                                                    \n",
    "Решение нужно отправлять в виде файла с расширением соответствующем вашему   \n",
    "языку программирования. Нужно выбирать компилятор make.   \n",
    "Для Java файл должен называться Solution.java                                   \n",
    "Для остальных языков программирования это имя использовать нельзя (имя solutiotion тоже)"
   ]
  },
  {
   "cell_type": "code",
   "execution_count": 90,
   "metadata": {},
   "outputs": [],
   "source": [
    "class Node:  \n",
    "    def __init__(self, value, left=None, right=None):  \n",
    "        self.value = value  \n",
    "        self.right = right  \n",
    "        self.left = left\n",
    "        \n",
    "    def __repr__ ( self ):\n",
    "        return str(self.value)\n",
    "    \n",
    "\n",
    "\n",
    "from collections import deque\n",
    "def bfs(root, path =[]):\n",
    "    q = deque()\n",
    "    i = 0\n",
    "    level = []\n",
    "    q.append([root,i])\n",
    "    \n",
    "    while q:\n",
    "        cur_node = q.popleft()\n",
    "        if cur_node[1] != i:\n",
    "            i += 1\n",
    "            path.append(level)\n",
    "            level = []\n",
    "            \n",
    "        level.append(cur_node[0].value)\n",
    "        if cur_node[0].left:\n",
    "            q.append([cur_node[0].left,i+1])\n",
    "        if cur_node[0].right:\n",
    "            q.append([cur_node[0].right,i+1])\n",
    "                   \n",
    "    path.append(level)\n",
    "          \n",
    "    return path\n",
    "\n",
    "# s = Node(1)\n",
    "# s2 = Node(2)\n",
    "# s3 = Node(3)\n",
    "# s4 = Node(8)\n",
    "# s5 = Node(10)\n",
    "# s.left = s2\n",
    "# s.right = s3\n",
    "\n",
    "# s2.left = Node(4)\n",
    "# s2.right = Node(5)\n",
    "\n",
    "# s3.left = s4\n",
    "# s3.right = s5\n",
    "\n",
    "# s4.left = Node(17)\n",
    "# s5.right = Node(14)\n",
    "\n",
    "def solution(s):\n",
    "    L = bfs(s,path=[])\n",
    "    LL = []\n",
    "    #print(L)\n",
    "    for x in L:\n",
    "        LL.append(x[0])\n",
    "    return LL\n"
   ]
  },
  {
   "cell_type": "code",
   "execution_count": 91,
   "metadata": {},
   "outputs": [
    {
     "data": {
      "text/plain": [
       "[1, 2, 4, 17]"
      ]
     },
     "execution_count": 91,
     "metadata": {},
     "output_type": "execute_result"
    }
   ],
   "source": [
    "solution(s)"
   ]
  },
  {
   "cell_type": "markdown",
   "metadata": {},
   "source": [
    "### G. Минимальные суммы   \n",
    "\n",
    "Даны 2 массива, отсортированные по неубыванию, а также число k. Нужно определить пары,    \n",
    "которые имеют наименьшую сумму. При этом пара должна состоять из одного элемента первого    \n",
    "массива, и одного элемента второго. Нужно найти k таких пар с наименьшей суммой.   \n",
    "\n",
    "Формат ввода                                              \n",
    "В первой строке записано число n1 - длина первого массива.       \n",
    "Во второй строке через пробел записаны числа первого массива.   \n",
    "Далее записано число n2 - длина втрого массива.                 \n",
    "В четвертой строке через пробел записаны числа второго массива.   \n",
    "В последней строке записано число k.                                \n",
    "n1 и n2 не превосходят 1000, числа в массивах не превосходят 3000.   \n",
    "k не превосходит число возможных пар.              \n",
    "\n",
    "Формат вывода                                                                   \n",
    "Нужно вывести получившиеся пары в отсортированном порядке, каждую через пробел          \n",
    "в отдельной строке. Числа внутри пары также должны быть отсортированы. Общая           \n",
    "сортировка выполняется для уже отсортированных пар.              \n",
    "\n",
    "Ввод:   \n",
    "3     \n",
    "1 7 11   \n",
    "3     \n",
    "2 4 6   \n",
    "3   \n",
    "\n",
    "Вывод:      \n",
    "1 2   \n",
    "1 4   \n",
    "1 6   \n",
    "\n",
    "Ввод:   \n",
    "2    \n",
    "1 2   \n",
    "1   \n",
    "3   \n",
    "2   \n",
    "\n",
    "Вывод:     \n",
    "1 3    \n",
    "2 3   \n",
    "\n",
    "Ввод:  \n",
    "3     \n",
    "1 1 2   \n",
    "3        \n",
    "1 2 3    \n",
    "2   \n",
    "\n",
    "Вывод:     \n",
    "1 1    \n",
    "1 1   \n",
    "\n",
    "Примечания                                                                       \n",
    "Если на границу k попадают значения с одинаковой суммой, нужно выводить пару,    \n",
    "соответствующую элементу, который имеет меньший индекс с первом массиве.   \n",
    "\n",
    "\n",
    "\n"
   ]
  },
  {
   "cell_type": "code",
   "execution_count": 36,
   "metadata": {},
   "outputs": [
    {
     "name": "stdout",
     "output_type": "stream",
     "text": [
      "3 3\n",
      "3 9\n",
      "3 13\n",
      "3 16\n",
      "3 16\n",
      "3 19\n",
      "3 19\n",
      "3 21\n",
      "3 21\n",
      "3 22\n",
      "3 22\n",
      "3 22\n",
      "3 22\n",
      "3 22\n",
      "3 29\n",
      "9 13\n",
      "9 22\n",
      "9 22\n",
      "9 22\n",
      "9 22\n",
      "13 16\n",
      "13 16\n",
      "13 19\n",
      "13 19\n",
      "13 21\n",
      "13 21\n",
      "13 22\n",
      "16 22\n",
      "16 22\n",
      "16 22\n",
      "16 22\n",
      "16 22\n",
      "16 22\n",
      "16 22\n",
      "16 22\n"
     ]
    }
   ],
   "source": [
    "n = int(input())\n",
    "L = [int(x) for x in input().split()]\n",
    "m = int(input())\n",
    "M = [int(x) for x in input().split()]\n",
    "k = int(input())\n",
    "\n",
    "# n = 7\n",
    "# L = [3, 13, 22, 22, 22, 22, 29]\n",
    "# m = 9\n",
    "# M = [3, 9, 16, 16, 19, 19, 21, 21, 22]\n",
    "# k = 35\n",
    "\n",
    "W = []\n",
    "for i,x in enumerate(L):\n",
    "    for y in M:\n",
    "        W.append([[x,y],x+y,i])\n",
    "        \n",
    "W.sort(key=lambda x: (x[1],x[2]))\n",
    "\n",
    "W = [sorted(W[i][0]) for i in range(n*m) if i < k]\n",
    "W.sort(key=lambda x: (x[0],x[1]))\n",
    "\n",
    "for x in W:\n",
    "    print(' '.join(list(map(str,x))))"
   ]
  },
  {
   "cell_type": "code",
   "execution_count": null,
   "metadata": {},
   "outputs": [],
   "source": [
    "# РЕШЕНИЕ С ПОМОЩЬЮ КУЧИ\n",
    "\n",
    "#не до конца верное решение\n",
    "\n",
    "import heapq\n",
    "n = int(input())\n",
    "lst_1 = list(map(int,input().split()))\n",
    "n = int(input())\n",
    "lst_2 = list(map(int,input().split()))\n",
    "#\n",
    "k = int(input())\n",
    "qwer=[]\n",
    "for i in range(len(lst_1)):\n",
    "    for j in range(len(lst_2)):\n",
    "        res = [abs((lst_1[i] + lst_2[j])), [lst_1[i], lst_2[j]]]\n",
    "        qwer.append(res)\n",
    "heapq.heapify(qwer)\n",
    "qw =[]\n",
    "for i in range(k):\n",
    "    tmp = heapq.heappop(qwer)[1]\n",
    "    qw.append(tmp)\n",
    "for i in qw:\n",
    "    if i[0] > i[1]:\n",
    "        i[0], i[1] = i[1], i[0]\n",
    "qw = sorted(qw)\n",
    "for i in qw:\n",
    "    print(*i)\n",
    "    \n",
    "#работает,но сортировку их конца я не убрал"
   ]
  },
  {
   "cell_type": "markdown",
   "metadata": {},
   "source": [
    "### H. Разность треш-индексов     \n",
    "\n",
    "Кондратий захотел выяснить k - ю минимальную разницу между   \n",
    "значениями треш-индексов городов Трешландии.   \n",
    "\n",
    "Формат ввода    \n",
    "В первой строке записано n - число городов, для которых известно значение треш-индекса.   \n",
    "n не превосходит 10000. В следующей строке через пробел записаны n значений    \n",
    "треш - индекса, каждое из которых не превосходит 1000000.                              \n",
    "В последней строке задано число k. Оно находится в диапазоне от 1 до n * (n - 1) / 2.   \n",
    "\n",
    "Формат вывода                     \n",
    "Выведите k - ую минимальную разницу между парами значений треш - индексов.  \n",
    "\n",
    "Ввод:  \n",
    "3       \n",
    "2 3 4  \n",
    "2  \n",
    "\n",
    "Вывод:  \n",
    "1   \n",
    "\n",
    "Ввод:  \n",
    "3     \n",
    "1 3 1  \n",
    "1   \n",
    "\n",
    "\n",
    "Вывод:  \n",
    "0\n",
    "\n",
    "Ввод:  \n",
    "3     \n",
    "1 3 5  \n",
    "3  \n",
    "\n",
    "\n",
    "Вывод:  \n",
    "\n",
    "4\n",
    "\n",
    "\n"
   ]
  },
  {
   "cell_type": "code",
   "execution_count": 21,
   "metadata": {},
   "outputs": [
    {
     "name": "stdout",
     "output_type": "stream",
     "text": [
      "[4, 1, 1]\n",
      "4\n"
     ]
    }
   ],
   "source": [
    "#n = int(input())\n",
    "#L = [int(x) for x in input().split()]\n",
    "#k = int(input())\n",
    "\n",
    "n = 4\n",
    "L = [9,6,10,3]\n",
    "k = 3\n",
    "\n",
    "n = 3\n",
    "L = [1,3,5]\n",
    "k = 3\n",
    "\n",
    "n = 5\n",
    "L = [7, 3, 8, 9, 10]\n",
    "k = 3 \n",
    "\n",
    "\n",
    "L.sort()\n",
    "def f(L,n):\n",
    "    ans = []\n",
    "    r = 0\n",
    "    for z in range(1,n):\n",
    "        for i in range(n):\n",
    "            #print(f'z={z}, i={i}')\n",
    "            if r == k:\n",
    "                #ans.append(L[i+z]-L[i])\n",
    "                print(ans)\n",
    "                return sorted(ans)[-1]\n",
    "            else:\n",
    "                if i + z >= n:\n",
    "                    break\n",
    "                ans.append(L[i+z]-L[i])\n",
    "                r += 1\n",
    "\n",
    "                      \n",
    "print(f(L,n))"
   ]
  },
  {
   "cell_type": "code",
   "execution_count": 11,
   "metadata": {},
   "outputs": [
    {
     "name": "stdout",
     "output_type": "stream",
     "text": [
      "6\n",
      "27 67 3 4 17 98\n",
      "7\n",
      "[]\n",
      "[1]\n",
      "[1, 13]\n",
      "[1, 10, 13]\n",
      "[1, 10, 13, 40]\n",
      "[1, 10, 13, 31, 40]\n",
      "[1, 10, 13, 14, 31, 40]\n",
      "[1, 10, 13, 14, 23, 31, 40]\n",
      "[1, 10, 13, 14, 23, 31, 40, 50]\n",
      "40\n"
     ]
    }
   ],
   "source": [
    "n = 5\n",
    "L = [7, 3, 8, 9, 10]\n",
    "k = 3\n",
    "\n",
    "# n = 3\n",
    "# L = [1,3,5]\n",
    "# k = 3\n",
    "\n",
    "n = 4\n",
    "L = [9,6,10,3]\n",
    "k = 3\n",
    "\n",
    "# n=3\n",
    "# L=[2,3,4]\n",
    "# k = 2\n",
    "\n",
    "n = int(input())\n",
    "L = [int(x) for x in input().split()]\n",
    "k = int(input())\n",
    "\n",
    "L.sort()\n",
    "def f(L,n):\n",
    "    ans = []\n",
    "    r = 0\n",
    "    z = 1\n",
    "    F = 0\n",
    "    while z <= n-1:\n",
    "        for i in range(n-z):\n",
    "            if r < k:\n",
    "                print(sorted(ans))\n",
    "                ans.append(L[i+z]-L[i])\n",
    "                r += 1\n",
    "            elif r == k:\n",
    "                F = 1\n",
    "                print(sorted(ans))\n",
    "                ans.append(L[i+z]-L[i])\n",
    "\n",
    "        if F == 1:    \n",
    "            return  sorted(ans)[k-1]\n",
    "\n",
    "        z += 1\n",
    "    print(f'ans={ans}')    \n",
    "    print(sorted(ans))\n",
    "    return sorted(ans)[k-1]\n",
    "\n",
    "print(f(L,n))"
   ]
  },
  {
   "cell_type": "code",
   "execution_count": 27,
   "metadata": {},
   "outputs": [
    {
     "data": {
      "text/plain": [
       "0"
      ]
     },
     "execution_count": 27,
     "metadata": {},
     "output_type": "execute_result"
    }
   ],
   "source": [
    "9\n",
    "27 91 8 68 35 71 32 49 6\n",
    "22"
   ]
  },
  {
   "cell_type": "code",
   "execution_count": null,
   "metadata": {},
   "outputs": [],
   "source": [
    "5\n",
    "7 3 8 9 10\n",
    "3"
   ]
  },
  {
   "cell_type": "code",
   "execution_count": 2,
   "metadata": {},
   "outputs": [
    {
     "data": {
      "text/plain": [
       "3"
      ]
     },
     "execution_count": 2,
     "metadata": {},
     "output_type": "execute_result"
    }
   ],
   "source": [
    "6\n",
    "27 67 3 4 17 98\n",
    "7\n",
    "\n",
    "#Ответ 31"
   ]
  },
  {
   "cell_type": "code",
   "execution_count": 4,
   "metadata": {},
   "outputs": [
    {
     "name": "stdout",
     "output_type": "stream",
     "text": [
      "3\n",
      "1 3 5  \n",
      "3\n",
      "4\n"
     ]
    }
   ],
   "source": [
    "n = int(input())\n",
    "L = [int(x) for x in input().split()]\n",
    "k = int(input())\n",
    "\n",
    "L.sort()\n",
    "def f(L,n):\n",
    "    ans = []\n",
    "    r = 0\n",
    "    z = 1\n",
    "    F = 0\n",
    "    while z <= n-1:\n",
    "        for i in range(n-z):\n",
    "            if r < k:\n",
    "                ans.append(L[i+z]-L[i])\n",
    "                r += 1\n",
    "            elif r == k:\n",
    "                ans.sort()\n",
    "                ans = ans[:k]\n",
    "                ans.append(L[i+z]-L[i])\n",
    "\n",
    "        z += 1\n",
    "    \n",
    "    return ans[k-1]\n",
    "\n",
    "print(f(L,n))"
   ]
  },
  {
   "cell_type": "code",
   "execution_count": 2,
   "metadata": {},
   "outputs": [
    {
     "data": {
      "text/plain": [
       "[1, 2]"
      ]
     },
     "execution_count": 2,
     "metadata": {},
     "output_type": "execute_result"
    }
   ],
   "source": [
    "n = int(input())\n",
    "L = [int(x) for x in input().split()]\n",
    "k = int(input())\n",
    "\n",
    "L.sort()\n",
    "def f(L,n):\n",
    "    ans = []\n",
    "    r = 0\n",
    "    z = 1\n",
    "    F = 0\n",
    "    while z <= n-1:\n",
    "        for i in range(n-z):\n",
    "            if r < k:\n",
    "                ans.append(L[i+z]-L[i])\n",
    "                r += 1\n",
    "            elif r == k and F == 0:\n",
    "                ans.sort()\n",
    "                a = ans[k-1]\n",
    "                b = ans[k-2]\n",
    "                F == 1\n",
    "                #ans.append(L[i+z]-L[i])\n",
    "            else:\n",
    "                if L[i+z] - L[i] < b:\n",
    "                    a = b\n",
    "\n",
    "        z += 1\n",
    "    \n",
    "    return ans[k-1]\n",
    "\n",
    "print(f(L,n))]"
   ]
  },
  {
   "cell_type": "code",
   "execution_count": null,
   "metadata": {},
   "outputs": [],
   "source": [
    "# РЕШЕНИЕ 2\n",
    "\n",
    "with open('input.txt') as f:\n",
    "    n = int(f.readline())\n",
    "    array = [int(i) for i in f.readline().split()]\n",
    "    k = int(f.readline())\n",
    "def enough(arr, diff, k, n):\n",
    "    count, i, j = 0, 0, 0\n",
    "    while i < n or j < n:\n",
    "        while j < n and arr[j] - arr[i] <= diff:\n",
    "            j += 1\n",
    "        count += j - i - 1\n",
    "        i += 1\n",
    "    return count >= k\n",
    "def kth_min_diff(arr, k, n):\n",
    "    arr.sort()\n",
    "    left, right = 0, arr[-1] - arr[0]\n",
    "    while left < right:\n",
    "        middle_diff = (left + right) // 2\n",
    "        if not enough(arr, middle_diff, k, n):\n",
    "            left = middle_diff + 1\n",
    "        else:\n",
    "            right = middle_diff\n",
    "    return left\n",
    "print(kth_min_diff(array, k, n))"
   ]
  },
  {
   "cell_type": "markdown",
   "metadata": {},
   "source": [
    "### I. Дерево поиска   \n",
    "\n",
    "Гоша понял, что такое дерево поиска, и захотел написать функцию, которая определяет,   \n",
    "является ли заданное дерево деревом поиска. Значения в левом поддереве должны быть    \n",
    "строго меньше, в правом - строго больше значения в узле.   \n",
    "Помогите Гоше с реализацией   \n",
    "\n",
    "<img src=\"7.jpg\"> \n",
    "\n",
    "Формат ввода   \n",
    "\n",
    "На вход функции подается корень бинарного дерева.   \n",
    "\n",
    "Python:   \n",
    "\n",
    "class Node:                                          \n",
    "    def __init__(self, value, left=None, right=None):    \n",
    "        self.value = value    \n",
    "        self.right = right    \n",
    "        self.left = left   \n",
    "        \n",
    "Ваша функция должна иметь сигнатуру solution(root: Node) -> bool.    \n",
    "\n",
    "Формат вывода                                                                      \n",
    "Функция должна вернуть True, если дерево является деревом поиска, иначе - False.   \n",
    "\n",
    "Примечания                                                                        \n",
    "Решение нужно отправлять в виде файла с расширением соответствующем вашему языку   \n",
    "программирования. Нужно выбирать компилятор make.   \n",
    "Для Java файл должен называться Solution.java   \n",
    "Для остальных языков программирования это имя использовать нельзя (имя solution тоже)."
   ]
  },
  {
   "cell_type": "code",
   "execution_count": null,
   "metadata": {},
   "outputs": [],
   "source": []
  },
  {
   "cell_type": "code",
   "execution_count": 16,
   "metadata": {},
   "outputs": [
    {
     "data": {
      "text/plain": [
       "True"
      ]
     },
     "execution_count": 16,
     "metadata": {},
     "output_type": "execute_result"
    }
   ],
   "source": [
    "class Node:  \n",
    "    def __init__(self, value, left=None, right=None):  \n",
    "        self.value = value  \n",
    "        self.right = right  \n",
    "        self.left = left\n",
    "        \n",
    "    def __repr__ ( self ):\n",
    "        return str(self.value)\n",
    "    \n",
    "# s = Node(5)\n",
    "# s1 = Node(3)\n",
    "# s2 = Node(8)\n",
    "\n",
    "# s.left = s1\n",
    "# s.right = s2\n",
    "# s1.left = Node(1)\n",
    "# s1.right = Node(4)\n",
    "\n",
    "def f( node , path =[]) :\n",
    "    if node.left :\n",
    "        path = f( node.left , path )\n",
    "    if node != None:\n",
    "        path += [ node.value]\n",
    "    if node.right :\n",
    "        path = f( node.right , path )\n",
    "    return path\n",
    "\n",
    "def solution(s):\n",
    "    R = f(s,path=[]).copy()\n",
    "    R.sort()\n",
    "    for i in range(len(R)-1):\n",
    "        if R[i] == R[i+1]:\n",
    "            return False\n",
    "    return f(s,path=[]) == R\n",
    "\n",
    "solution(s)\n"
   ]
  },
  {
   "cell_type": "code",
   "execution_count": null,
   "metadata": {},
   "outputs": [],
   "source": []
  },
  {
   "cell_type": "code",
   "execution_count": 115,
   "metadata": {},
   "outputs": [
    {
     "data": {
      "text/plain": [
       "False"
      ]
     },
     "execution_count": 115,
     "metadata": {},
     "output_type": "execute_result"
    }
   ],
   "source": [
    "# РЕШЕНИЕ \n",
    "\n",
    "def solution(root, left=None, right=None):\n",
    "    if root is None:\n",
    "        return True\n",
    "    if left and left.value >= root.value:\n",
    "        return False\n",
    "    if right and right.value <= root.value:\n",
    "        return False\n",
    "    return solution(root.left, left, root) and solution(root.right, root, right)\n",
    "\n",
    "\n",
    "s = Node(5)\n",
    "s1 = Node(6)\n",
    "s2 = Node(3)\n",
    "s3 = Node(1)\n",
    "#s4 = Node(1)\n",
    "\n",
    "s.right = s1\n",
    "s.left = s2\n",
    "\n",
    "s2.left =s3\n",
    "s3.right = Node(4)\n",
    "s3.left = Node(0)\n",
    "\n",
    "\n",
    "#s1.left = Node(2)\n",
    "#s1.right = s4\n",
    "#s4.right = Node(8)\n",
    "\n",
    "solution(s)"
   ]
  },
  {
   "cell_type": "markdown",
   "metadata": {},
   "source": [
    "### J. Максимальная глубина    \n",
    "\n",
    "\n",
    "Евлампия хочет побывать во многих городах Трешландии. Она составила карту.          \n",
    "Карта представлена в виде дерева. Корень дерева обозначает Удотинск.                            \n",
    "Узлы - другие города. Листья обозначают населенные пункты, в которые Евлампия хочет попасть.               \n",
    "Помогите Евлампии определить максимальное число городов, через которое ей нужно                                 \n",
    "проехать для совершения одной поездки от Удотинска до места назначения, включая начальный и конечный пункты.     \n",
    "\n",
    "<img src=\"8.jpg\"> \n",
    "\n",
    "Формат ввода                   \n",
    "На вход подается корень дерева.   \n",
    "       \n",
    "Python:   \n",
    "\n",
    "class Node:                                                   \n",
    "    def __init__(self, value, left=None, right=None):     \n",
    "        self.value = value     \n",
    "        self.right = right     \n",
    "        self.left = left                                             \n",
    "Ваша функция должна иметь сигнатуру solution(root: Node) -> int.   \n",
    "\n",
    "\n",
    "Формат вывода                                                            \n",
    "Функция должна вернуть число, равное максимальному числу городов в пути.\n",
    "\n",
    "Примечания                                                                \n",
    "Решение нужно отправлять в виде файла с расширением соответствующем вашему   \n",
    "языку программирования. Нужно выбирать компилятор make.  \n",
    "Для Java файл должен называться Solution.java                                  \n",
    "Для остальных языков программирования это имя использовать нельзя (имя solution тоже).\n",
    "\n",
    "\n"
   ]
  },
  {
   "cell_type": "code",
   "execution_count": null,
   "metadata": {
    "scrolled": true
   },
   "outputs": [],
   "source": [
    "class Node:\n",
    "    def __init__(self, value, left=None, right=None):\n",
    "        self.value = value\n",
    "        self.right = right\n",
    "        self.left = left\n",
    "\n",
    "    def __repr__(self):\n",
    "        return str(self.value)\n",
    "\n",
    "\n",
    "def depth(s):\n",
    "    if s != None:\n",
    "        left_depth = depth(s.left) if s.left else 0\n",
    "        right_depth = depth(s.right) if s.right else 0\n",
    "        return max(left_depth, right_depth) + 1\n",
    "    else:\n",
    "        return 0\n",
    "\n",
    "def solution(s):\n",
    "    return depth(s)"
   ]
  },
  {
   "cell_type": "code",
   "execution_count": null,
   "metadata": {},
   "outputs": [],
   "source": []
  },
  {
   "cell_type": "markdown",
   "metadata": {
    "collapsed": true
   },
   "source": [
    "### K. Числовые пути   \n",
    "\n",
    "\n",
    "Ребята решили поиграть в игру. Дано дерево, в узлах которого записаны цифры от 0 до 9.              \n",
    "Таким образом, каждый путь от корня до листа содержит число, получившееся конкатенацией цифр пути.   \n",
    "Нужно найти сумму всех таких чисел в дереве.   \n",
    "\n",
    "<img src=\"9.jpg\"> \n",
    "\n",
    "Формат ввода                        \n",
    "На вход подается корень дерева.   \n",
    "\n",
    "Python:   \n",
    "\n",
    "class Node:                                             \n",
    "    def __init__(self, value, left=None, right=None):    \n",
    "        self.value = value    \n",
    "        self.right = right    \n",
    "        self.left = left                                             \n",
    "Ваша функция должна иметь сигнатуру solution(root: Node) -> int.   \n",
    "\n",
    "Формат вывода                                                          \n",
    "Функция должна вернуть число, равное сумме чисел всех путей в дереве.  \n",
    "\n",
    "Примечания     \n",
    "Решение нужно отправлять в виде файла с расширением соответствующем вашему    \n",
    "языку программирования. Нужно выбирать компилятор make.   \n",
    "Для Java файл должен называться Solution.java                                                  \n",
    "Для остальных языков программирования это имя использовать нельзя (имя solution тоже).\n"
   ]
  },
  {
   "cell_type": "code",
   "execution_count": 107,
   "metadata": {},
   "outputs": [
    {
     "data": {
      "text/plain": [
       "275"
      ]
     },
     "execution_count": 107,
     "metadata": {},
     "output_type": "execute_result"
    }
   ],
   "source": [
    "class Node:\n",
    "    def __init__(self, value, left=None, right=None):\n",
    "        self.value = value\n",
    "        self.right = right\n",
    "        self.left = left\n",
    "\n",
    "    def __repr__(self):\n",
    "        return str(self.value)\n",
    "\n",
    "\n",
    "def d(node,L,M):\n",
    "     \n",
    "    if node.right == None and node.left == None:\n",
    "        L += str(node.value)\n",
    "        M.append(L)\n",
    "        return str(node.value)\n",
    "    \n",
    "    L += str(node.value)\n",
    "    if node.left :\n",
    "        d(node.left,L,M)\n",
    "       \n",
    "    if node.right:\n",
    "        d(node.right,L,M)\n",
    "     \n",
    "    return M\n",
    "\n",
    "def solution(s):\n",
    "    L = d(s,'',[])\n",
    "    #print(L)\n",
    "    return sum(list(map(int,L)))\n",
    "\n",
    "s = Node(1)\n",
    "s.left = Node(2)\n",
    "s.right = s1\n",
    "s1 = Node(3)\n",
    "s1.left = Node(2)\n",
    "s1.right = Node(1)\n",
    "\n",
    "solution(s)\n",
    "\n",
    "# s = Node(1)\n",
    "# s1 = Node(3)\n",
    "# s2 = Node(2)\n",
    "# s3 = Node(4)\n",
    "# s4 = Node(1)\n",
    "\n",
    "# s.right = s1\n",
    "# s.left = s2\n",
    "\n",
    "# s2.left =s3\n",
    "# s3.right = Node(7)\n",
    "# s3.left = Node(6)\n",
    "\n",
    "\n",
    "# s1.left = Node(2)\n",
    "# s1.right = s4\n",
    "# s4.right = Node(8)\n",
    "\n",
    "\n"
   ]
  },
  {
   "cell_type": "code",
   "execution_count": null,
   "metadata": {},
   "outputs": [],
   "source": [
    " "
   ]
  },
  {
   "cell_type": "markdown",
   "metadata": {},
   "source": [
    "### L. Числа Кондроначчи   \n",
    "\n",
    "Числа Кондроначчи - важный математический объект. Это последовательность,   \n",
    "которая сформирована по такому правилу. Первое число равно 1. Далее следуют           \n",
    "по возрастанию числа, простые множители которых принадлежат только множеству 2, 3, 5.   \n",
    "Несколько первых членов последовательности:   \n",
    "1, 2, 3, 4, 5, 6, 8, 9, 10   \n",
    "\n",
    "Формат ввода                                          \n",
    "На вход подается число n, которое не превосходит 1500.   \n",
    "\n",
    "Формат вывода                           \n",
    "Нужно вывести n - ое число Кондроначчи.   \n",
    "\n",
    "Ввод:   \n",
    "3\n",
    "\n",
    "Вывод:   \n",
    "3\n",
    "\n",
    "Ввод:  \n",
    "4  \n",
    "\n",
    "Вывод:   \n",
    "4\n",
    "\n",
    "Примечания   \n",
    "Можно использовать встроенную в язык программирования структуру данных пирамида.  \n",
    "Простые множители должны принадлежать только указанному множеству чисел.\n",
    "\n"
   ]
  },
  {
   "cell_type": "code",
   "execution_count": 126,
   "metadata": {},
   "outputs": [
    {
     "name": "stdout",
     "output_type": "stream",
     "text": [
      "1\n"
     ]
    },
    {
     "ename": "TypeError",
     "evalue": "'NoneType' object is not iterable",
     "output_type": "error",
     "traceback": [
      "\u001b[1;31m---------------------------------------------------------------------------\u001b[0m",
      "\u001b[1;31mTypeError\u001b[0m                                 Traceback (most recent call last)",
      "\u001b[1;32m<ipython-input-126-e2494dd9da9d>\u001b[0m in \u001b[0;36m<module>\u001b[1;34m\u001b[0m\n\u001b[0;32m     24\u001b[0m \u001b[1;33m\u001b[0m\u001b[0m\n\u001b[0;32m     25\u001b[0m \u001b[0mM\u001b[0m \u001b[1;33m=\u001b[0m \u001b[1;33m[\u001b[0m\u001b[1;33m]\u001b[0m\u001b[1;33m\u001b[0m\u001b[1;33m\u001b[0m\u001b[0m\n\u001b[1;32m---> 26\u001b[1;33m \u001b[1;32mfor\u001b[0m \u001b[0mx\u001b[0m \u001b[1;32min\u001b[0m \u001b[0mL\u001b[0m\u001b[1;33m:\u001b[0m\u001b[1;33m\u001b[0m\u001b[1;33m\u001b[0m\u001b[0m\n\u001b[0m\u001b[0;32m     27\u001b[0m     \u001b[0ma\u001b[0m\u001b[1;33m,\u001b[0m \u001b[0mb\u001b[0m \u001b[1;33m=\u001b[0m \u001b[0mx\u001b[0m\u001b[1;33m\u001b[0m\u001b[1;33m\u001b[0m\u001b[0m\n\u001b[0;32m     28\u001b[0m     \u001b[0mM\u001b[0m\u001b[1;33m.\u001b[0m\u001b[0mappend\u001b[0m\u001b[1;33m(\u001b[0m\u001b[1;33m[\u001b[0m\u001b[1;36m2\u001b[0m\u001b[1;33m**\u001b[0m\u001b[0ma\u001b[0m\u001b[1;33m*\u001b[0m\u001b[1;36m3\u001b[0m\u001b[1;33m**\u001b[0m\u001b[0mb\u001b[0m\u001b[1;33m,\u001b[0m\u001b[0ma\u001b[0m\u001b[1;33m,\u001b[0m\u001b[0mb\u001b[0m\u001b[1;33m]\u001b[0m\u001b[1;33m)\u001b[0m\u001b[1;33m\u001b[0m\u001b[1;33m\u001b[0m\u001b[0m\n",
      "\u001b[1;31mTypeError\u001b[0m: 'NoneType' object is not iterable"
     ]
    }
   ],
   "source": [
    "n = int(input())\n",
    "\n",
    "def f(x,y,n):\n",
    "    ans = [[0,0]]\n",
    "    x = 0\n",
    "    y = 0\n",
    "    for x in range(1,n):\n",
    "        \n",
    "        y = x - 1\n",
    "        if n/((x+1)*(y+1)) >= 1:\n",
    "            ans.append([x,y])\n",
    "        else:\n",
    "            return ans\n",
    "        \n",
    "        y = x\n",
    "        \n",
    "        if n/((x+1)*(y+1)) > 1:\n",
    "            ans.append([x,y])\n",
    "            ans.append([y,x])\n",
    "        \n",
    "        return ans\n",
    "            \n",
    "L = f(x,y,n)\n",
    "\n",
    "M = []\n",
    "for x in L:\n",
    "    a, b = x\n",
    "    M.append([2**a*3**b,a,b])\n",
    "    \n",
    "i = M.index(max(M,key=lambda x: x[0]))\n",
    "\n",
    "# if n/((M[i][1]+1)(M[i][2]+1)) - 1 > 0:\n",
    "#     c = n/((M[i][1]+1)(M[i][2]+1)) - 1 \n",
    "# else:\n",
    "#     c = 0\n",
    "#(5**(n/((M[i][1]+1) ) )  )\n",
    "print(int(2**(M[i][1])*3**(M[i][2])*5**(n/((M[i][1]+1)*(M[i][2]+1)) - 1)))\n",
    "    \n",
    "# import heapq\n",
    "# heapq.heapify(M)\n",
    "\n",
    "# z = 1\n",
    "# M.insert(0,0)\n",
    "# ans = 0\n",
    "# while len(M)/z > 1:\n",
    "\n",
    "#     ans = M[z]\n",
    "#     z = 2*z + 1\n",
    "    \n",
    "# print(ans)\n",
    "\n",
    "# if n % 2 == 0:\n",
    "#     print(M[len(M)-1])\n",
    "# else:\n",
    "#     print(M[len(M)-2])\n",
    "\n",
    "\n",
    "\n"
   ]
  },
  {
   "cell_type": "code",
   "execution_count": 43,
   "metadata": {},
   "outputs": [
    {
     "name": "stdout",
     "output_type": "stream",
     "text": [
      "9\n",
      "[[0, 0, 0], [1, 0, 4.5], [0, 1, 4.5], [1, 1, 2.25], [2, 1, 1.5], [1, 2, 1.5], [2, 2, 1.0]]\n"
     ]
    }
   ],
   "source": [
    "n = int(input())\n",
    "\n",
    "def f(n):\n",
    "    ans = [[0,0,0]]\n",
    "    x = 0\n",
    "    y = 0\n",
    "    for x in range(1,n+1):\n",
    "        \n",
    "        y = x - 1\n",
    "        if n/((x+1)*(y+1)) >= 1:\n",
    "            ans.append([x,y,n/((x+1)*(y+1))])\n",
    "            ans.append([y,x,n/((x+1)*(y+1))])\n",
    "        \n",
    "        y = x \n",
    "        \n",
    "        if n/((x+1)*(y+1)) >= 1:\n",
    "            ans.append([x,y,n/((x+1)*(y+1))])\n",
    "\n",
    "        \n",
    "    return ans\n",
    "            \n",
    "L = f(n)\n",
    "\n",
    "print(L)\n",
    "\n",
    "# M = []\n",
    "# for x in L:\n",
    "#     a, b = x\n",
    "#     M.append([2**a*3**b,a,b])\n",
    "\n",
    "#i = M.index(max(M,key=lambda x: x[0]))\n",
    "\n",
    "\n",
    "    \n",
    "#print(int(2**(M[i][1])*3**(M[i][2])*5**(n/((M[i][1]+1)*(M[i][2]+1)) - 1)))\n",
    "\n"
   ]
  },
  {
   "cell_type": "code",
   "execution_count": 39,
   "metadata": {},
   "outputs": [
    {
     "data": {
      "text/plain": [
       "[[0, 0], [1, 0], [0, 1], [1, 1], [2, 1], [1, 2], [2, 2]]"
      ]
     },
     "execution_count": 39,
     "metadata": {},
     "output_type": "execute_result"
    }
   ],
   "source": [
    "L"
   ]
  },
  {
   "cell_type": "code",
   "execution_count": 37,
   "metadata": {},
   "outputs": [
    {
     "data": {
      "text/plain": [
       "[[1, 0, 0], [2, 1, 0], [3, 0, 1], [12, 2, 1], [18, 1, 2]]"
      ]
     },
     "execution_count": 37,
     "metadata": {},
     "output_type": "execute_result"
    }
   ],
   "source": [
    "M"
   ]
  },
  {
   "cell_type": "code",
   "execution_count": 32,
   "metadata": {},
   "outputs": [
    {
     "data": {
      "text/plain": [
       "2"
      ]
     },
     "execution_count": 32,
     "metadata": {},
     "output_type": "execute_result"
    }
   ],
   "source": [
    "i"
   ]
  },
  {
   "cell_type": "code",
   "execution_count": 34,
   "metadata": {},
   "outputs": [
    {
     "data": {
      "text/plain": [
       "1.5"
      ]
     },
     "execution_count": 34,
     "metadata": {},
     "output_type": "execute_result"
    }
   ],
   "source": [
    "n/((M[i][1]+1)*(M[i][2]+1))"
   ]
  },
  {
   "cell_type": "code",
   "execution_count": 17,
   "metadata": {},
   "outputs": [
    {
     "name": "stdout",
     "output_type": "stream",
     "text": [
      "7\n",
      "[1, 2, 3, 5, 6, 10, 15, 30]\n",
      "[1, 2, 3, 4, 5, 6, 900, 9, 10, 12, 15, 18, 20, 150, 25, 30, 36, 300, 45, 50, 180, 60, 450, 75, 90, 225, 100]\n",
      "9\n"
     ]
    }
   ],
   "source": [
    "n = int(input())\n",
    "\n",
    "L = [1]\n",
    "F = 0\n",
    "\n",
    "while True:\n",
    "    LL = []\n",
    "    for x in L:\n",
    "        LL.append(2*x)\n",
    "        \n",
    "    L.extend(LL)\n",
    "    LL = []\n",
    "    \n",
    "    for y in L:\n",
    "        LL.append(3*y)\n",
    "        \n",
    "    L.extend(LL)\n",
    "    LL = []\n",
    "    \n",
    "    for z in L:\n",
    "        LL.append(5*z)\n",
    "        \n",
    "    L.extend(LL)\n",
    "    L = list(set(L))\n",
    "    print(L)\n",
    "    \n",
    "    if F == 1:\n",
    "        break\n",
    "        \n",
    "    if len(L) > n:\n",
    "        F = 1\n",
    "    \n",
    "\n",
    "    \n",
    "L.sort()  \n",
    "print(L[n-1])"
   ]
  },
  {
   "cell_type": "code",
   "execution_count": 1,
   "metadata": {},
   "outputs": [
    {
     "name": "stdout",
     "output_type": "stream",
     "text": [
      "4\n",
      "[1, 2]\n",
      "6\n"
     ]
    }
   ],
   "source": [
    "k = 1\n",
    "n = int(input())\n",
    "L = [1]\n",
    "LL = []\n",
    "LLL = []\n",
    "LLLL = []\n",
    "while k < n:\n",
    "    while L[len(L)-1]*2 < L[0]*3:\n",
    "        LL = []\n",
    "        for x in L:\n",
    "            LL.append(2*x)\n",
    "            k += 1\n",
    "        L.extend(LL)\n",
    "    print(L)\n",
    "    if k >= n:\n",
    "        break \n",
    "    if LL:\n",
    "        while L[len(L)-1]*3 < LL[0]*5:\n",
    "            LLL = []\n",
    "            for x in L:\n",
    "                LLL.append(3*x) \n",
    "                k += 1\n",
    "            L.extend(LLL)\n",
    "        if k >= n:\n",
    "            break \n",
    "    if LLL:\n",
    "        while L[len(L)-1]*5 < LLL[0]*2:\n",
    "            LLLL = []\n",
    "            for x in L:\n",
    "                LLLL.append(5*x) \n",
    "                k += 1\n",
    "            L.extend(LLLL)        \n",
    "    \n",
    "print(L[n-1])"
   ]
  },
  {
   "cell_type": "code",
   "execution_count": 5,
   "metadata": {},
   "outputs": [
    {
     "name": "stdout",
     "output_type": "stream",
     "text": [
      "14\n",
      "20\n"
     ]
    }
   ],
   "source": [
    "# ЭТО РЕШЕНИЕ СРАБОТАЛО!\n",
    "\n",
    "import heapq\n",
    "import itertools\n",
    "\n",
    "def humble_numbers2(n):\n",
    "    primes = (2,3,5)\n",
    "    result = [1]\n",
    "    yield 1\n",
    "\n",
    "    def make_multiple(p):\n",
    "        return (p * result[i] for i in itertools.count())\n",
    "\n",
    "    iters = map(make_multiple, primes)\n",
    "    merged = heapq.merge(*iters)\n",
    "    i = 1\n",
    "    for k,_ in itertools.groupby(merged):\n",
    "        if i < n:\n",
    "            result.append(k)\n",
    "            i += 1\n",
    "            yield k\n",
    "        else:\n",
    "            break\n",
    "   \n",
    "        \n",
    "n = int(input())\n",
    "G = humble_numbers2(n)\n",
    "\n",
    "for i in G:\n",
    "    a = i\n",
    "    \n",
    "print(a)\n",
    "    "
   ]
  },
  {
   "cell_type": "code",
   "execution_count": null,
   "metadata": {},
   "outputs": [],
   "source": []
  },
  {
   "cell_type": "code",
   "execution_count": 3,
   "metadata": {},
   "outputs": [
    {
     "data": {
      "text/plain": [
       "[1, 3, 2, 7, 6, 5, 4]"
      ]
     },
     "execution_count": 3,
     "metadata": {},
     "output_type": "execute_result"
    }
   ],
   "source": [
    "# Задача отразить дерево зеркально (Рекурсия) \n",
    "\n",
    "class Node:\n",
    "    def __init__(self, data, left=None, right=None):\n",
    "        self.data = data\n",
    "        self.left = left\n",
    "        self.right = right\n",
    "\n",
    "    def __repr__(self):\n",
    "        return str(self.data)\n",
    "\n",
    "if __name__ == '__main__':\n",
    "    \"\"\" Construct below tree\n",
    "              1\n",
    "            /   \\\n",
    "           /     \\\n",
    "          2       3\n",
    "         / \\     / \\\n",
    "        4   5   6   7\n",
    "    \"\"\"\n",
    "\n",
    "    root = Node(1)\n",
    "    root.left = Node(2)\n",
    "    root.right = Node(3)\n",
    "    root.left.left = Node(4)\n",
    "    root.left.right = Node(5)\n",
    "    root.right.left = Node(6)\n",
    "    root.right.right = Node(7)\n",
    "    \n",
    "def f(s):\n",
    "    if s != None:\n",
    "        f(s.right)\n",
    "        f(s.left)\n",
    "        s.right, s.left = s.left, s.right\n",
    "\n",
    "from collections import deque\n",
    "def bfs(root, path =[]):\n",
    "    q = deque()\n",
    "    q.append(root)\n",
    "    while q:\n",
    "        cur_node = q.popleft()\n",
    "        path.append(cur_node)\n",
    "        if cur_node != None:\n",
    "            if cur_node.left:\n",
    "                q.append(cur_node.left)\n",
    "            if cur_node.right:\n",
    "                q.append(cur_node.right)\n",
    "    return path\n",
    "\n",
    "f(root)\n",
    "bfs(root)\n",
    "\n"
   ]
  },
  {
   "cell_type": "code",
   "execution_count": null,
   "metadata": {},
   "outputs": [],
   "source": [
    "# Отразить дерево (Рекурсия) Решение 2\n",
    "\n",
    "# Data structure to store a Binary Tree node\n",
    "class Node:\n",
    "    def __init__(self, data, left=None, right=None):\n",
    "        self.data = data\n",
    "        self.left = left\n",
    "        self.right = right\n",
    "\n",
    "    def __repr__(self):\n",
    "        return str(self.data)\n",
    "\n",
    "\n",
    "# Function to perform preorder traversal of the binary tree\n",
    "def preorder(root):\n",
    "    if root is None:\n",
    "        return\n",
    "\n",
    "    print(root.data, end=' ')\n",
    "    preorder(root.left)\n",
    "    preorder(root.right)\n",
    "\n",
    "\n",
    "# Utility function to swap left subtree with right subtree\n",
    "def swap(root):\n",
    "    if root is None:\n",
    "        return\n",
    "\n",
    "    root.left, root.right = root.right, root.left\n",
    "\n",
    "\n",
    "# Function to invert given binary Tree using preorder traversal\n",
    "def invertBinaryTree(root):\n",
    "    # base case: if tree is empty\n",
    "    if root is None:\n",
    "        return\n",
    "\n",
    "    # swap left subtree with right subtree\n",
    "    swap(root)\n",
    "\n",
    "    # invert left subtree\n",
    "    invertBinaryTree(root.left)\n",
    "\n",
    "    # invert right subtree\n",
    "    invertBinaryTree(root.right)\n",
    "\n",
    "\n",
    "if __name__ == '__main__':\n",
    "    \"\"\" Construct below tree\n",
    "              1\n",
    "            /   \\\n",
    "           /     \\\n",
    "          2       3\n",
    "         / \\     / \\\n",
    "        4   5   6   7\n",
    "    \"\"\"\n",
    "\n",
    "    root = Node(1)\n",
    "    root.left = Node(2)\n",
    "    root.right = Node(3)\n",
    "    root.left.left = Node(4)\n",
    "    root.left.right = Node(5)\n",
    "    root.right.left = Node(6)\n",
    "    root.right.right = Node(7)\n",
    "    preorder(root)\n",
    "    print('\\n')\n",
    "    invertBinaryTree(root)\n",
    "    preorder(root)\n",
    "\n",
    "# Output\n",
    "# 1 3 7 6 2 5 4\n"
   ]
  },
  {
   "cell_type": "code",
   "execution_count": null,
   "metadata": {},
   "outputs": [],
   "source": [
    "# Отразить дерево (Стек)\n",
    "\n",
    "from collections import deque\n",
    "\n",
    "\n",
    "# Data structure to store a Binary Tree node\n",
    "class Node:\n",
    "    def __init__(self, data, left=None, right=None):\n",
    "        self.data = data\n",
    "        self.left = left\n",
    "        self.right = right\n",
    "\n",
    "\n",
    "# Function to perform preorder traversal of the binary tree\n",
    "def preorder(root):\n",
    "    if root is None:\n",
    "        return\n",
    "\n",
    "    print(root.data, end=' ')\n",
    "    preorder(root.left)\n",
    "    preorder(root.right)\n",
    "\n",
    "\n",
    "# Utility function to swap left subtree with right subtree\n",
    "def swap(root):\n",
    "    if root is None:\n",
    "        return\n",
    "\n",
    "    root.left, root.right = root.right, root.left\n",
    "\n",
    "\n",
    "# Iterative Function to invert given binary Tree using queue\n",
    "def invertBinaryTree(root):\n",
    "    # base case: if tree is empty\n",
    "    if root is None:\n",
    "        return\n",
    "\n",
    "    # maintain a queue and push push root node\n",
    "    q = deque()\n",
    "    q.append(root)\n",
    "\n",
    "    # run till queue is empty\n",
    "    while q:\n",
    "\n",
    "        # pop top node from queue\n",
    "        curr = q.popleft()\n",
    "\n",
    "        # swap left child with right child\n",
    "        swap(curr)\n",
    "\n",
    "        # push left child of popped node to the queue\n",
    "        if curr.left:\n",
    "            q.append(curr.left)\n",
    "\n",
    "        # push right child of popped node to the queue\n",
    "        if curr.right:\n",
    "            q.append(curr.right)\n",
    "\n",
    "\n",
    "if __name__ == '__main__':\n",
    "    ''' Construct below tree\n",
    "              1\n",
    "            /   \\\n",
    "           /     \\\n",
    "          2       3\n",
    "         / \\     / \\\n",
    "        4   5   6   7\n",
    "    '''\n",
    "\n",
    "    root = Node(1)\n",
    "    root.left = Node(2)\n",
    "    root.right = Node(3)\n",
    "    root.left.left = Node(4)\n",
    "    root.left.right = Node(5)\n",
    "    root.right.left = Node(6)\n",
    "    root.right.right = Node(7)\n",
    "\n",
    "    invertBinaryTree(root)\n",
    "    preorder(root)\n"
   ]
  },
  {
   "cell_type": "code",
   "execution_count": 1,
   "metadata": {},
   "outputs": [
    {
     "name": "stdout",
     "output_type": "stream",
     "text": [
      "Given Binary Tree is a Min-Heap\n"
     ]
    }
   ],
   "source": [
    "#Вебинар: Праверка того что дерево является кучей (Рекурсия)\n",
    "\n",
    "# Data structure to store a Binary Tree node\n",
    "class Node:\n",
    "    def __init__(self, data, left=None, right=None):\n",
    "        self.data = data\n",
    "        self.left = left\n",
    "        self.right = right\n",
    "\n",
    "    def __repr__(self):\n",
    "        return str(self.data)\n",
    "\n",
    "\n",
    "# Function to find number of nodes in the binary tree\n",
    "def size(root):\n",
    "    if root is None:\n",
    "        return 0\n",
    "\n",
    "    return 1 + size(root.left) + size(root.right)\n",
    "\n",
    "\n",
    "# Function to check if a given binary tree is a complete binary tree\n",
    "# and each node has value is greater than the value of its parent.\n",
    "def isMinHeap(root, i, n):\n",
    "    # base case\n",
    "    if root is None:\n",
    "        return True\n",
    "\n",
    "    # complete binary tree: out of valid not index range\n",
    "    if i >= n:\n",
    "        return False\n",
    "\n",
    "    # current node has greater value than its left or right child\n",
    "    if ((root.left and root.left.data <= root.data) or\n",
    "            (root.right and root.right.data <= root.data)):\n",
    "        return False\n",
    "\n",
    "    # check for left and right subtree\n",
    "    return isMinHeap(root.left, 2 * i + 1, n) and \\\n",
    "           isMinHeap(root.right, 2 * i + 2, n)\n",
    "\n",
    "\n",
    "# Function to check if a given binary tree is a min heap or not\n",
    "def isHeap(root):\n",
    "    i = 0\n",
    "    return isMinHeap(root, i, size(root))\n",
    "\n",
    "\n",
    "if __name__ == '__main__':\n",
    "\n",
    "    \"\"\" Construct below binary tree\n",
    "               2\n",
    "             /   \\\n",
    "            /     \\\n",
    "           3       4\n",
    "          / \\     / \\\n",
    "         /   \\   /   \\\n",
    "        5     6 8    10\n",
    "    \"\"\"\n",
    "\n",
    "    root = Node(2)\n",
    "    root.left = Node(3)\n",
    "    root.right = Node(4)\n",
    "    root.left.left = Node(5)\n",
    "    root.left.right = Node(6)\n",
    "    root.right.left = Node(8)\n",
    "    root.right.right = Node(10)\n",
    "\n",
    "    if isHeap(root):\n",
    "        print(\"Given Binary Tree is a Min-Heap\")\n",
    "    else:\n",
    "        print(\"Given Binary Tree is not a Min-Heap\")\n",
    "\n"
   ]
  },
  {
   "cell_type": "code",
   "execution_count": 2,
   "metadata": {},
   "outputs": [
    {
     "name": "stdout",
     "output_type": "stream",
     "text": [
      "Given Binary Tree is a Min-Heap\n"
     ]
    }
   ],
   "source": [
    "# Вебинар: Проверка что дерево является кучей без рекурсии (с помощью очереди)\n",
    "\n",
    "from collections import deque\n",
    "\n",
    "\n",
    "# Data structure to store a Binary Tree node\n",
    "class Node:\n",
    "    def __init__(self, data, left=None, right=None):\n",
    "        self.data = data\n",
    "        self.left = left\n",
    "        self.right = right\n",
    "\n",
    "    def __repr__(self):\n",
    "        return str(self.data)\n",
    "\n",
    "\n",
    "# Function to check if a given binary tree is a min heap or not\n",
    "def isHeap(root):\n",
    "    # create an empty queue and enqueue root node\n",
    "    queue = deque()\n",
    "    queue.append(root)\n",
    "\n",
    "    # take a boolean flag which becomes true when an empty left or right\n",
    "    # child is seen for a node\n",
    "    noneSeen = False\n",
    "\n",
    "    # run till queue is empty\n",
    "    while queue:\n",
    "\n",
    "        # process front node in the queue\n",
    "        curr = queue.popleft()\n",
    "\n",
    "        # left child is non-empty\n",
    "        if curr.left:\n",
    "            # if either heap-property is violated\n",
    "            if noneSeen or curr.left.data <= curr.data:\n",
    "                return False\n",
    "\n",
    "            # enqueue left child\n",
    "            queue.append(curr.left)\n",
    "\n",
    "        # left child is empty\n",
    "        else:\n",
    "            noneSeen = True\n",
    "\n",
    "        # right child is non-empty\n",
    "        if curr.right:\n",
    "            # if either heap-property is violated\n",
    "            if noneSeen or curr.right.data <= curr.data:\n",
    "                return False\n",
    "\n",
    "            # enqueue left child\n",
    "            queue.append(curr.right)\n",
    "\n",
    "        # right child is empty\n",
    "        else:\n",
    "            noneSeen = True\n",
    "\n",
    "    # we reach here only when the given binary tree is a min-heap\n",
    "    return True\n",
    "\n",
    "\n",
    "if __name__ == '__main__':\n",
    "\n",
    "    \"\"\" Construct below binary tree\n",
    "               2\n",
    "             /   \\\n",
    "            /     \\\n",
    "           3       4\n",
    "          / \\     / \\\n",
    "         /   \\   /   \\\n",
    "        5     6 8    10\n",
    "    \"\"\"\n",
    "\n",
    "    root = Node(2)\n",
    "    root.left = Node(3)\n",
    "    root.right = Node(4)\n",
    "    root.left.left = Node(5)\n",
    "    root.left.right = Node(6)\n",
    "    root.right.left = Node(8)\n",
    "    root.right.right = Node(10)\n",
    "\n",
    "    if isHeap(root):\n",
    "        print(\"Given Binary Tree is a Min-Heap\")\n",
    "    else:\n",
    "        print(\"Given Binary Tree is not a Min-Heap\")\n"
   ]
  },
  {
   "cell_type": "code",
   "execution_count": null,
   "metadata": {},
   "outputs": [],
   "source": []
  }
 ],
 "metadata": {
  "kernelspec": {
   "display_name": "Python 3",
   "language": "python",
   "name": "python3"
  },
  "language_info": {
   "codemirror_mode": {
    "name": "ipython",
    "version": 3
   },
   "file_extension": ".py",
   "mimetype": "text/x-python",
   "name": "python",
   "nbconvert_exporter": "python",
   "pygments_lexer": "ipython3",
   "version": "3.7.3"
  }
 },
 "nbformat": 4,
 "nbformat_minor": 2
}
