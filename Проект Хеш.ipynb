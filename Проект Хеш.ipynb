{
 "cells": [
  {
   "cell_type": "markdown",
   "metadata": {},
   "source": [
    "### A. Укоротитель урлов    \n",
    "\n",
    "Кондратий издал распоряжение, что в Трешландии нельзя использовать программное обеспечение,   \n",
    "выпущенное за пределами страны. Многие сервисы придётся переписать с нуля.   \n",
    "Одна из задач - реализация укоротителя урлов.   \n",
    "\n",
    "Если на вход приходит $\\textbf{post урл content}$, нужно вернуть укороченный урл, полученный с    \n",
    "помощью описанного алгоритма.    \n",
    "Если приходит $\\textbf{get урл (укороченный)}$, то:                \n",
    "Если такой урл есть в $\\textbf{базе данных}$, то напечатать $\\textbf{контент}.$   \n",
    "$\\textbf{Иначе напечатать error} $        \n",
    "\n",
    "Будем использовать алгоритм base62.                               \n",
    "$$BASE=0123456789abcdefghijklmnopqrstuvwxyzABCDEFGHIJKLMNOPQRSTUVWXYZ   $$  \n",
    "Строка BASE состоит из 62 символов. Будем использовать её в алгоритме.   \n",
    "\n",
    "Функция декодирования: преобразует строку в число.     \n",
    "$\\textbf{Алгоритм decode(string):}$        \n",
    "Заведем переменную    \n",
    "$$\\text{decoded_string} = 0\\: \\text{и константу}\\: b = 62$$     \n",
    "Проходим по строке в цикле, и на каждой итерации i выполняем следующие действия:  \n",
    "Находим индекс элемента на i позиции в BASE (индексация начинается с нуля)  \n",
    "\n",
    "$$pos = base.find(string[i])  \\\\\n",
    "\\text{decoded_string} = b * \\text{decoded_string} + pos \\\\ \n",
    "\\text{Возвращаем decoded_string}  $$\n",
    "\n",
    "Функция кодирования: преобразует число в строку.  \n",
    "$\\textbf{Алгоритм encode(num):}$   \n",
    "Считаем остаток от деления num на b  \n",
    "$$r = \\text{num mod b}  $$   \n",
    "Находим символ, соответствующий индексу r  \n",
    "$$\\text{encoded_string} = base[r]  $$  \n",
    "Берем целую часть   \n",
    "$$q = \\text{floor(num / b)}  $$   \n",
    "Пока q больше нуля:   \n",
    "Считаем остаток от деления q на b  \n",
    "$$r = \\text{q mod b}  $$  \n",
    "Присваиваем q значение, равное целой части от q деленного на b  \n",
    "$$q = \\text{floor(q / b)}   $$  \n",
    "Находим значение, соответствующее индексу r и прибавляем его к encoded_string   \n",
    "\n",
    "$$\\text{encoded_string} = base[int(r)] + \\text{encoded_string}   \\\\   \n",
    "\\text{Возвращаем encoded_string}  $$ \n",
    "\n",
    "Пример:    \n",
    "Преобразуем слово cat   \n",
    "decode(\"cat\")   \n",
    "На первой итерации значение decoded_string будет равно 12, на второй, 754, на третьей - 46777   \n",
    "Ответ: 46777   \n",
    "\n",
    "Выполним обратное преобразование:   \n",
    "encode(46777)   \n",
    "До цикла r = 29   \n",
    "encoded_string = t   \n",
    "Первая итерация:    \n",
    "q = 754   \n",
    "r = 10   \n",
    "Вторая итерация:   \n",
    "encoded_string = at   \n",
    "q = 12  \n",
    "r = 12  \n",
    "encoded_string = cat  \n",
    "В конце итерации q = 0  \n",
    "Ответ: cat  \n",
    "\n",
    "Формат ввода  \n",
    "В первой строке задается число запросов n (1 ≤ n ≤ 104). В каждой из следующих n   \n",
    "строк записаны по одному запросы. Есть два вида запросов:   \n",
    "\n",
    "post url content  \n",
    "get url  \n",
    "\n",
    "Формат вывода   \n",
    "Для запросов post нужно вернуть укороченный урл, для запросов   \n",
    "get - контент или сообщение error.  \n",
    "\n",
    "Ввод:   \n",
    "4  \n",
    "post https://yandex.com yandex content  \n",
    "post http://mail.ru mail content   \n",
    "get https://0.com  \n",
    "get https://1.com   \n",
    "\n",
    "Вывод:   \n",
    "https://0.com  \n",
    "http://1.ru  \n",
    "yandex content  \n",
    "error  "
   ]
  },
  {
   "cell_type": "code",
   "execution_count": 4,
   "metadata": {},
   "outputs": [
    {
     "name": "stdout",
     "output_type": "stream",
     "text": [
      "4\n",
      "post https://yandex.com yandex content\n",
      "post http://mail.ru mail content\n",
      "get https://0.com\n",
      "get https://1.com\n",
      "https://0.com\n",
      "http://1.ru\n",
      "yandex content\n",
      "mail content\n"
     ]
    }
   ],
   "source": [
    "BASE = '0123456789abcdefghijklmnopqrstuvwxyzABCDEFGHIJKLMNOPQRSTUVWXYZ'\n",
    "b = 62\n",
    "n = int(input())\n",
    "requests = []\n",
    "for _ in range(n):\n",
    "    requests.append([x for x in input().split()])\n",
    "\n",
    "database = dict()\n",
    "num_code = dict()\n",
    "\n",
    "def decode(string):\n",
    "    decoded_string = 0\n",
    "    for i in range(len(string)):\n",
    "        pos = BASE.find(string[i])\n",
    "        decoded_string = b * decoded_string + pos\n",
    "    return str(decoded_string)\n",
    "\n",
    "def encode(num): \n",
    "    r = num % b\n",
    "    encoded_string = BASE[r]\n",
    "    𝑞 = num // b\n",
    "    while q > 0:\n",
    "        r = q % b\n",
    "        q = q // b\n",
    "        encoded_string = BASE[int(r)] + encoded_string\n",
    "    return encoded_string\n",
    "k = 0\n",
    "for i in range(n):\n",
    "    if requests[i][0] == 'post':\n",
    "        string = requests[i][1].split('//')[1].split('.')[0]\n",
    "        begin = requests[i][1].split('//')[0]\n",
    "        end = '.' + requests[i][1].split('//')[1].split('.')[1]\n",
    "        text = ''\n",
    "        for j in range(2,len(requests[i])):\n",
    "            text += requests[i][j] + ' '\n",
    "        dc = decode(string)\n",
    "        num_code[str(k)] = dc\n",
    "        database[dc] = text.strip()\n",
    "        print(begin + '//' + str(k) + end)\n",
    "        k += 1\n",
    "        \n",
    "    else:\n",
    "        num =  requests[i][1].split('//')[1].split('.')[0]\n",
    "        if num in num_code.keys():\n",
    "            print(database[num_code[num]])\n",
    "        else:\n",
    "            print('error')"
   ]
  },
  {
   "cell_type": "code",
   "execution_count": 7,
   "metadata": {},
   "outputs": [
    {
     "data": {
      "text/plain": [
       "['http:', 'mail.ru']"
      ]
     },
     "execution_count": 7,
     "metadata": {},
     "output_type": "execute_result"
    }
   ],
   "source": [
    "['post', 'http://mail.ru', 'mail', 'content'][1].split('//')"
   ]
  },
  {
   "cell_type": "code",
   "execution_count": 12,
   "metadata": {},
   "outputs": [
    {
     "data": {
      "text/plain": [
       "'com'"
      ]
     },
     "execution_count": 12,
     "metadata": {},
     "output_type": "execute_result"
    }
   ],
   "source": [
    "'.' + requests[i][1].split('//')[1].split('.')[1]"
   ]
  },
  {
   "cell_type": "code",
   "execution_count": 10,
   "metadata": {},
   "outputs": [
    {
     "data": {
      "text/plain": [
       "'httpsyandex123com'"
      ]
     },
     "execution_count": 10,
     "metadata": {},
     "output_type": "execute_result"
    }
   ],
   "source": [
    "import re\n",
    "\n",
    "''.join(re.findall(r'\\w+','https://yandex123.com '))"
   ]
  },
  {
   "cell_type": "code",
   "execution_count": 2,
   "metadata": {},
   "outputs": [
    {
     "name": "stdout",
     "output_type": "stream",
     "text": [
      "4\n",
      "get https://zounsavuuxlml.org\n",
      "post http://pa.ru vi\n",
      "get http://0.ru\n",
      "get http://0.ru\n",
      "error\n",
      "http://0.ru\n",
      "vi\n",
      "vi\n"
     ]
    }
   ],
   "source": [
    "import re\n",
    "\n",
    "BASE = '0123456789abcdefghijklmnopqrstuvwxyzABCDEFGHIJKLMNOPQRSTUVWXYZ'\n",
    "b = 62\n",
    "n = int(input())\n",
    "requests = []\n",
    "for _ in range(n):\n",
    "    requests.append([x for x in input().split()])\n",
    "\n",
    "database = dict()\n",
    "num_code = dict()\n",
    "\n",
    "def decode(string):\n",
    "    decoded_string = 0\n",
    "    for i in range(len(string)):\n",
    "        pos = BASE.find(string[i])\n",
    "        decoded_string = b * decoded_string + pos\n",
    "    return str(decoded_string)\n",
    "\n",
    "def encode(num): \n",
    "    r = num % b\n",
    "    encoded_string = BASE[r]\n",
    "    𝑞 = num // b\n",
    "    while q > 0:\n",
    "        r = q % b\n",
    "        q = q // b\n",
    "        encoded_string = BASE[int(r)] + encoded_string\n",
    "    return encoded_string\n",
    "\n",
    "def f62(number):\n",
    "    a = ''\n",
    "    while number >= b:\n",
    "        a = BASE[number % b] + a\n",
    "        number = number // b\n",
    "    a= BASE[number] + a\n",
    "    return a\n",
    "\n",
    "k = 0\n",
    "for i in range(n):\n",
    "    if requests[i][0] == 'post':\n",
    "        pars_url = re.findall(r'\\w+', requests[i][1])\n",
    "        http_s = pars_url[0]\n",
    "        ru_com = pars_url[2]\n",
    "        string = ''.join(pars_url[1]) \n",
    "        begin = pars_url[0] + '://'\n",
    "        end = '.' + pars_url[2]\n",
    "        text = ''\n",
    "        for j in range(2,len(requests[i])):\n",
    "            text += requests[i][j] + ' '\n",
    "        dc = decode(string)\n",
    "        dc_begin = decode(http_s)\n",
    "        dc_end = decode(ru_com)\n",
    "        k62 = f62(k)\n",
    "        num_code[k62] = (dc_begin, dc, dc_end)\n",
    "        database[(dc_begin, dc, dc_end)] = text.strip()\n",
    "        print(begin + str(k) + end)\n",
    "        k += 1\n",
    "        \n",
    "    else:\n",
    "        url_get = re.findall(r'\\w+', requests[i][1])\n",
    "        if url_get[1].isdigit():\n",
    "            if url_get[1] in num_code.keys():\n",
    "                key = (decode(url_get[0]), num_code[url_get[1]][1], decode(url_get[2]))\n",
    "                #print(key, num_code)\n",
    "                if key in database.keys():\n",
    "                    content = database[key]\n",
    "                    print(content)\n",
    "                else:\n",
    "                    print('error')\n",
    "            else:\n",
    "                print('error')\n",
    "        else:\n",
    "            print('error')\n"
   ]
  },
  {
   "cell_type": "code",
   "execution_count": 12,
   "metadata": {},
   "outputs": [
    {
     "name": "stdout",
     "output_type": "stream",
     "text": [
      "4\n",
      "get https://zounsavuuxlml.org\n",
      "post http://pa.ru vi\n",
      "get http://0.ru\n",
      "get http://0.ru\n",
      "error\n",
      "http://0.ru\n",
      "vi\n",
      "vi\n"
     ]
    }
   ],
   "source": [
    "import re\n",
    "\n",
    "BASE = '0123456789abcdefghijklmnopqrstuvwxyzABCDEFGHIJKLMNOPQRSTUVWXYZ'\n",
    "b = 62\n",
    "n = int(input())\n",
    "requests = []\n",
    "for _ in range(n):\n",
    "    requests.append([x for x in input().split()])\n",
    "    \n",
    "# with open(r'teste21.txt','r') as f:\n",
    "#     for line in f:\n",
    "#         requests.append(line.split())\n",
    "# print(nums)\n",
    "#n = len(requests)\n",
    "database = dict()\n",
    "num_code = dict()\n",
    "\n",
    "def decode(string):\n",
    "    decoded_string = 0\n",
    "    for i in range(len(string)):\n",
    "        pos = BASE.find(string[i])\n",
    "        decoded_string = b * decoded_string + pos\n",
    "    return str(decoded_string)\n",
    "\n",
    "def encode(num): \n",
    "    r = num % b\n",
    "    encoded_string = BASE[r]\n",
    "    𝑞 = num // b\n",
    "    while q > 0:\n",
    "        r = q % b\n",
    "        q = q // b\n",
    "        encoded_string = BASE[int(r)] + encoded_string\n",
    "    return encoded_string\n",
    "\n",
    "def f62(number):\n",
    "    a = ''\n",
    "    while number >= b:\n",
    "        a = BASE[number % b] + a\n",
    "        number = number // b\n",
    "    a= BASE[number] + a\n",
    "    return a\n",
    "\n",
    "k = 0\n",
    "for i in range(n):\n",
    "    if requests[i][0] == 'post':\n",
    "        pars_url = re.findall(r'\\w+', requests[i][1])\n",
    "        http_s = pars_url[0]\n",
    "        ru_com = pars_url[2]\n",
    "        string = ''.join(pars_url[1]) \n",
    "        begin = pars_url[0] + '://'\n",
    "        end = '.' + pars_url[2]\n",
    "        text = ''\n",
    "        for j in range(2,len(requests[i])):\n",
    "            text += requests[i][j] + ' '\n",
    "        dc = decode(string)\n",
    "        dc_begin = decode(http_s)\n",
    "        dc_end = decode(ru_com)\n",
    "        k62 = f62(k)\n",
    "        num_code[k62] = (k62, dc_begin, dc, dc_end)\n",
    "        database[(k62, dc_begin, dc, dc_end)] = text.strip()\n",
    "        print(begin + str(k62) + end)\n",
    "        k += 1\n",
    "        \n",
    "    else:\n",
    "        url_get = re.findall(r'\\w+', requests[i][1])\n",
    "        if url_get[1] in num_code.keys():\n",
    "            key = (url_get[1], decode(url_get[0]), num_code[url_get[1]][2], decode(url_get[2]))\n",
    "            #print(key, num_code)\n",
    "            if key in database.keys():\n",
    "                content = database[key]\n",
    "                print(content)\n",
    "            else:\n",
    "                print('error')\n",
    "        else:\n",
    "            print('error')\n",
    "      \n"
   ]
  },
  {
   "cell_type": "code",
   "execution_count": 1,
   "metadata": {},
   "outputs": [
    {
     "name": "stdout",
     "output_type": "stream",
     "text": [
      "4\n",
      "post https://yandex.com yandex content\n",
      "post http://mail.ru mail content\n",
      "get https://0.com\n",
      "get https://1.com\n",
      "https://0.com\n",
      "http://1.ru\n",
      "yandex content\n",
      "error\n"
     ]
    }
   ],
   "source": [
    "# Это решение сдалось!\n",
    "\n",
    "import re\n",
    "\n",
    "BASE = '0123456789abcdefghijklmnopqrstuvwxyzABCDEFGHIJKLMNOPQRSTUVWXYZ'\n",
    "b = 62\n",
    "n = int(input())\n",
    "requests = []\n",
    "for _ in range(n):\n",
    "    requests.append([x for x in input().split()])\n",
    "    \n",
    "# with open(r'teste21.txt','r') as f:\n",
    "#     for line in f:\n",
    "#         requests.append(line.split())\n",
    "# print(nums)\n",
    "#n = len(requests)\n",
    "database = dict()\n",
    "#num_code = dict()\n",
    "\n",
    "def decode(string):\n",
    "    decoded_string = 0\n",
    "    for i in range(len(string)):\n",
    "        pos = BASE.find(string[i])\n",
    "        decoded_string = b * decoded_string + pos\n",
    "    return str(decoded_string)\n",
    "\n",
    "def encode(num): \n",
    "    r = num % b\n",
    "    encoded_string = BASE[r]\n",
    "    𝑞 = num // b\n",
    "    while q > 0:\n",
    "        r = q % b\n",
    "        q = q // b\n",
    "        encoded_string = BASE[int(r)] + encoded_string\n",
    "    return encoded_string\n",
    "\n",
    "def f62(number):\n",
    "    a = ''\n",
    "    while number >= b:\n",
    "        a = BASE[number % b] + a\n",
    "        number = number // b\n",
    "    a= BASE[number] + a\n",
    "    return a\n",
    "\n",
    "k = 0\n",
    "for i in range(n):\n",
    "    if requests[i][0] == 'post':\n",
    "        pars_url = re.findall(r'\\w+', requests[i][1])\n",
    "        http_s = pars_url[0]\n",
    "        ru_com = pars_url[2]\n",
    "        #string = ''.join(pars_url[1]) \n",
    "        begin = pars_url[0] + '://'\n",
    "        end = '.' + pars_url[2]\n",
    "        text = ''\n",
    "        for j in range(2,len(requests[i])):\n",
    "            text += requests[i][j] + ' '\n",
    "        #dc = decode(string)\n",
    "        dc_begin = decode(http_s)\n",
    "        dc_end = decode(ru_com)\n",
    "        k62 = f62(k)\n",
    "        #num_code[k62] = (k62, dc_begin, dc, dc_end)\n",
    "        database[(k62, dc_begin, dc_end)] = text.strip()\n",
    "        print(begin + str(k62) + end)\n",
    "        k += 1\n",
    "        \n",
    "    else:\n",
    "        url_get = re.findall(r'\\w+', requests[i][1])\n",
    "        key = (url_get[1], decode(url_get[0]), decode(url_get[2]))\n",
    "        #print(key, num_code)\n",
    "        if key in database.keys():\n",
    "            content = database[key]\n",
    "            print(content)\n",
    "        else:\n",
    "            print('error')\n",
    "        \n",
    "      \n"
   ]
  },
  {
   "cell_type": "code",
   "execution_count": 11,
   "metadata": {},
   "outputs": [
    {
     "data": {
      "text/plain": [
       "('0', '4164875', '4164875', '1704')"
      ]
     },
     "execution_count": 11,
     "metadata": {},
     "output_type": "execute_result"
    }
   ],
   "source": [
    "4\n",
    "post https://yandex.com yandex content\n",
    "post http://mail.ru mail content\n",
    "get https://0.com\n",
    "get https://1.com\n",
    "\n",
    "Вывод:\n",
    "https://0.com\n",
    "http://1.ru\n",
    "yandex content\n",
    "error"
   ]
  },
  {
   "cell_type": "code",
   "execution_count": null,
   "metadata": {},
   "outputs": [],
   "source": [
    "http://0.ru\n",
    "error\n",
    "error\n",
    "error\n",
    "http://1.ru\n",
    "error\n",
    "error\n",
    "https://2.com\n",
    "https://3.org\n",
    "error\n",
    "error\n",
    "https://4.org\n",
    "https://5.org\n",
    "https://6.com\n",
    "error\n",
    "http://7.ru\n",
    "error\n",
    "https://8.com\n",
    "http://9.ru\n",
    "error\n",
    "https://a.com\n",
    "https://b.org\n",
    "error\n",
    "https://c.com\n",
    "http://d.ru\n",
    "http://e.ru\n",
    "error\n",
    "error\n",
    "error\n",
    "error\n",
    "error\n",
    "https://f.com\n",
    "https://g.org\n",
    "error\n",
    "\n",
    "\n",
    "1\n",
    "get https://1.org\n",
    "    \n",
    "error\n",
    "\n",
    "4\n",
    "post https://yandex.com yandex content\n",
    "post http://mail.ru mail content\n",
    "get https://0.com\n",
    "get https://1.com\n",
    "\n",
    "Вывод:\n",
    "https://0.com\n",
    "http://1.ru\n",
    "yandex content\n",
    "error\n",
    "\n",
    "2\n",
    "post https://python.org python\n",
    "get https://56yf.org\n",
    "    \n",
    "https://0.org\n",
    "error\n",
    "\n",
    "4\n",
    "get https://zounsavuuxlml.org\n",
    "post http://pa.ru vi\n",
    "get http://0.ru\n",
    "get http://0.ru\n",
    "    \n",
    "error\n",
    "http://0.ru\n",
    "vi\n",
    "vi"
   ]
  },
  {
   "cell_type": "code",
   "execution_count": 11,
   "metadata": {},
   "outputs": [
    {
     "name": "stdout",
     "output_type": "stream",
     "text": [
      "780\n",
      "cA\n"
     ]
    }
   ],
   "source": [
    "# Перевод числа в 62 ричную систему исчисления\n",
    "number = int(input())\n",
    "BASE = '0123456789abcdefghijklmnopqrstuvwxyzABCDEFGHIJKLMNOPQRSTUVWXYZ'\n",
    "b = 62\n",
    "\n",
    "def f62(a):\n",
    "    a = ''\n",
    "    while number >= b:\n",
    "        a = BASE[number % b] + a\n",
    "        number = number // b\n",
    "    a= BASE[number] + a\n",
    "    return a\n",
    "print(a)"
   ]
  },
  {
   "cell_type": "code",
   "execution_count": 15,
   "metadata": {},
   "outputs": [
    {
     "data": {
      "text/plain": [
       "[['post', 'https://yandex.com', 'yandex', 'content']]"
      ]
     },
     "execution_count": 15,
     "metadata": {},
     "output_type": "execute_result"
    }
   ],
   "source": [
    "requests"
   ]
  },
  {
   "cell_type": "code",
   "execution_count": 2,
   "metadata": {},
   "outputs": [
    {
     "data": {
      "text/plain": [
       "{'0': '61541598396344'}"
      ]
     },
     "execution_count": 2,
     "metadata": {},
     "output_type": "execute_result"
    }
   ],
   "source": [
    "num_code"
   ]
  },
  {
   "cell_type": "code",
   "execution_count": 3,
   "metadata": {},
   "outputs": [
    {
     "data": {
      "text/plain": [
       "{'61541598396344': 'vi'}"
      ]
     },
     "execution_count": 3,
     "metadata": {},
     "output_type": "execute_result"
    }
   ],
   "source": [
    "database"
   ]
  },
  {
   "cell_type": "code",
   "execution_count": 39,
   "metadata": {},
   "outputs": [
    {
     "data": {
      "text/plain": [
       "'https://56yf.org'"
      ]
     },
     "execution_count": 39,
     "metadata": {},
     "output_type": "execute_result"
    }
   ],
   "source": [
    "requests[1][1]"
   ]
  },
  {
   "cell_type": "code",
   "execution_count": 40,
   "metadata": {},
   "outputs": [
    {
     "data": {
      "text/plain": [
       "['https', '56yf', 'org']"
      ]
     },
     "execution_count": 40,
     "metadata": {},
     "output_type": "execute_result"
    }
   ],
   "source": [
    "re.findall(r'\\w+', requests[i][1])[1]"
   ]
  },
  {
   "cell_type": "code",
   "execution_count": 1,
   "metadata": {},
   "outputs": [
    {
     "data": {
      "text/plain": [
       "62"
      ]
     },
     "execution_count": 1,
     "metadata": {},
     "output_type": "execute_result"
    }
   ],
   "source": [
    "len('0123456789abcdefghijklmnopqrstuvwxyzABCDEFGHIJKLMNOPQRSTUVWXYZ')"
   ]
  },
  {
   "cell_type": "code",
   "execution_count": 4,
   "metadata": {},
   "outputs": [
    {
     "data": {
      "text/plain": [
       "'O'"
      ]
     },
     "execution_count": 4,
     "metadata": {},
     "output_type": "execute_result"
    }
   ],
   "source": [
    "BASE = '0123456789abcdefghijklmnopqrstuvwxyzABCDEFGHIJKLMNOPQRSTUVWXYZ'\n",
    "BASE[50]"
   ]
  },
  {
   "cell_type": "code",
   "execution_count": 6,
   "metadata": {},
   "outputs": [
    {
     "data": {
      "text/plain": [
       "'H'"
      ]
     },
     "execution_count": 6,
     "metadata": {},
     "output_type": "execute_result"
    }
   ],
   "source": [
    "BASE[43]"
   ]
  },
  {
   "cell_type": "code",
   "execution_count": null,
   "metadata": {},
   "outputs": [],
   "source": []
  },
  {
   "cell_type": "markdown",
   "metadata": {},
   "source": [
    "### B. Хеш-таблица   \n",
    "\n",
    "Также после указа Кондратия нужно реализовать собственную хеш-таблицу.  \n",
    "\n",
    "Хеш - таблица должна поддерживать следующие операции:  \n",
    "\n",
    "put key value — добавление пары ключ-значение   \n",
    "get key — получить значение по ключу. Если ключа нет в таблице, то вывести -1. Иначе вывести найденное значение.  \n",
    "delete key — удаление ключа из таблицы. Если такого ключа нет, то вывести error, иначе вывести ok и удалить ключ.   \n",
    "В таблице хранятся уникальные ключи.  \n",
    "\n",
    "Требования к реализации:  \n",
    "\n",
    "размер таблицы не превосходит 1000  \n",
    "разрешение коллизий с помощью метода цепочек  \n",
    "все операции выполняются за O(1) в среднем  \n",
    "\n",
    "Формат ввода   \n",
    "В первой строке задано общее число запросов к таблице n (1 ≤ n ≤ 10**5).   \n",
    "В следующих n строках даны запросы. Запросы бывают трех видов: get, put, delete, как описано в условии.  \n",
    "\n",
    "Все ключи и значения — целые неотрицательные числа, не превосходящие 10**9.   \n",
    "\n",
    "Формат вывода  \n",
    "На каждый запрос вида get и delete выведите ответ на него в отдельной строке.   \n",
    "Для delete — «ok» или «errror». Для get — найденное значение или -1.  \n",
    "\n",
    "Ввод:   \n",
    "10  \n",
    "put 1 2  \n",
    "put 2 4  \n",
    "put 3 6  \n",
    "get 3  \n",
    "delete 4  \n",
    "put 3 7  \n",
    "get 3  \n",
    "delete 1  \n",
    "get 1  \n",
    "get 2  \n",
    "\n",
    "Вывод:   \n",
    "6  \n",
    "error  \n",
    "7  \n",
    "ok  \n",
    "-1  \n",
    "4   \n",
    "\n",
    "Ввод:  \n",
    "20  \n",
    "delete 683454583  \n",
    "delete 557302675  \n",
    "get 104133646  \n",
    "put 390937043 905773224  \n",
    "put 932742196 671195211  \n",
    "put 409644164 127389022  \n",
    "delete 409644164  \n",
    "put 164848455 599924610  \n",
    "put 542998788 865196669  \n",
    "get 332245103  \n",
    "put 390937043 596910689  \n",
    "put 288725521 913383384  \n",
    "put 390937043 46508045  \n",
    "put 810624531 876112232  \n",
    "get 948343935  \n",
    "get 376278694  \n",
    "put 164848455 687739065  \n",
    "get 164848455  \n",
    "put 224429424 232085088  \n",
    "put 288725521 125651466  \n",
    "\n",
    "Вывод:   \n",
    "error  \n",
    "error  \n",
    "-1   \n",
    "ok   \n",
    "-1   \n",
    "-1   \n",
    "-1  \n",
    "687739065  "
   ]
  },
  {
   "cell_type": "code",
   "execution_count": 12,
   "metadata": {},
   "outputs": [
    {
     "name": "stdout",
     "output_type": "stream",
     "text": [
      "20\n",
      "delete 683454583\n",
      "delete 557302675\n",
      "get 104133646\n",
      "put 390937043 905773224\n",
      "put 932742196 671195211\n",
      "put 409644164 127389022\n",
      "delete 409644164\n",
      "put 164848455 599924610\n",
      "put 542998788 865196669\n",
      "get 332245103\n",
      "put 390937043 596910689\n",
      "put 288725521 913383384\n",
      "put 390937043 46508045\n",
      "put 810624531 876112232\n",
      "get 948343935\n",
      "get 376278694\n",
      "put 164848455 687739065\n",
      "get 164848455\n",
      "put 224429424 232085088\n",
      "put 288725521 125651466\n",
      "error\n",
      "error\n",
      "-1\n",
      "ok\n",
      "-1\n",
      "-1\n",
      "-1\n",
      "687739065\n"
     ]
    }
   ],
   "source": [
    "# Это решение сдалось!\n",
    "\n",
    "db_value = 883\n",
    "dict_values = [[] for i in range(db_value)]\n",
    "ans = []\n",
    "\n",
    "n = int(input())\n",
    "L = []\n",
    "for i in range(n):\n",
    "    L.append(input().split())\n",
    "\n",
    "    \n",
    "for i in range(n):\n",
    "    key = int(L[i][1]) % db_value\n",
    "    \n",
    "    if L[i][0] == 'put':\n",
    "        F = 0\n",
    "        for j in range(len(dict_values[key])):\n",
    "            if L[i][1] == dict_values[key][j][0]:\n",
    "                dict_values[key][j] = [L[i][1], L[i][2]]\n",
    "                F = 1\n",
    "                break\n",
    "        if F == 0:\n",
    "            dict_values[key].append([L[i][1], L[i][2]])\n",
    "            \n",
    "        \n",
    "    elif L[i][0] == 'get':\n",
    "        F = 0\n",
    "        for j in range(len(dict_values[key])):\n",
    "            k, value = dict_values[key][j]\n",
    "            if k == str(L[i][1]):\n",
    "                ans.append(value) \n",
    "                F = 1\n",
    "                break\n",
    "        if F == 0:\n",
    "            ans.append('-1')\n",
    "            \n",
    "    elif L[i][0] == 'delete':\n",
    "        F = 0\n",
    "        for j in range(len(dict_values[key])):\n",
    "            k, value = dict_values[key][j]\n",
    "            if k == str(L[i][1]):\n",
    "                dict_values[key].pop(j)\n",
    "                ans.append('ok')  \n",
    "                F = 1\n",
    "                break\n",
    "        if F == 0:\n",
    "            ans.append('error')\n",
    "for x in ans:\n",
    "    print(x)"
   ]
  },
  {
   "cell_type": "code",
   "execution_count": 10,
   "metadata": {},
   "outputs": [
    {
     "name": "stdout",
     "output_type": "stream",
     "text": [
      "['delete 84609478', 'put 326521713 49901830', 'put 24962286 577369961', 'delete 620306633', 'delete 109364249', 'put 24962286 879663106', 'put 24962286 262732585', 'put 994422276 9012360', 'put 43830422 357171175', 'delete 190143752', 'put 762996367 700838227', 'get 24962286', 'get 235572963', 'put 15479869 657700932', 'delete 646566264', 'put 414591394 4709941', 'delete 429006091', 'put 24962286 862469715', 'get 595275793', 'delete 414591394', 'delete 325700125', 'put 626966435 947582270', 'get 572683885', 'get 994422276', 'delete 205889601', 'get 24962286', 'delete 414591394', 'put 15479869 930260167', 'get 24962286', 'delete 303409534', 'put 326521713 512282503', 'put 24962286 441095888', 'get 326521713', 'put 994422276 970316527', 'delete 111303036', 'put 607246100 54302766', 'put 326521713 170156037', 'put 994422276 328803975', 'put 15479869 689580697', 'put 398440613 932982829', 'put 15479869 476616418', 'put 754448486 568784889', 'put 994422276 886258077', 'put 126982035 767206814', 'delete 821554490', 'get 15479869', 'put 24962286 425841220', 'put 100482549 755275198', 'get 771378039', 'delete 64499547', 'put 616144034 800323715', 'get 73838524', 'put 606734261 195083565', 'put 85563794 874575002', 'delete 438194957', 'delete 24962286', 'delete 518176038', 'put 63877801 132707855', 'put 414591394 430743683', 'get 15479869', 'delete 27027399', 'get 994422276', 'delete 24962286', 'put 368533264 121959691', 'delete 994858546', 'put 138172584 458195071', 'get 966598488', 'put 453532023 626246505', 'delete 206035685', 'put 891496610 268611556', 'put 685507703 540184810', 'put 15479869 990493257', 'put 762996367 932370106', 'get 428722419', 'put 15479869 413286030', 'delete 762996367', 'put 414591394 984895281', 'put 43830422 957918797', 'get 267653364', 'delete 754448486', 'get 398440613', 'get 244464935', 'get 326521713', 'put 15479869 381083964', 'delete 994422276', 'delete 872847493', 'get 962301947', 'put 275428058 614948704', 'delete 910863436', 'put 994422276 969445302', 'get 924515707', 'put 15479869 478355664', 'put 634055648 456330906', 'put 280050970 663542927', 'delete 100482549', 'put 994422276 728523381', 'put 169976772 177132287', 'delete 169976772', 'put 616144034 89964732', 'delete 111514072', 'put 994422276 999329255', 'put 259485106 998702962', 'put 685507703 448725019', 'put 100482549 154331576', 'delete 634055648', 'put 174216268 602414350', 'put 326521713 10009708', 'get 803290604', 'put 273422555 316294233', 'put 816665623 732217447', 'delete 15479869', 'get 440145684', 'put 747074773 346308207', 'put 606734261 757383078', 'put 368533264 918380325', 'get 481621705', 'get 616144034', 'put 100482549 523788162', 'get 368533264', 'put 891496610 786461962', 'put 15479869 959750581', 'get 436307241', 'get 720549654', 'get 753578401', 'get 15479869', 'put 15479869 16882665', 'delete 43830422', 'get 554460260', 'put 891496610 907444150', 'put 256678449 499607042', 'put 280050970 497839679', 'get 174216268', 'put 301664212 26039672', 'put 311466551 875630025', 'put 682685949 838762755', 'get 326521713', 'delete 275428058', 'put 174216268 356505044', 'get 634055648', 'put 326521713 850844627', 'get 326521713', 'delete 43830422', 'put 15479869 859218825', 'get 634145858', 'delete 49839379', 'get 15479869', 'get 280050970', 'put 427639234 833147605', 'put 936666526 349095324', 'put 453532023 561809057', 'put 335666980 957195656', 'put 616144034 280989765', 'put 105722155 111475466', 'get 51928282', 'get 652107990', 'put 280050970 292022027', 'delete 5108733', 'put 384036474 706566492', 'delete 71587899', 'put 24962286 839906434', 'put 143424534 866928634', 'get 174216268', 'get 275428058', 'delete 326521713', 'get 695969263', 'put 326521713 403611417', 'put 924919996 361483861', 'put 9869844 995355081', 'get 835426045', 'get 15479869', 'put 326521713 698314011', 'put 108403891 887008098', 'delete 100482549', 'delete 606734261', 'put 634055648 75039241', 'get 346653449', 'get 939376914', 'put 634055648 183740465', 'delete 343287282', 'delete 405823379', 'delete 754448486', 'put 280050970 585233982', 'get 427639234', 'put 891496610 123928632', 'put 762996367 47981886', 'put 15479869 812639549', 'put 136672721 841527962', 'put 621595576 77508728', 'put 701792723 922102166', 'put 958275660 934872610', 'put 483313643 151110914', 'delete 585960219', 'get 280050970', 'get 255659410', 'delete 326521713', 'get 316227059', 'delete 416305566', 'get 398440613', 'get 249804196', 'put 936666526 673247118', 'put 601435884 951597691', 'delete 24962286', 'put 542937053 765490216', 'get 326521713', 'delete 126982035', 'get 359863009', 'put 606734261 724463489', 'put 151116933 587548284', 'put 93337826 895192815', 'put 663445521 57922753', 'delete 93337826', 'put 325728293 984936065', 'put 994422276 406359493', 'put 849597394 536534316', 'put 477298471 430875109', 'get 478484258', 'delete 685507703', 'put 138172584 564909019', 'get 375942216', 'put 398440613 418977825', 'put 423849339 421710704', 'put 782787372 102832294', 'get 197942818', 'put 954240574 547890', 'get 69077861', 'put 385521816 534348323', 'put 280050970 915960382', 'delete 663445521', 'get 15479869', 'put 15479869 407928091', 'put 822353118 769885312', 'get 489309641', 'delete 24962286', 'put 259485106 392976702', 'delete 726691062', 'delete 521134824', 'put 143424534 332174765', 'put 235237882 875844962', 'put 368533264 975824640', 'get 994422276', 'delete 15479869', 'delete 626966435', 'put 301664212 1972446', 'delete 765496216', 'get 663445521', 'get 994422276']\n"
     ]
    }
   ],
   "source": [
    "# Запись данных из файла в массив\n",
    "# O = []\n",
    "# with open(r'new_1.txt','r') as f:\n",
    "#      L = f.read().splitlines()\n",
    "# print(nums)"
   ]
  },
  {
   "cell_type": "code",
   "execution_count": null,
   "metadata": {},
   "outputs": [],
   "source": [
    "# Запись ответа в файл myans.txt\n",
    "# with open(r'myans.txt','w') as f:\n",
    "#     for x in ans:\n",
    "#         f.write(''.join(x) + '\\n')\n",
    "#         print(x)"
   ]
  },
  {
   "cell_type": "code",
   "execution_count": 5,
   "metadata": {},
   "outputs": [],
   "source": [
    "\n",
    "# ans = []\n",
    "# with open(r'ans.txt','r') as f:\n",
    "#     for line in f:\n",
    "#         ans.append(line.split())"
   ]
  },
  {
   "cell_type": "code",
   "execution_count": 13,
   "metadata": {},
   "outputs": [],
   "source": [
    "# Сравнение моего ответа с тем ответом, который должен быть\n",
    "# with open(r'myans.txt','r') as f:\n",
    "#     with open(r'ans.txt','r') as g:\n",
    "#         for i in range(100000):\n",
    "#             a = f.readline()\n",
    "#             b = g.readline()\n",
    "#             if a[:len(b)-1] != b[:len(b)-1]:\n",
    "#                 print(f'Мой ответ: {a}Ответ: {b}i = {i}')\n",
    "                "
   ]
  },
  {
   "cell_type": "code",
   "execution_count": null,
   "metadata": {},
   "outputs": [],
   "source": []
  },
  {
   "cell_type": "code",
   "execution_count": null,
   "metadata": {},
   "outputs": [],
   "source": []
  },
  {
   "cell_type": "code",
   "execution_count": null,
   "metadata": {},
   "outputs": [],
   "source": []
  },
  {
   "cell_type": "code",
   "execution_count": null,
   "metadata": {},
   "outputs": [],
   "source": []
  },
  {
   "cell_type": "code",
   "execution_count": null,
   "metadata": {},
   "outputs": [],
   "source": []
  },
  {
   "cell_type": "code",
   "execution_count": null,
   "metadata": {},
   "outputs": [],
   "source": []
  },
  {
   "cell_type": "code",
   "execution_count": null,
   "metadata": {},
   "outputs": [],
   "source": []
  },
  {
   "cell_type": "code",
   "execution_count": null,
   "metadata": {},
   "outputs": [],
   "source": []
  },
  {
   "cell_type": "code",
   "execution_count": null,
   "metadata": {},
   "outputs": [],
   "source": []
  },
  {
   "cell_type": "code",
   "execution_count": null,
   "metadata": {},
   "outputs": [],
   "source": []
  },
  {
   "cell_type": "code",
   "execution_count": null,
   "metadata": {},
   "outputs": [],
   "source": []
  },
  {
   "cell_type": "code",
   "execution_count": null,
   "metadata": {},
   "outputs": [],
   "source": []
  },
  {
   "cell_type": "code",
   "execution_count": null,
   "metadata": {},
   "outputs": [],
   "source": []
  },
  {
   "cell_type": "code",
   "execution_count": null,
   "metadata": {},
   "outputs": [],
   "source": []
  },
  {
   "cell_type": "code",
   "execution_count": null,
   "metadata": {},
   "outputs": [],
   "source": []
  },
  {
   "cell_type": "code",
   "execution_count": null,
   "metadata": {},
   "outputs": [],
   "source": []
  },
  {
   "cell_type": "code",
   "execution_count": null,
   "metadata": {},
   "outputs": [],
   "source": []
  }
 ],
 "metadata": {
  "kernelspec": {
   "display_name": "Python 3",
   "language": "python",
   "name": "python3"
  },
  "language_info": {
   "codemirror_mode": {
    "name": "ipython",
    "version": 3
   },
   "file_extension": ".py",
   "mimetype": "text/x-python",
   "name": "python",
   "nbconvert_exporter": "python",
   "pygments_lexer": "ipython3",
   "version": "3.7.3"
  }
 },
 "nbformat": 4,
 "nbformat_minor": 2
}
