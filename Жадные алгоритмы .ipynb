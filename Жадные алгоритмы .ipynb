{
 "cells": [
  {
   "cell_type": "markdown",
   "metadata": {},
   "source": [
    "### A. Расписание   \n",
    "\n",
    "Помогите Алле написать код алгоритма для выбора уроков, которые пройдут в классе.    \n",
    "Дано расписание предметов. Нужно составить расписание, в соответствии с которым    \n",
    "в классе можно будет провести как можно больше уроков.   \n",
    "   \n",
    "Формат ввода                                                    \n",
    "В первой строке задано число предметов. Оно не превосходит 1000.                         \n",
    "Далее для каждого предмета в отдельной строке записано время начала и окончания урока.        \n",
    "Обратите внимание на формат времени. Указываются только значащие цифры.               \n",
    "\n",
    "Формат вывода                                                                                                    \n",
    "Выведите информацию о всех уроках, которые нужно провести в кабинете, в порядке возрастания времени начала.           \n",
    "\n",
    "\n",
    "Ввод:   \n",
    "5    \n",
    "9 10      \n",
    "9.3 10.3  \n",
    "10 11     \n",
    "10.3 11.3   \n",
    "11 12   \n",
    "\n",
    "Вывод:   \n",
    "3     \n",
    "9 10   \n",
    "10 11   \n",
    "11 12   \n",
    "\n",
    "Ввод:      \n",
    "3   \n",
    "9 10     \n",
    "11 12.25    \n",
    "12.15 13.3    \n",
    "\n",
    "Вывод:   \n",
    "2     \n",
    "9 10     \n",
    "11 12.25    \n",
    "\n",
    "Ввод:   \n",
    "7    \n",
    "19 19   \n",
    "7 14   \n",
    "12 14   \n",
    "8 22   \n",
    "22 23   \n",
    "5 21   \n",
    "9 23   \n",
    "\n",
    "Вывод:   \n",
    "3    \n",
    "7 14   \n",
    "19 19   \n",
    "22 23   \n",
    "\n",
    "Примечания                                                                                     \n",
    "Если возможно несколько оптимальных вариантов, нужно выбирать урок, у которого начало раньше.         \n",
    "Возможно проведение более чем одного урока нулевой длительности одновременно.    \n",
    "\n",
    "\n",
    "\n",
    "\n",
    "\n",
    "\n"
   ]
  },
  {
   "cell_type": "code",
   "execution_count": 2,
   "metadata": {},
   "outputs": [
    {
     "name": "stdout",
     "output_type": "stream",
     "text": [
      "5\n",
      "9 10\n",
      "9.3 10.3\n",
      "10 11\n",
      "10.3 11.3\n",
      "11 12\n",
      "3\n",
      "9 10\n",
      "10 11\n",
      "11 12\n"
     ]
    }
   ],
   "source": [
    "n = int(input())\n",
    "L = [input().split() for _ in range(n)]     \n",
    "LLL = []\n",
    "for x in L:\n",
    "    h = [float(y) for y in x]\n",
    "    LLL.append(h)\n",
    "from operator import itemgetter\n",
    "\n",
    "LLL.sort(key=itemgetter(1,0))\n",
    "K = [LLL[0]]\n",
    "i = 1\n",
    "j = 0\n",
    "while i < len(LLL):\n",
    "    if LLL[i][0]>=LLL[j][1]:\n",
    "        K.append(LLL[i])\n",
    "        j = i\n",
    "    i += 1\n",
    "\n",
    "print(len(K))\n",
    "U = []\n",
    "for x in K:\n",
    "    h = []\n",
    "    for y in x:\n",
    "        if int(y) < y:\n",
    "            h.append(str(y))\n",
    "        else:\n",
    "            h.append(str(int(y)))\n",
    "    U.append(h)\n",
    "\n",
    "for x in U:\n",
    "    print(' '.join(x))"
   ]
  },
  {
   "cell_type": "markdown",
   "metadata": {},
   "source": [
    "### B. Биржа    \n",
    "Рита захотела подзаработать денег и решила поиграть на бирже.    \n",
    "Она подумала, что сначала нужно потренироваться на исторических данных.   \n",
    "\n",
    "Дан массив цен акций. На i-й позиции массива — цена в i-й день.    \n",
    "Акции можно покупать и продавать, но только по одной штуке.    \n",
    "В одно время не должно быть более одной открытой транзакции.    \n",
    "\n",
    "Помогите Рите выяснить, какую максимальную прибыль она может получить.   \n",
    "\n",
    "Формат ввода   \n",
    "В первой строке записано целое число n. Оно находится в диапазоне от 0 до 10000.   \n",
    "\n",
    "Во второй строке через пробел записаны n целых чисел в диапазоне от 0 до 1000.   \n",
    "\n",
    "Формат вывода   \n",
    "Нужно вывести число, равное максимально возможной прибыли за эти дни.   \n",
    "\n",
    "Ввод:   \n",
    "6   \n",
    "7 1 5 3 6 4   \n",
    "Вывод:   \n",
    "7   \n",
    "\n",
    "Ввод:   \n",
    "5        \n",
    "1 2 3 4 5   \n",
    "\n",
    "Вывод:   \n",
    "4    \n",
    "\n",
    "Ввод:   \n",
    "6             \n",
    "1 12 12 16 1 8   \n",
    "\n",
    "Вывод:   \n",
    "22\n"
   ]
  },
  {
   "cell_type": "code",
   "execution_count": null,
   "metadata": {},
   "outputs": [],
   "source": [
    "n = int(input())\n",
    "L = [int(x) for x in input().split()]\n",
    "\n",
    "\n",
    "def f(n,L):\n",
    "    summa = 0\n",
    "    i = 0\n",
    "    while i < n:\n",
    "        if i == n-2 and L[i] < L[n-1]:\n",
    "            summa += (L[n-1] - L[n-2])\n",
    "        k = 1\n",
    "        for j in range(i+1,n-1):\n",
    "            if L[i] > L[j]:\n",
    "                break\n",
    "            if L[i] < L[j] and L[j] >= L[j+1]:\n",
    "                summa += (L[j] - L[i])\n",
    "                k = j-i+1\n",
    "                break\n",
    "            if j == n-2 and L[i] < L[n-2] < L[n-1]:\n",
    "                summa += (L[j+1]-L[i])\n",
    "                return summa\n",
    "        i += k\n",
    "    return summa\n",
    "\n",
    "print(f(n,L))"
   ]
  },
  {
   "cell_type": "code",
   "execution_count": null,
   "metadata": {},
   "outputs": [],
   "source": [
    "# Без функции время работы программы увеличивается засчет лишних сравнений F\n",
    "\n",
    "n = int(input())\n",
    "L = [int(x) for x in input().split()]\n",
    "\n",
    "\n",
    "summa = 0\n",
    "\n",
    "i = 0\n",
    "F = 0\n",
    "\n",
    "while i < n and F == 0:\n",
    "    if i == n-2 and L[n-2] < L[n-1]:\n",
    "        summa += (L[n-1] - L[n-2])\n",
    "    k = 1\n",
    "    for j in range(i+1,n-1):\n",
    "        if L[i] > L[j]:\n",
    "            break\n",
    "        if L[i] < L[j] >= L[j+1]:\n",
    "            summa += (L[j] - L[i])\n",
    "            k = j-i+1\n",
    "            break\n",
    "        if j == n-2 and L[i] < L[n-2] < L[n-1]:\n",
    "            summa += (L[n-1]-L[i])\n",
    "            F = 1\n",
    "                    \n",
    "    i += k\n",
    "\n",
    "print(summa)"
   ]
  },
  {
   "cell_type": "markdown",
   "metadata": {},
   "source": [
    "### C. Подпоследовательность    \n",
    "\n",
    "Вася любит играть в игру Подпоследовательность. Даны 2 строки, и нужно понять,    \n",
    "является ли первая из них подпоследовательностью второй. Когда строки достаточно длинные,    \n",
    "иногда очень трудно получить ответ на этот вопрос, просто посмотрев на них.    \n",
    "Помогите Васе, напишите функцию, которая решает эту задачу.   \n",
    "\n",
    "Формат ввода    \n",
    "В первой строке записана строка s.   \n",
    "\n",
    "Во второй — строка t.    \n",
    "\n",
    "Обе строки состоят из маленьких латинских букв, длины строк не превосходят 1000.   \n",
    "\n",
    "Формат вывода                                                             \n",
    "Выведите True, если s является подпоследовательностью t, иначе — False.    \n",
    "\n",
    "Ввод:      \n",
    "abc   \n",
    "ahbgdcu   \n",
    "\n",
    "Выв:од   \n",
    "True   \n",
    "\n",
    "Ввод:     \n",
    "abcp  \n",
    "ahpc   \n",
    "\n",
    "Вывод:    \n",
    "False"
   ]
  },
  {
   "cell_type": "code",
   "execution_count": 3,
   "metadata": {},
   "outputs": [
    {
     "name": "stdout",
     "output_type": "stream",
     "text": [
      "abcp  \n",
      "ahpc\n",
      "False\n"
     ]
    }
   ],
   "source": [
    "s = input()\n",
    "t = input()\n",
    "i = 0\n",
    "E = 0\n",
    "while i < len(t):\n",
    "    F = 0\n",
    "    j = i\n",
    "    for k in range(len(s)):\n",
    "        while j < len(t):\n",
    "            if s[k] == t[j]:\n",
    "                F += 1\n",
    "                break\n",
    "            j += 1\n",
    "    if F == len(s):\n",
    "        E = 1\n",
    "        break\n",
    "    i += 1\n",
    "if E == 1:\n",
    "    print('True')\n",
    "else:\n",
    "    print('False')"
   ]
  },
  {
   "cell_type": "code",
   "execution_count": 4,
   "metadata": {},
   "outputs": [
    {
     "name": "stdout",
     "output_type": "stream",
     "text": [
      "abc\n",
      "abc\n",
      "True\n"
     ]
    }
   ],
   "source": [
    "from collections import defaultdict\n",
    "s = input()\n",
    "t = input()\n",
    "i = 0\n",
    "E = 0\n",
    "d_s = defaultdict(int)\n",
    "d_t = defaultdict(int)\n",
    "for x in s:\n",
    "       d_s[x] += 1\n",
    "       \n",
    "for x in t:\n",
    "       d_t[x] += 1\n",
    "if d_s == d_t:\n",
    "    while i < len(t):\n",
    "        F = 0\n",
    "        j = i\n",
    "        for k in range(len(s)):\n",
    "            while j < len(t):\n",
    "                if s[k] == t[j]:\n",
    "                    F += 1\n",
    "                    break\n",
    "                j += 1\n",
    "        if F == len(s):\n",
    "            E = 1\n",
    "            break\n",
    "        i += 1\n",
    "    if E == 1:\n",
    "        print('True')\n",
    "    else:\n",
    "        print('False')\n",
    "else:\n",
    "       print('False')"
   ]
  },
  {
   "cell_type": "code",
   "execution_count": 8,
   "metadata": {},
   "outputs": [
    {
     "name": "stdout",
     "output_type": "stream",
     "text": [
      "abcp  \n",
      "ahpc\n",
      "False\n"
     ]
    }
   ],
   "source": [
    "s = input()\n",
    "t = input()\n",
    "n_t = len(t)\n",
    "j = 0\n",
    "F = 0\n",
    "for x in s:\n",
    "    while j < n_t:\n",
    "        if x == t[j]:\n",
    "            F += 1\n",
    "            j += 1\n",
    "            break\n",
    "        j += 1\n",
    "\n",
    "if F == len(s):\n",
    "    print('True')\n",
    "else:\n",
    "    print('False')"
   ]
  },
  {
   "cell_type": "markdown",
   "metadata": {},
   "source": [
    "### D. Ценный рюкзак     \n",
    "\n",
    "Реализуйте код алгоритма заполнения рюкзака, рассмотренного в лекции.    \n",
    "\n",
    "Формат ввода                                                                             \n",
    "В первой строке записано целое число с в диапазоне от 0 до 1000 — вместимость рюкзака.   \n",
    "\n",
    "Во второй — число n — количество предметов. Оно не больше 10000.        \n",
    "\n",
    "В следующих n строках записано по 2 числа, разделенные пробелом: стоимость    \n",
    "предмета и его вес. Оба числа не превосходят 1000    \n",
    "\n",
    "Формат вывода                                                     \n",
    "Нужно в строке вывести в отсортированном порядке номера предметов,        \n",
    "которые будут выбраны. Номер предмета - это порядковый номер его появления           \n",
    "во входных данных. (Индексация начинается с нуля)          \n",
    "\n",
    "Ввод:   \n",
    "36  \n",
    "4     \n",
    "25 50   \n",
    "30 40   \n",
    "10 80   \n",
    "2 3   \n",
    "\n",
    "Вывод:   \n",
    "3\n",
    "\n",
    "Ввод:   \n",
    "123   \n",
    "4    \n",
    "25 50   \n",
    "30 40   \n",
    "30 80   \n",
    "2 3   \n",
    "\n",
    "Вывод:   \n",
    "1 2 3   \n",
    "\n",
    "Примечания                                                                    \n",
    "Если стоимость предметов одинаковая, то выбираем предмет с меньшим весом.     \n",
    "Если при этом и вес одинаковый, выбираем тот, который пришел на вход первым.    \n",
    "\n",
    "\n"
   ]
  },
  {
   "cell_type": "code",
   "execution_count": 7,
   "metadata": {},
   "outputs": [
    {
     "name": "stdout",
     "output_type": "stream",
     "text": [
      "40\n",
      "val-=83\n",
      "40\n",
      "val-=43\n",
      "40\n",
      "val-=3\n",
      "40\n",
      "3\n",
      "val-=0\n",
      "3\n",
      "50\n",
      "1 3\n"
     ]
    }
   ],
   "source": [
    "# Развитие этого решения подойдет если каждого предмета много\n",
    "# и не важен когда появился предмет по отношению к первому с той же ценой и объемом\n",
    "\n",
    "val = int(input())\n",
    "n = int(input())\n",
    "\n",
    "L = [input().split() for _ in range(n)]\n",
    "LL = []\n",
    "for x in L:\n",
    "    h = [int(y) for y in x]\n",
    "    LL.append(h)\n",
    "L = LL\n",
    "\n",
    "price_density = [[x[0]/x[1],i] for i,x in enumerate(L)]\n",
    "from operator import itemgetter\n",
    "price_density.sort(key=itemgetter(0,1))\n",
    "i = 1\n",
    "pd_without_repetition = [price_density[0]]\n",
    "while i < n:\n",
    "    if price_density[i][0] != pd_without_repetition[-1][0]:\n",
    "         pd_without_repetition.append(price_density[i])\n",
    "    i += 1\n",
    "        \n",
    "pd_n = len(pd_without_repetition)\n",
    "ans = set()\n",
    "i = 1\n",
    "while i < pd_n:\n",
    "    while True:\n",
    "        most_dense_object_weight =  L[pd_without_repetition[-i][1]][1]\n",
    "        print(most_dense_object_weight)\n",
    "        if val >= most_dense_object_weight:\n",
    "            val -= most_dense_object_weight\n",
    "            print(f'val-={val}')\n",
    "            ans.add(pd_without_repetition[-i][1])\n",
    "        else:\n",
    "            i += 1\n",
    "            break\n",
    "            \n",
    "ans_list = list(ans)\n",
    "ans_list.sort()\n",
    "ans_new = [str(x) for x in ans_list]\n",
    "print(' '.join(ans_new))"
   ]
  },
  {
   "cell_type": "code",
   "execution_count": 11,
   "metadata": {},
   "outputs": [
    {
     "name": "stdout",
     "output_type": "stream",
     "text": [
      "40\n",
      "val-=83\n",
      "3\n",
      "val-=80\n",
      "50\n",
      "val-=30\n",
      "0 1 3\n"
     ]
    }
   ],
   "source": [
    "price_density = [[x[0]/x[1],i] for i,x in enumerate(L)]\n",
    "from operator import itemgetter\n",
    "price_density.sort(key=itemgetter(0,1))\n",
    "i = 1\n",
    "pd_without_repetition = [price_density[0]]\n",
    "while i < n:\n",
    "    if price_density[i][0] != pd_without_repetition[-1][0]:\n",
    "         pd_without_repetition.append(price_density[i])\n",
    "    i += 1\n",
    "        \n",
    "pd_n = len(pd_without_repetition)\n",
    "ans = set()\n",
    "i = 1\n",
    "while i < pd_n:\n",
    "    \n",
    "    most_dense_object_weight =  L[pd_without_repetition[-i][1]][1]\n",
    "    print(most_dense_object_weight)\n",
    "    if val >= most_dense_object_weight:\n",
    "        val -= most_dense_object_weight\n",
    "        print(f'val-={val}')\n",
    "        ans.add(pd_without_repetition[-i][1])\n",
    "        \n",
    "    i += 1\n",
    "        \n",
    "            \n",
    "ans_list = list(ans)\n",
    "ans_list.sort()\n",
    "ans_new = [str(x) for x in ans_list]\n",
    "print(' '.join(ans_new))"
   ]
  },
  {
   "cell_type": "code",
   "execution_count": 6,
   "metadata": {},
   "outputs": [
    {
     "name": "stdout",
     "output_type": "stream",
     "text": [
      "3\n"
     ]
    }
   ],
   "source": [
    "# Падает TL (слишком много не нужных сортировок)\n",
    "\n",
    "val = int(input())\n",
    "n = int(input())\n",
    "\n",
    "L = [input().split() for _ in range(n)]\n",
    "LL = []\n",
    "for x in L:\n",
    "    h = [int(y) for y in x]\n",
    "    LL.append(h)\n",
    "L = LL\n",
    "\n",
    "\n",
    "price_density = [[x[0]/x[1],i] for i,x in enumerate(L)]\n",
    "from operator import itemgetter\n",
    "price_density.sort(key=itemgetter(0,1))\n",
    "i = 1\n",
    "pd_without_repetition = [price_density[0]]\n",
    "while i < n:\n",
    "    if price_density[i][0] != pd_without_repetition[-1][0]:\n",
    "         pd_without_repetition.append(price_density[i])\n",
    "    i += 1\n",
    "        \n",
    "pd_n = len(pd_without_repetition)\n",
    "LLL = []\n",
    "for i in range(1,pd_n+1):\n",
    "    LLL.append([L[pd_without_repetition[-i][1]],pd_without_repetition[-i][1]])\n",
    "LLL.sort(key=lambda x: x[0][0], reverse=True)\n",
    "ans = []\n",
    "for i in range(pd_n):\n",
    "    if val >= LLL[i][0][1]:\n",
    "        val -= LLL[i][0][1]\n",
    "        ans.append(LLL[i][1])\n",
    "ans.sort()\n",
    "ans_new = [str(x) for x in ans]\n",
    "print(' '.join(ans_new))"
   ]
  },
  {
   "cell_type": "code",
   "execution_count": 10,
   "metadata": {},
   "outputs": [
    {
     "name": "stdout",
     "output_type": "stream",
     "text": [
      "1 2 3\n"
     ]
    }
   ],
   "source": [
    "# РАБОТУЮЩЕЕ РЕШЕНИЕ! Каждый предмет в задаче лишь в том количестве раз присутствует сколько встречается в L\n",
    "\n",
    "val = int(input())\n",
    "n = int(input())\n",
    "\n",
    "L = [input().split() for _ in range(n)]\n",
    "LL = []\n",
    "for i,x in enumerate(L):\n",
    "    h = [int(y) for y in x]\n",
    "    h.append(i)\n",
    "    LL.append(h)\n",
    "L = LL\n",
    "\n",
    "\n",
    "L.sort(key=lambda x: x[1])\n",
    "L.sort(key=lambda x: x[0], reverse=True)\n",
    "ans = []\n",
    "s = []\n",
    "for i in range(len(L)):\n",
    "    if val >= L[i][1] and [L[i][0],L[i][1]] not in s:\n",
    "        val -= L[i][1]\n",
    "        ans.append(L[i][2])\n",
    "        s.append([L[i][0],L[i][1]])\n",
    "        \n",
    "ans.sort()\n",
    "ans_new = [str(x) for x in ans]\n",
    "print(' '.join(ans_new))"
   ]
  },
  {
   "cell_type": "markdown",
   "metadata": {},
   "source": [
    "### E. Печеньки    \n",
    "\n",
    "К Васе в гости пришли одноклассники. Его мама решила угостить ребят печеньем.   \n",
    "\n",
    "Но не всё так просто. Печенья могут быть разного размера. У каждого ребёнка    \n",
    "есть фактор жадности — минимальный размер печенья, которое он возьмёт.    \n",
    "Нужно выяснить, сколько ребят останутся довольными.   \n",
    "\n",
    "Каждый ребёнок может взять не больше одного печенья.   \n",
    "\n",
    "Формат ввода   \n",
    "В первой строке записано n - количество детей.    \n",
    "\n",
    "Во второй - n чисел, разделенных пробелом - фактор жадности для каждого ребенка,    \n",
    "целое число, не превосходящее 1000.   \n",
    "\n",
    "В следующей строке записано - m - количество печенек.   \n",
    "\n",
    "Далее - m чисел, разделенных пробелом - размеры печенек.    \n",
    "\n",
    "Оба числа n и m не превосходят 10000.     \n",
    "\n",
    "Формат вывода                                                              \n",
    "Нужно вывести одно число — количество детей, которые останутся довольными   \n",
    "\n",
    "Ввод:   \n",
    "2   \n",
    "1 2   \n",
    "3     \n",
    "1 2 3   \n",
    "\n",
    "Вывод:   \n",
    "2   \n",
    "\n",
    "Ввод:   \n",
    "3    \n",
    "1 2 3   \n",
    "2   \n",
    "1 1   \n",
    "\n",
    "Вывод:  \n",
    "1\n"
   ]
  },
  {
   "cell_type": "code",
   "execution_count": 14,
   "metadata": {},
   "outputs": [
    {
     "name": "stdout",
     "output_type": "stream",
     "text": [
      "8\n"
     ]
    }
   ],
   "source": [
    "#Это решение имело бы место если бы печеньки можно было дробить\n",
    "num_children = int(input())\n",
    "factor = [int(x) for x in input().split()]\n",
    "num_cookies = int(input())\n",
    "sizes = [int(x) for x in input().split()]\n",
    "\n",
    "sizes.sort()\n",
    "factor.sort()\n",
    "i = 0\n",
    "j = 0\n",
    "while j < num_cookies:\n",
    "    if i < num_children and sizes[j] >= factor[i]:\n",
    "        sizes[j] -= factor[i] \n",
    "        i += 1\n",
    "    else:\n",
    "        if j < num_cookies-1:\n",
    "            sizes[j+1] += sizes[j]\n",
    "        j += 1\n",
    "    #print(sizes)\n",
    "\n",
    "print(i)"
   ]
  },
  {
   "cell_type": "code",
   "execution_count": 21,
   "metadata": {},
   "outputs": [
    {
     "name": "stdout",
     "output_type": "stream",
     "text": [
      "5\n"
     ]
    }
   ],
   "source": [
    "# Верное решение (без дробления)\n",
    "num_children = int(input())\n",
    "factor = [int(x) for x in input().split()]\n",
    "num_cookies = int(input())\n",
    "sizes = [int(x) for x in input().split()]\n",
    "\n",
    "sizes.sort()\n",
    "factor.sort()\n",
    "i = 0\n",
    "j = 0\n",
    "while j < num_cookies:\n",
    "    if i < num_children and sizes[j] >= factor[i]:\n",
    "        i += 1\n",
    "    j += 1\n",
    "\n",
    "\n",
    "print(i)"
   ]
  },
  {
   "cell_type": "markdown",
   "metadata": {},
   "source": [
    "### F. Отсортированные строки   \n",
    "\n",
    "После чая с печеньками ребята решили поиграть в игру. Дан набор строк одинаковой длины,    \n",
    "состоящих из маленьких латинских букв. Нужно определить, какое минимальное число позиций    \n",
    "в каждой из строк нужно удалить, чтобы буквы в строках, соответствующие каждому индексу    \n",
    "из оставшихся, были лексикографически отсортированы по неубыванию.   \n",
    "\n",
    "Формат ввода                                              \n",
    "В первой строке записано число n - количество строк.          \n",
    "\n",
    "Во второй - m - длина каждой из строк.              \n",
    "\n",
    "Оба числа не превосходят 1000.                                                                      \n",
    "\n",
    "В каждой из следующих n строк записана строка, состоящая из m строчных букв латинского алфавита.           \n",
    "\n",
    "Формат вывода                                                                         \n",
    "Нужно вывести одно число - минимальное количество индексов, которые нужно удалить,            \n",
    "чтобы выполнялось указанное требование.              \n",
    "\n",
    "Ввод:  \n",
    "3   \n",
    "3   \n",
    "cba   \n",
    "daf   \n",
    "ghi   \n",
    "\n",
    "Вывод:   \n",
    "1\n",
    "\n",
    "Ввод:  \n",
    "2  \n",
    "1  \n",
    "a  \n",
    "b  \n",
    "       \n",
    "Вывод:  \n",
    "0\n",
    "\n",
    "Ввод:  \n",
    "7  \n",
    "3   \n",
    "trk  \n",
    "ikv  \n",
    "jmb  \n",
    "ghj  \n",
    "bnm  \n",
    "mff  \n",
    "xkr  \n",
    "\n",
    "Вывод:  \n",
    "3   \n",
    "   \n",
    "Ввод:   \n",
    "6  \n",
    "8       \n",
    "uiniljod  \n",
    "nyrufhbt  \n",
    "hlavuwpr  \n",
    "hrvetoxf  \n",
    "weinrnpf  \n",
    "kunsdacd  \n",
    "\n",
    "Вывод:  \n",
    "8\n",
    "\n",
    "\n"
   ]
  },
  {
   "cell_type": "markdown",
   "metadata": {},
   "source": [
    "\n",
    "\n"
   ]
  },
  {
   "cell_type": "code",
   "execution_count": 26,
   "metadata": {},
   "outputs": [
    {
     "name": "stdout",
     "output_type": "stream",
     "text": [
      "0\n"
     ]
    }
   ],
   "source": [
    "n = int(input())\n",
    "m = int(input())\n",
    "L = [list(input()) for _ in range(n)]\n",
    "\n",
    "from collections import defaultdict\n",
    "d = defaultdict(int)\n",
    "for j in range(m):\n",
    "    if d[j] != 1:\n",
    "        i = 0\n",
    "        while i < n-1:\n",
    "            if L[i][j] > L[i+1][j]:\n",
    "                d[j] = 1\n",
    "                break\n",
    "            i += 1\n",
    "print(sum(d.values())) "
   ]
  },
  {
   "cell_type": "markdown",
   "metadata": {},
   "source": [
    "### G. Закручивающаяся спираль   \n",
    "\n",
    "Волшебная фея отправила Гоше послание. Чтобы никто не смог перехватить   \n",
    "сообщение, фея его закодировала. Послание записано в матрице по спирали,   \n",
    "начиная с левого верхнего угла вправо. Помогите Гоше прочитать сообщение.  \n",
    "\n",
    "Формат ввода  \n",
    "В первой строке записано число n — количество строк матрицы  \n",
    "\n",
    "Во второй — m — количество столбцов  \n",
    "\n",
    "В следующих n строках записано по m чисел  \n",
    "\n",
    "Формат вывода  \n",
    "Нужно вывести на печать по спирали элементы матрицы: начиная с левого верхнего угла вправо.   \n",
    "    \n",
    "Ввод:   \n",
    "3  \n",
    "4      \n",
    "1 2 3 4  \n",
    "5 6 7 8  \n",
    "9 10 11 12  \n",
    "\n",
    "Вывод:  \n",
    "1  \n",
    "2  \n",
    "3  \n",
    "4  \n",
    "8   \n",
    "12  \n",
    "11  \n",
    "10  \n",
    "9  \n",
    "5  \n",
    "6  \n",
    "7  \n",
    "\n",
    "Ввод:  \n",
    "5  \n",
    "3      \n",
    "-4 3 7  \n",
    "9 1 -3   \n",
    "-7 -8 6   \n",
    "-3 -1 -5   \n",
    "6 2 2   \n",
    "\n",
    "Вывод:   \n",
    "-4  \n",
    "3  \n",
    "7   \n",
    "-3  \n",
    "6   \n",
    "-5  \n",
    "2  \n",
    "2  \n",
    "6   \n",
    "-3  \n",
    "-7  \n",
    "9  \n",
    "1  \n",
    "-8  \n",
    "-1  \n",
    "\n"
   ]
  },
  {
   "cell_type": "code",
   "execution_count": 13,
   "metadata": {},
   "outputs": [
    {
     "name": "stdout",
     "output_type": "stream",
     "text": [
      "5\n",
      "3\n",
      "-4 3 7\n",
      "9 1 -3\n",
      "-7 -8 6\n",
      "-3 -1 -5\n",
      "6 2 2\n"
     ]
    }
   ],
   "source": [
    "n = int(input())\n",
    "m = int(input())\n",
    "L = [input().split() for _ in range(n)]"
   ]
  },
  {
   "cell_type": "code",
   "execution_count": 14,
   "metadata": {},
   "outputs": [
    {
     "name": "stdout",
     "output_type": "stream",
     "text": [
      "-4\n",
      "3\n",
      "7\n",
      "-3\n",
      "6\n",
      "-5\n",
      "2\n",
      "2\n",
      "6\n",
      "-3\n",
      "-7\n",
      "9\n",
      "1\n",
      "-8\n",
      "-1\n"
     ]
    }
   ],
   "source": [
    "i = 0\n",
    "j = 0\n",
    "k = 0\n",
    "delta = 0\n",
    "F = 0\n",
    "while k < n*m:\n",
    "    if F == 0:\n",
    "        #print('sss')\n",
    "        while i < m - delta:\n",
    "            print(L[j][i])\n",
    "            i += 1\n",
    "            k += 1\n",
    "        #print('eee')\n",
    "        j += 1\n",
    "        i -= 1\n",
    "        while j < n - delta:\n",
    "            print(L[j][i])\n",
    "            j += 1\n",
    "            k += 1\n",
    "        #print('qqq')\n",
    "        i -= 1\n",
    "        j -= 1\n",
    "        F = 1\n",
    "        \n",
    "    else:\n",
    "        while  delta <= i:\n",
    "            print(L[j][i])\n",
    "            i -= 1\n",
    "            k += 1\n",
    "        i += 1\n",
    "        j -= 1\n",
    "        while delta < j :\n",
    "            print(L[j][i])\n",
    "            j -= 1\n",
    "            k += 1\n",
    "        j += 1\n",
    "        i += 1\n",
    "        F = 0\n",
    "        delta += 1\n",
    "        "
   ]
  },
  {
   "cell_type": "markdown",
   "metadata": {},
   "source": [
    "### H. Возрастающий подмассив    \n",
    "\n",
    "Во сне Гоша долго играл в игру Лампочка. Он то выигрывал, то проигрывал.    \n",
    "Ему стало интересно, сколько максимум партий подряд он получал большее    \n",
    "количество очков, чем в предыдущей.   \n",
    "\n",
    "Формат ввода                                                                    \n",
    "В первой строке записано число элементов массива n. Оно не превосходит 1000        \n",
    "\n",
    "Далее в строку записаны n чисел, каждое из которых по модулю не превосходит 1000            \n",
    "\n",
    "Формат вывода                                                                  \n",
    "Нужно вывести одно число, равное длине наибольшего возрастающего подмассива        \n",
    "\n",
    "Ввод:   \n",
    "9   \n",
    "5 6 3 5 7 8 9 1 2   \n",
    "\n",
    "Вывод:   \n",
    "5\n",
    "\n",
    "Ввод:   \n",
    "6                  \n",
    "10 4 -2 3 -4 2    \n",
    "\n",
    "Вывод:   \n",
    "2\n",
    "\n",
    "Ввод:    \n",
    "7  \n",
    "-5 -9 -4 6 -9 8 -2   \n",
    "\n",
    "Вывод:   \n",
    "3   "
   ]
  },
  {
   "cell_type": "code",
   "execution_count": 28,
   "metadata": {},
   "outputs": [
    {
     "name": "stdout",
     "output_type": "stream",
     "text": [
      "7\n",
      "-5 -9 -4 6 -9 8 -2\n"
     ]
    }
   ],
   "source": [
    "n = int(input())\n",
    "L = [float(x) for x in input().split()]"
   ]
  },
  {
   "cell_type": "code",
   "execution_count": 29,
   "metadata": {},
   "outputs": [
    {
     "name": "stdout",
     "output_type": "stream",
     "text": [
      "3\n"
     ]
    }
   ],
   "source": [
    "k = 1\n",
    "M = []\n",
    "i = 0\n",
    "while i < n-1:\n",
    "    #print(L[i],L[i+1])\n",
    "    if L[i] <= L[i+1]:\n",
    "        k += 1\n",
    "    else:\n",
    "        M.append(k)\n",
    "        k = 1\n",
    "    i += 1\n",
    "print(max(M))"
   ]
  },
  {
   "cell_type": "markdown",
   "metadata": {},
   "source": [
    "### I. Одинаковые суммы    \n",
    "\n",
    "Гоше стало интересно, можно ли разбить все заработанные им во время игры   \n",
    "в Лампу очки на две части так, чтобы сумма в них была одинаковой.   \n",
    "\n",
    "Формат ввода                                                                   \n",
    "В первой строке записано число элементов массива n. Оно не превосходит 10000   \n",
    "\n",
    "Далее в строку записаны n целых неотрицательных чисел, каждое из которых не превосходит 10000    \n",
    "\n",
    "Формат вывода                                                                \n",
    "Нужно вывести True, если произвести такое разбиение возможно, иначе — False    \n",
    "\n",
    "Ввод:  \n",
    "4         \n",
    "1 5 7 1  \n",
    "\n",
    "Вывод:\n",
    "True   \n",
    "\n",
    "Ввод:      \n",
    "3  \n",
    "2 10 9  \n",
    "\n",
    "Вывод:   \n",
    "False\n",
    "\n"
   ]
  },
  {
   "cell_type": "code",
   "execution_count": 11,
   "metadata": {},
   "outputs": [
    {
     "name": "stdout",
     "output_type": "stream",
     "text": [
      "4\n",
      "1 5 7 1\n",
      "False\n"
     ]
    }
   ],
   "source": [
    "n = int(input())\n",
    "L = [int(x) for x in input().split()]\n",
    "def f(n,L):\n",
    "    L.sort()\n",
    "    if sum(L) % 2 == 0:\n",
    "        i = 0\n",
    "        С = sum(L)/2\n",
    "        while 1 < i < n-1:\n",
    "            summa = L[-1] + L[i]\n",
    "            j = i + 1\n",
    "            while j < n-1 and summa < C:\n",
    "                summa += L[j]\n",
    "                print(f'L[j]={L[j]}, L={L}, j+1={j+1}, sum={sum(L[j:n-1])} ')\n",
    "                j += 1\n",
    "            i += 1\n",
    "            if summa == C:\n",
    "                return 'True'\n",
    "        return 'False'\n",
    "                \n",
    "    else:\n",
    "        return 'False'\n",
    "    \n",
    "print(f(n,L))"
   ]
  },
  {
   "cell_type": "code",
   "execution_count": 28,
   "metadata": {},
   "outputs": [
    {
     "name": "stdout",
     "output_type": "stream",
     "text": [
      "6\n",
      "3 4 6 7 7 9\n",
      "False\n"
     ]
    }
   ],
   "source": [
    "n = int(input())\n",
    "L = [int(x) for x in input().split()]\n",
    "\n",
    "def f(n,L,i,summa,C):\n",
    "    if i < n-1:\n",
    "        if  C-summa >= L[i]:\n",
    "            f(n,L,i+1,summa,C)\n",
    "            summa += L[i] \n",
    "            f(n,L,i+1,summa,C)\n",
    "    \n",
    "    if C == summa:\n",
    "        return 'True'\n",
    "    else:\n",
    "        summa -= L[i-1]\n",
    "            \n",
    "           \n",
    "L.sort()\n",
    "summa = L[-1]\n",
    "C = sum(L)/2\n",
    "if f(n,L,0,summa,C) == None:\n",
    "    print('False')\n",
    "else:\n",
    "    print('True')"
   ]
  },
  {
   "cell_type": "code",
   "execution_count": null,
   "metadata": {},
   "outputs": [],
   "source": [
    "LL = [1,2,3,4]\n",
    "sum(LL[2:3])"
   ]
  },
  {
   "cell_type": "code",
   "execution_count": 7,
   "metadata": {},
   "outputs": [
    {
     "data": {
      "text/plain": [
       "18.0"
      ]
     },
     "execution_count": 7,
     "metadata": {},
     "output_type": "execute_result"
    }
   ],
   "source": [
    "L.sort()\n",
    "summa = L[-1]\n",
    "while i < n:\n",
    "    "
   ]
  },
  {
   "cell_type": "code",
   "execution_count": 19,
   "metadata": {},
   "outputs": [
    {
     "data": {
      "text/plain": [
       "True"
      ]
     },
     "execution_count": 19,
     "metadata": {},
     "output_type": "execute_result"
    }
   ],
   "source": [
    "None == None"
   ]
  },
  {
   "cell_type": "code",
   "execution_count": 18,
   "metadata": {},
   "outputs": [
    {
     "data": {
      "text/plain": [
       "[[-1, 0], [-1, 0]]"
      ]
     },
     "execution_count": 18,
     "metadata": {},
     "output_type": "execute_result"
    }
   ],
   "source": [
    "M"
   ]
  },
  {
   "cell_type": "code",
   "execution_count": 5,
   "metadata": {},
   "outputs": [
    {
     "name": "stdout",
     "output_type": "stream",
     "text": [
      "3\n",
      "2 10 9\n",
      "False\n"
     ]
    }
   ],
   "source": [
    "n = int(input())\n",
    "L = [int(x) for x in input().split()]\n",
    "F = 0\n",
    "if sum(L)/2 == int(sum(L)/2):\n",
    "    C = int(sum(L)/2)\n",
    "    possible = []\n",
    "    for x in range(0,C+1):\n",
    "        Z = []\n",
    "        for k in range(n+1):\n",
    "            Z.extend([False])\n",
    "        possible.append(Z)\n",
    "\n",
    "    possible[0][0] = True\n",
    "    for k in range(1,n+1):\n",
    "        for x in range(0,C+1):\n",
    "            if x - L[k-1] >= 0:\n",
    "                possible[x][k] |= possible[x-L[k-1]][k-1]\n",
    "            possible[x][k] |= possible[x][k-1]\n",
    "\n",
    "    for k in range(n+1):\n",
    "        if possible[C][k]:\n",
    "            print('True')\n",
    "            F = 1\n",
    "            break\n",
    "\n",
    "if F == 0:\n",
    "    print('False')"
   ]
  },
  {
   "cell_type": "code",
   "execution_count": 46,
   "metadata": {},
   "outputs": [
    {
     "name": "stdout",
     "output_type": "stream",
     "text": [
      "6\n",
      "3 4 6 7 7 9\n",
      "True\n"
     ]
    }
   ],
   "source": [
    "n = int(input())\n",
    "L = [int(x) for x in input().split()]\n",
    "\n",
    "def f(n,L):\n",
    "    sum_L = sum(L)\n",
    "    C = int(sum_L/2)\n",
    "    if sum_L/2 == C:       \n",
    "        possible = []\n",
    "        from collections import defaultdict\n",
    "        possible = defaultdict(bool)\n",
    "        possible[0] = True\n",
    "    \n",
    "        for k in range(n):\n",
    "            x = sum_L - L[k]\n",
    "            while x >= 0:\n",
    "                if possible[C]:\n",
    "                    return 'True'\n",
    "                possible[x+L[k]] |= possible[x]\n",
    "                x -= 1\n",
    "\n",
    "        if possible[C]:\n",
    "            return 'True'\n",
    "    return 'False'\n",
    "\n",
    "\n",
    "print(f(n,L))"
   ]
  },
  {
   "cell_type": "markdown",
   "metadata": {},
   "source": [
    "##### a = False\n",
    "a |= True\n",
    "a"
   ]
  },
  {
   "cell_type": "code",
   "execution_count": 3,
   "metadata": {},
   "outputs": [
    {
     "data": {
      "text/plain": [
       "[False, False, True, True]"
      ]
     },
     "execution_count": 3,
     "metadata": {},
     "output_type": "execute_result"
    }
   ],
   "source": [
    "possible[C]"
   ]
  },
  {
   "cell_type": "code",
   "execution_count": 15,
   "metadata": {},
   "outputs": [],
   "source": [
    "from collections import defaultdict\n",
    "d = defaultdict(bool)"
   ]
  },
  {
   "cell_type": "code",
   "execution_count": 17,
   "metadata": {},
   "outputs": [],
   "source": [
    "d['d'] = True"
   ]
  },
  {
   "cell_type": "code",
   "execution_count": 18,
   "metadata": {},
   "outputs": [
    {
     "data": {
      "text/plain": [
       "defaultdict(bool, {'d': True})"
      ]
     },
     "execution_count": 18,
     "metadata": {},
     "output_type": "execute_result"
    }
   ],
   "source": [
    "d"
   ]
  },
  {
   "cell_type": "code",
   "execution_count": 49,
   "metadata": {},
   "outputs": [
    {
     "data": {
      "text/plain": [
       "False"
      ]
     },
     "execution_count": 49,
     "metadata": {},
     "output_type": "execute_result"
    }
   ],
   "source": [
    "from collections import defaultdict\n",
    "d = defaultdict(bool)\n",
    "dd = defaultdict(bool)\n",
    "\n"
   ]
  },
  {
   "cell_type": "code",
   "execution_count": 83,
   "metadata": {},
   "outputs": [
    {
     "name": "stdout",
     "output_type": "stream",
     "text": [
      "3\n",
      "2 9 10\n",
      "False\n"
     ]
    }
   ],
   "source": [
    "n = int(input())\n",
    "L = [int(x) for x in input().split()]\n",
    "def f(L,n):\n",
    "    sum_L = sum(L)\n",
    "    C = int(sum_L/2)\n",
    "    if sum_L/2 == C:       \n",
    "        from collections import defaultdict\n",
    "        possible = []\n",
    "        for x in range(0,C+1):\n",
    "            possible.append(defaultdict(bool))\n",
    "\n",
    "        possible[0][0] = True\n",
    "        print(possible)\n",
    "        for k in range(1,n+1):\n",
    "            for x in range(0,C+1):\n",
    "                if possible[C][k]:\n",
    "                    return True\n",
    "                if x - L[k-1] >= 0:\n",
    "                    possible[x][k] |= possible[x-L[k-1]][k-1]\n",
    "                possible[x][k] |= possible[x][k-1]\n",
    "\n",
    "        return sum(possible[C].values()) >= 1\n",
    "    else:\n",
    "        return False\n",
    "                \n",
    "                \n",
    "                \n",
    "print(f(L,n))\n"
   ]
  },
  {
   "cell_type": "code",
   "execution_count": 62,
   "metadata": {},
   "outputs": [],
   "source": [
    "n = int(input())\n",
    "L = [int(x) for x in input().split()]\n",
    "F = 0\n",
    "if sum(L)/2 == int(sum(L)/2):\n",
    "    C = int(sum(L)/2)\n",
    "    possible = []\n",
    "    for x in range(0,C+1):\n",
    "        Z = []\n",
    "        for k in range(n+1):\n",
    "            Z.extend([False])\n",
    "        possible.append(Z)\n",
    "\n",
    "    possible[0][0] = True\n",
    "    for k in range(1,n+1):\n",
    "        for x in range(0,C+1):\n",
    "            if x - L[k-1] >= 0:\n",
    "                possible[x][k] |= possible[x-L[k-1]][k-1]\n",
    "            possible[x][k] |= possible[x][k-1]\n",
    "\n",
    "    for k in range(n+1):\n",
    "        if possible[C][k]:\n",
    "            print('True')\n",
    "            F = 1\n",
    "            break\n",
    "\n",
    "if F == 0:\n",
    "    print('False')"
   ]
  },
  {
   "cell_type": "code",
   "execution_count": 82,
   "metadata": {},
   "outputs": [
    {
     "data": {
      "text/plain": [
       "dict_values([False, False])"
      ]
     },
     "execution_count": 82,
     "metadata": {},
     "output_type": "execute_result"
    }
   ],
   "source": [
    "possible[0].values()"
   ]
  },
  {
   "cell_type": "code",
   "execution_count": 85,
   "metadata": {},
   "outputs": [
    {
     "data": {
      "text/plain": [
       "2"
      ]
     },
     "execution_count": 85,
     "metadata": {},
     "output_type": "execute_result"
    }
   ],
   "source": [
    "s = {1:2}\n",
    "sum(s.values())"
   ]
  },
  {
   "cell_type": "code",
   "execution_count": 68,
   "metadata": {},
   "outputs": [
    {
     "data": {
      "text/plain": [
       "True"
      ]
     },
     "execution_count": 68,
     "metadata": {},
     "output_type": "execute_result"
    }
   ],
   "source": [
    "def g():\n",
    "    return 1>0\n",
    "g()"
   ]
  },
  {
   "cell_type": "code",
   "execution_count": 103,
   "metadata": {},
   "outputs": [
    {
     "name": "stdout",
     "output_type": "stream",
     "text": [
      "190\n",
      "243 169 158 96 146 237 300 10 39 287 281 38 103 264 81 33 259 98 278 160 98 217 209 153 55 215 93 299 128 62 254 139 261 124 27 107 155 90 255 127 148 244 49 71 291 161 199 40 145 61 70 225 244 100 3 17 83 22 144 149 179 70 153 90 232 1 247 218 61 9 42 151 190 243 256 154 28 20 18 152 146 59 132 134 165 80 53 175 157 292 186 164 71 97 225 143 216 251 153 116 79 84 156 265 151 98 24 61 192 74 80 57 281 202 7 162 150 150 222 147 150 177 233 221 242 14 95 214 201 15 144 18 143 129 266 195 77 230 189 67 196 101 235 106 289 149 260 258 35 254 33 284 187 51 49 192 5 61 262 262 292 201 8 264 241 137 156 101 210 151 187 284 255 166 101 65 16 238 256 66 73 231 148 232 138 254 240 146 171 176\n",
      "\n",
      "\n",
      "[299, 292, 291, 284, 284, 278, 266, 264, 262, 261, 258, 256, 255, 254, 254, 244, 244, 242, 241, 237, 235, 232, 230, 225, 221, 218, 215, 214, 202, 201, 199, 195, 190, 187, 187, 179, 175, 169, 166, 164, 160, 157, 156, 155, 153, 152, 151, 151, 150, 149, 148, 146, 146, 145, 143, 143, 137, 132, 128, 127, 107, 106, 101, 101, 98, 98, 96, 93, 84, 83, 80, 79, 73, 71, 70, 67, 62, 61, 61, 59, 55, 49, 49, 39, 35, 33, 27, 22, 20, 17, 15, 14, 8, 5, 1]\n",
      "sum_A=14238\n",
      "\n",
      "[300, 292, 289, 287, 281, 281, 265, 264, 262, 260, 259, 256, 255, 254, 251, 247, 243, 243, 240, 238, 233, 232, 231, 225, 222, 217, 216, 210, 209, 201, 196, 192, 192, 189, 186, 177, 176, 171, 165, 162, 161, 158, 156, 154, 153, 153, 151, 150, 150, 149, 148, 147, 146, 144, 144, 139, 138, 134, 129, 124, 116, 103, 101, 100, 98, 97, 95, 90, 90, 81, 80, 77, 74, 71, 70, 66, 65, 61, 61, 57, 53, 51, 42, 40, 38, 33, 28, 24, 18, 18, 16, 10, 9, 7, 3]\n",
      "sum_B=14240\n",
      "False\n"
     ]
    }
   ],
   "source": [
    "n = int(input())\n",
    "L = [int(x) for x in input().split()]\n",
    "\n",
    "def f(L):\n",
    "    A = []\n",
    "    B = []\n",
    "    for e in sorted(L, reverse=True):\n",
    "        if sum(A) < sum(B):\n",
    "           A.append(e)\n",
    "        else:\n",
    "           B.append(e)\n",
    "    print()\n",
    "    print()\n",
    "    print(A)\n",
    "    print(f'sum_A={sum(A)}')\n",
    "    print()\n",
    "    print(B)\n",
    "    print(f'sum_B={sum(B)}')\n",
    "    return sum(A) == sum(B)\n",
    "print(f(L))"
   ]
  },
  {
   "cell_type": "code",
   "execution_count": 104,
   "metadata": {},
   "outputs": [
    {
     "name": "stdout",
     "output_type": "stream",
     "text": [
      "6\n",
      "3 4 6 7 7 9\n",
      "True\n"
     ]
    }
   ],
   "source": [
    "n = int(input())\n",
    "L = [int(x) for x in input().split()]\n",
    "def f(n,L):\n",
    "    sum_L = sum(L)\n",
    "    C = int(sum_L/2)\n",
    "    if sum_L/2 == C:       \n",
    "        possible = []\n",
    "        from collections import defaultdict\n",
    "        possible = defaultdict(bool)\n",
    "        possible[0] = True\n",
    "        L.sort(reverse=True)\n",
    "        for k in range(1,n+1):\n",
    "            x = sum_L - L[k-1]\n",
    "            while x >= 0:\n",
    "                if possible[C]:\n",
    "                    return True\n",
    "                possible[x+L[k-1]] |= possible[x]\n",
    "                x -= 1\n",
    "        if possible[C]:\n",
    "            return 'True'\n",
    "    return 'False'\n",
    "print(f(n,L))"
   ]
  },
  {
   "cell_type": "code",
   "execution_count": 105,
   "metadata": {},
   "outputs": [
    {
     "data": {
      "text/plain": [
       "2"
      ]
     },
     "execution_count": 105,
     "metadata": {},
     "output_type": "execute_result"
    }
   ],
   "source": [
    "5//2"
   ]
  },
  {
   "cell_type": "code",
   "execution_count": 117,
   "metadata": {},
   "outputs": [
    {
     "name": "stdout",
     "output_type": "stream",
     "text": [
      "[0, 1, 2, 3]\n",
      "[0, 1, 2]\n",
      "[0, 1, 3]\n",
      "[0, 1]\n",
      "[0, 2, 3]\n",
      "[0, 2]\n",
      "[0, 3]\n",
      "[0]\n",
      "[1, 2, 3]\n",
      "[1, 2]\n",
      "[1, 3]\n",
      "[1]\n",
      "[2, 3]\n",
      "[2]\n",
      "[3]\n",
      "[]\n"
     ]
    }
   ],
   "source": [
    "subset = []\n",
    "n = 3\n",
    "def f(n,L,k):\n",
    "    if k == n+1:\n",
    "        print(subset)\n",
    "    else:\n",
    "        subset.append(k)\n",
    "        f(n,L,k+1)\n",
    "        subset.pop()\n",
    "        f(n,L,k+1)\n",
    "f(n,L,0)        \n",
    "        "
   ]
  },
  {
   "cell_type": "code",
   "execution_count": 108,
   "metadata": {},
   "outputs": [],
   "source": [
    "subset = []\n",
    "n = 3\n",
    "def f(n,L,k):\n",
    "    if k == n+1:\n",
    "        print(subset)\n",
    "    else:\n",
    "        subset.append(k)\n",
    "        f(n,L,k+1)\n",
    "        subset.pop()\n",
    "        f(n,L,k+1)\n",
    "f(n,L,0) "
   ]
  },
  {
   "cell_type": "code",
   "execution_count": 23,
   "metadata": {},
   "outputs": [
    {
     "name": "stdout",
     "output_type": "stream",
     "text": [
      "6\n",
      "3 4 6 7 7 9\n",
      "True\n"
     ]
    }
   ],
   "source": [
    "n = int(input())\n",
    "L = [int(x) for x in input().split()]\n",
    "M = []\n",
    "\n",
    "def f(n,L,i,summa,C):\n",
    "    if sum(summa) == C:\n",
    "        M.append(sum(summa))\n",
    "        F = 1\n",
    "        return M\n",
    "    else:\n",
    "        F = 0\n",
    "    if i == n:\n",
    "        M.append(sum(summa))\n",
    "        if F == 1:\n",
    "            return M\n",
    "    elif F == 0 and  C-sum(summa) >= L[i]:\n",
    "        summa.append(L[i])\n",
    "        if F == 1:\n",
    "            return M\n",
    "        f(n,L,i+1,summa,C)\n",
    "\n",
    "        summa.pop()\n",
    "        if F == 1:\n",
    "            return M\n",
    "        f(n,L,i+1,summa,C)\n",
    "        if F == 1:\n",
    "            return M\n",
    "          \n",
    "            \n",
    "F = 0        \n",
    "sum_L = sum(L)\n",
    "C = int(sum_L/2)\n",
    "if sum_L/2 == C:\n",
    "    L.sort(reverse=False)\n",
    "    f(n,L,0,[],C)\n",
    "    if C in M:\n",
    "        print('True')\n",
    "    else:\n",
    "        print('False')\n",
    "else:\n",
    "    print('False')"
   ]
  },
  {
   "cell_type": "code",
   "execution_count": 24,
   "metadata": {},
   "outputs": [
    {
     "data": {
      "text/plain": [
       "[16, 7, 18, 9, 12, 3, 18, 13, 4, 15, 6, 16, 7, 16, 7, 9, 0]"
      ]
     },
     "execution_count": 24,
     "metadata": {},
     "output_type": "execute_result"
    }
   ],
   "source": [
    "M"
   ]
  },
  {
   "cell_type": "code",
   "execution_count": 11,
   "metadata": {},
   "outputs": [
    {
     "data": {
      "text/plain": [
       "18"
      ]
     },
     "execution_count": 11,
     "metadata": {},
     "output_type": "execute_result"
    }
   ],
   "source": [
    "C"
   ]
  },
  {
   "cell_type": "code",
   "execution_count": 12,
   "metadata": {},
   "outputs": [
    {
     "data": {
      "text/plain": [
       "[16, 7, 18, 9, 12, 3, 18, 13, 4, 15, 6, 16, 7, 16, 7, 9, 0]"
      ]
     },
     "execution_count": 12,
     "metadata": {},
     "output_type": "execute_result"
    }
   ],
   "source": [
    "M"
   ]
  },
  {
   "cell_type": "code",
   "execution_count": 3,
   "metadata": {},
   "outputs": [
    {
     "name": "stdout",
     "output_type": "stream",
     "text": [
      "False\n"
     ]
    }
   ],
   "source": [
    "# Решение 2\n",
    "# n = int(input())\n",
    "# arr = [int(x) for x in input().split()]\n",
    "\n",
    "n = 6\n",
    "arr = [10,9,6,5,3,1]\n",
    "\n",
    "\n",
    "\n",
    "def is_slice(arr, n):\n",
    "    target = sum(arr)\n",
    "    if target % 2 != 0:\n",
    "        return False\n",
    "    target = target // 2\n",
    "    i, j = 0, n - 1\n",
    "    arr = sorted(arr)\n",
    "    while (i < j and target > 0):\n",
    "        if arr[j] <= target:\n",
    "            target -= arr[j]\n",
    "            j -= 1\n",
    "        elif arr[i] <= target:\n",
    "            target -= arr[i]\n",
    "            i += 1\n",
    "        # если не получилось пройти вперед\n",
    "        # выкидываем предыдущий большой элемент\n",
    "        elif j < n - 1:\n",
    "            target += arr[j+1]\n",
    "    return target == 0\n",
    "\n",
    "print(is_slice(arr,n))"
   ]
  },
  {
   "cell_type": "code",
   "execution_count": 12,
   "metadata": {},
   "outputs": [],
   "source": [
    "L.sort(reverse=True)"
   ]
  },
  {
   "cell_type": "code",
   "execution_count": 13,
   "metadata": {},
   "outputs": [
    {
     "data": {
      "text/plain": [
       "[9, 7, 7, 6, 4, 3]"
      ]
     },
     "execution_count": 13,
     "metadata": {},
     "output_type": "execute_result"
    }
   ],
   "source": [
    "L"
   ]
  },
  {
   "cell_type": "markdown",
   "metadata": {},
   "source": [
    "### J. Последнее слово   \n",
    "\n",
    "Алла и Рита решили погадать на книге. Гадающий задаёт вопрос, если ответ на   \n",
    "него –– число, нужно открыть книгу в произвольном месте и выбрать любую строку    \n",
    "на странице. Ответ –– длина последнего слова в строке.   \n",
    "\n",
    "Формат ввода                                                                 \n",
    "В единственной строке записана строка, состоящая из не более чем 10000 слов,       \n",
    "длина каждого из которых не превосходит 1000. Слова состоят из строчных латинских букв.    \n",
    "\n",
    "Формат вывода                                  \n",
    "Нужно вывести длину последнего слова в строке     \n",
    "\n",
    "Ввод:   \n",
    "Hello World\n",
    "\n",
    "Вывод 5"
   ]
  },
  {
   "cell_type": "code",
   "execution_count": 36,
   "metadata": {},
   "outputs": [
    {
     "name": "stdout",
     "output_type": "stream",
     "text": [
      "I like algorithms\n",
      "10\n"
     ]
    }
   ],
   "source": [
    "L =input().split()\n",
    "print(len(L[-1]))"
   ]
  },
  {
   "cell_type": "markdown",
   "metadata": {},
   "source": [
    "### K. Ипотека     \n",
    "\n",
    "Дочь Кондратия Евлампия решила купить в ипотеку несколько домов на территории Трешландии.   \n",
    "\n",
    "Она нашла n объявлений о продаже. Известна стоимость каждого дома в трешландских франках.    \n",
    "Евлампия может позволить себе взять ипотеку на общую сумму k франков. Нужно помочь ей    \n",
    "определить, какое наибольшее количество домов можно купить на эти деньги.   \n",
    "\n",
    "Формат ввода                                            \n",
    "В первой строке через пробел записаны целые числа n и k                      \n",
    "\n",
    "n - количество домов, которые рассматривает Евлампия, оно не превосходит 1000   \n",
    "\n",
    "k - общий бюджет, не превосходит 10000                                           \n",
    "\n",
    "В следующей строке через пробел записано n стоимостей домов. Каждое из чисел не    \n",
    "превосходит 10000. Все стоимости - целые числа.              \n",
    "\n",
    "Формат вывода                                                                               \n",
    "Выведите число, равное максимально возможному числу домов, которые может купить Евлампия         \n",
    "\n",
    "Ввод:      \n",
    "3 300        \n",
    "999 999 999   \n",
    "\n",
    "Вывод:   \n",
    "0\n",
    "\n",
    "Ввод:    \n",
    "3 1000       \n",
    "350 999 200    \n",
    "\n",
    "Вывод:   \n",
    "2\n",
    "\n",
    "\n"
   ]
  },
  {
   "cell_type": "code",
   "execution_count": 28,
   "metadata": {},
   "outputs": [
    {
     "name": "stdout",
     "output_type": "stream",
     "text": [
      "3 1000\n",
      "200 999 200\n",
      "2\n"
     ]
    }
   ],
   "source": [
    "n, k = [int(x) for x in input().split()]\n",
    "L = [int(x) for x in input().split()]\n",
    "L.sort()\n",
    "\n",
    "num = 0\n",
    "i = 0\n",
    "L_len = len(L)\n",
    "while k>0 and i < L_len:\n",
    "    if k>=L[i]:\n",
    "        num+=1\n",
    "        k-=L[i]\n",
    "    \n",
    "    i += 1\n",
    "print(num)"
   ]
  },
  {
   "cell_type": "code",
   "execution_count": 29,
   "metadata": {},
   "outputs": [],
   "source": [
    "#n, k = [int(x) for x in input().split()]\n",
    "#L = {i:key for i,key in enumerate(input().split())}\n",
    "        "
   ]
  },
  {
   "cell_type": "code",
   "execution_count": 15,
   "metadata": {},
   "outputs": [
    {
     "name": "stdout",
     "output_type": "stream",
     "text": [
      "3 300\n",
      "999 999 999\n",
      "0\n"
     ]
    }
   ],
   "source": [
    "n, k = [int(x) for x in input().split()]\n",
    "L = [int(x) for x in input().split()]\n",
    "from collections import defaultdict\n",
    "num = 0\n",
    "i = 0\n",
    "w = len(L)\n",
    "d = defaultdict(int)\n",
    "while k>0 and i < len(L):\n",
    "    mini = 10001\n",
    "    j = i\n",
    "    while j < w:\n",
    "        if d[j] == 0 and  mini > L[j]:\n",
    "            mini = L[j]\n",
    "            j_min = j\n",
    "        j += 1\n",
    "    d[j_min] = 1\n",
    "    \n",
    "    if mini <= k:\n",
    "        num += 1\n",
    "        k -= mini\n",
    "    else:\n",
    "        break\n",
    "    i += 1\n",
    "print(num)    "
   ]
  },
  {
   "cell_type": "markdown",
   "metadata": {},
   "source": [
    "### L. Лестница   \n",
    "\n",
    "Евлампия выбрала себе классный дом. Правда в нём нет лифтов, хотя этажей много.   \n",
    "Она решила, что ходить по лестницам долго и можно прыгать по ступенькам.    \n",
    "Дом старинный, ступеньки в нём разного размера.                                \n",
    "\n",
    "Для каждой ступеньки известно, на какое максимальное количество ступенек вверх     \n",
    "с неё можно допрыгнуть. Нужно помочь Евлампии определить, сможет ли она добраться     \n",
    "с нижней ступеньки на верхнюю.            \n",
    "\n",
    "Формат ввода                                                                    \n",
    "В первой строке записано число n - количество ступенек. Оно не превосходит 10000   \n",
    "\n",
    "В следующей строке через пробел записано n неотрицательных чисел, каждое из которых не больше 1000.   \n",
    "\n",
    "Формат вывода                                                                            \n",
    "Нужно вывести True, если получится добраться с 1 ступеньки до верхней, иначе — False            \n",
    "\n",
    "Ввод:   \n",
    "5   \n",
    "1 3 0 1 2   \n",
    "\n",
    "Вывод:   \n",
    "True   \n",
    "\n",
    "Ввод:   \n",
    "4   \n",
    "0 1 2 3   \n",
    "\n",
    "Вывод:   \n",
    "False"
   ]
  },
  {
   "cell_type": "code",
   "execution_count": 11,
   "metadata": {},
   "outputs": [
    {
     "name": "stdout",
     "output_type": "stream",
     "text": [
      "5\n",
      "1 3 0 1 2\n",
      "True\n"
     ]
    }
   ],
   "source": [
    "n = int(input())\n",
    "L = [int(x) for x in input().split()]\n",
    "\n",
    "def f(n,L):\n",
    "    i = 0\n",
    "    while i <= n:\n",
    "        if n - i <= L[i]:\n",
    "            return True\n",
    "        else:\n",
    "            maxi = L[i+1]\n",
    "            ind_maxi = i+1\n",
    "            if L[i] > 0: \n",
    "                for j in range(i+1,L[i]+i+1):\n",
    "                    if maxi < L[j]:\n",
    "                        maxi = L[j]\n",
    "                        ind_maxi = j\n",
    "                i = ind_maxi\n",
    "            else:\n",
    "                return False\n",
    "\n",
    "    return False\n",
    "\n",
    "print(f(n,L))"
   ]
  },
  {
   "cell_type": "code",
   "execution_count": 9,
   "metadata": {},
   "outputs": [],
   "source": [
    "n = int(input())\n",
    "L = [int(x) for x in input().split()]\n",
    "def f(n,L):\n",
    "    i = 0\n",
    "    while i < n:\n",
    "        if n - i - 1 <= L[i]: #!\n",
    "            return True\n",
    "        else:\n",
    "            maxi = L[i+1]\n",
    "            ind_maxi = i+1\n",
    "            if L[i] > 0: \n",
    "                for j in range(i+1,L[i]+i+1):\n",
    "                    if maxi <= L[j]:\n",
    "                        maxi = L[j]\n",
    "                        ind_maxi = j\n",
    "                \n",
    "                if L[i]-1 > maxi: #!\n",
    "                    i = L[i] + i  #!\n",
    "                else:             #!\n",
    "                    i = ind_maxi  #! \n",
    "            else:\n",
    "                return False\n",
    "    return True\n",
    "print(f(n,L))"
   ]
  },
  {
   "cell_type": "code",
   "execution_count": null,
   "metadata": {},
   "outputs": [],
   "source": []
  },
  {
   "cell_type": "code",
   "execution_count": null,
   "metadata": {},
   "outputs": [],
   "source": []
  }
 ],
 "metadata": {
  "kernelspec": {
   "display_name": "Python 3",
   "language": "python",
   "name": "python3"
  },
  "language_info": {
   "codemirror_mode": {
    "name": "ipython",
    "version": 3
   },
   "file_extension": ".py",
   "mimetype": "text/x-python",
   "name": "python",
   "nbconvert_exporter": "python",
   "pygments_lexer": "ipython3",
   "version": "3.7.3"
  }
 },
 "nbformat": 4,
 "nbformat_minor": 2
}
