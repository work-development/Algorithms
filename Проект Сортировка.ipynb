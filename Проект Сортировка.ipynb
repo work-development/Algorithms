{
 "cells": [
  {
   "cell_type": "markdown",
   "metadata": {},
   "source": [
    "### A. Большое число    \n",
    "\n",
    "Вечером ребята решили поиграть в игру \"Большое число\".                            \n",
    "Даны числа. Нужно определить, какое самое большое число можно из них составить.     \n",
    "\n",
    "Формат ввода                                                            \n",
    "В первой строке записано n - количество чисел. Оно не превосходит 100.                                 \n",
    "Во второй строке через пробел записаны n неотрицательных чисел, каждое из которых не превосходит 1000.   \n",
    "\n",
    "Формат вывода                                                            \n",
    "Нужно вывести самое большое число, которое можно из них составить.   \n",
    "\n",
    "Ввод:   \n",
    "3     \n",
    "15 56 2   \n",
    "\n",
    "Вывод:     \n",
    "56215   \n",
    "\n",
    "\n",
    "Ввод:     \n",
    "3        \n",
    "1 783 2   \n",
    "\n",
    "Вывод:   \n",
    "78321    \n",
    "\n",
    "Ввод:   \n",
    "5                  \n",
    "2 4 5 2 10   \n",
    "\n",
    "Вывод:   \n",
    "542210   \n",
    "\n",
    "Ввод:  \n",
    "38\n",
    "82 58 66 34 64 37 40 97 93 52 28 98 90 64 19 22 21 83 56 70 46 17 31 51 55 41 68 18 98 89 88 74 6 6 31 36 35 8\n",
    "\n",
    "Вывод:\n",
    "9898979390898888382747068666664645856555251464140373635343131282221191817"
   ]
  },
  {
   "cell_type": "code",
   "execution_count": 243,
   "metadata": {},
   "outputs": [
    {
     "name": "stdout",
     "output_type": "stream",
     "text": [
      "38\n",
      "82 58 66 34 64 37 40 97 93 52 28 98 90 64 19 22 21 83 56 70 46 17 31 51 55 41 68 18 98 89 88 74 6 6 31 36 35 8\n",
      "9898979390898888382747068666664645856555251464140373635343131282221191817\n"
     ]
    }
   ],
   "source": [
    "n = int(input())\n",
    "L = [x for x in input().split()]\n",
    "\n",
    "ans = ''\n",
    "\n",
    "for _ in range(n):\n",
    "    Z = L[0]\n",
    "    ind = 0\n",
    "    for i in range(1,n):\n",
    "        F = 0\n",
    "        for j in range(min(len(Z),len(L[i]))):\n",
    "            if Z[j] < L[i][j]:\n",
    "                ind = i\n",
    "                F = 1\n",
    "                Z = L[i]\n",
    "                break\n",
    "            elif Z[j] > L[i][j]:\n",
    "                break\n",
    "        if F == 0:\n",
    "            if L[i] + Z > Z + L[i]:\n",
    "                Z = L[i]\n",
    "                ind = i\n",
    "    L.pop(ind)\n",
    "    ans += Z\n",
    "    n -= 1\n",
    "            \n",
    "print(ans)"
   ]
  },
  {
   "cell_type": "code",
   "execution_count": null,
   "metadata": {},
   "outputs": [],
   "source": [
    "# РЕШЕНИЕ 2\n",
    "\n",
    "n = int(input())\n",
    "array = [i for i in input().split()]\n",
    "def biggest_number(arr):\n",
    "    for i in range(n):\n",
    "        for j in range(n - i - 1):\n",
    "            first_value = arr[j] + arr[j + 1]\n",
    "            next_value = arr[j + 1] + arr[j]\n",
    "            if first_value < next_value:\n",
    "                arr[j], arr[j + 1] = arr[j + 1], arr[j]\n",
    "    return arr\n",
    "print(*biggest_number(array), sep='')"
   ]
  },
  {
   "cell_type": "code",
   "execution_count": null,
   "metadata": {},
   "outputs": [],
   "source": []
  },
  {
   "cell_type": "code",
   "execution_count": 239,
   "metadata": {},
   "outputs": [],
   "source": []
  },
  {
   "cell_type": "markdown",
   "metadata": {},
   "source": [
    "### B. Radix Sort    \n",
    "\n",
    "Когда Кондратий узнал про алгоритм поразрядной сортировки, он объявил конкурс              \n",
    "на самую быструю реализацию алгоритма. Вы тоже принимаете участи в этом конкурсе. Успехов!   \n",
    "\n",
    "Формат ввода                                                        \n",
    "В первой строке задано n - длина массива неотрицательных целых чисел,                          \n",
    "каждое из которых не превосходит 100000. В следующей строке через пробел записаны n чисел.   \n",
    "\n",
    "Формат вывода                                           \n",
    "Выведите числа в отсортированном по неубыванию порядке.   \n",
    "\n",
    "Ввод:   \n",
    "8                      \n",
    "0 45 75 90 802 24 2 66   \n",
    "\n",
    "Вывод:   \n",
    "0 2 24 45 66 75 90 802    \n",
    "\n",
    "Ввод:   \n",
    "5                \n",
    "0 37 1 50 12   \n",
    "\n",
    "Вывод:   \n",
    "0 1 12 37 50    \n",
    "\n",
    "Ввод:   \n",
    "5             \n",
    "7 36 2 25 6   \n",
    "\n",
    "Вывод:   \n",
    "2 6 7 25 36   "
   ]
  },
  {
   "cell_type": "code",
   "execution_count": 135,
   "metadata": {},
   "outputs": [
    {
     "name": "stdout",
     "output_type": "stream",
     "text": [
      "9\n",
      "0 45 75 90 802 24 2 66   0\n"
     ]
    }
   ],
   "source": [
    "n = int(input())\n",
    "L = [x for x in input().split()]\n",
    "\n",
    "maxi_len = len(max(L,key=len))\n",
    "LL = [tuple(map(int,list('0'*(maxi_len - len(x))+x))) for i,x in enumerate(L)]"
   ]
  },
  {
   "cell_type": "code",
   "execution_count": 137,
   "metadata": {},
   "outputs": [
    {
     "name": "stdout",
     "output_type": "stream",
     "text": [
      "0 0 2 24 45 66 75 90 802\n"
     ]
    }
   ],
   "source": [
    "import operator\n",
    "K = tuple(range(maxi_len))\n",
    "#sorted(LL,key=operator.itemgetter(0))\n",
    "LL.sort(key=operator.itemgetter(*K))\n",
    "s = ' '.join([y.lstrip('0') for y in (''.join(map(str,x)) for x in LL)])\n",
    "t = 0\n",
    "for x in L:\n",
    "    if x == '0':\n",
    "        t += 1\n",
    "s = '0 '*t + s.lstrip(' ')\n",
    "print(s)"
   ]
  },
  {
   "cell_type": "code",
   "execution_count": null,
   "metadata": {},
   "outputs": [],
   "source": [
    "# РЕШЕНИЕ 2\n",
    "\n",
    "n = int(input())\n",
    "arr = input().split()\n",
    "for i in range(n-1):\n",
    "    for j in range(i+1, n):\n",
    "        a, b = arr[i], arr[j]\n",
    "        if a + b < b + a:\n",
    "            arr[i], arr[j] = arr[j], arr[i]\n",
    "print(''.join(arr))"
   ]
  },
  {
   "cell_type": "code",
   "execution_count": null,
   "metadata": {},
   "outputs": [],
   "source": [
    "# РЕШЕНИЕ 3 ПОРАЗРЯДНАЯ СОРТИРОВКА\n",
    "\n",
    "k = 6\n",
    "m = 10\n",
    "\n",
    "n = int(input())\n",
    "\n",
    "array = [i if len(i) == k else (k - len(i)) * '0' + i for i in input().split()]\n",
    "bitness_list = [[] for _ in range(m)]\n",
    "\n",
    "def unpack_array(arr):\n",
    "    result = []\n",
    "    for sub_list in arr:\n",
    "        if sub_list:\n",
    "            for el in sub_list:\n",
    "                result.append(el)\n",
    "    return result\n",
    "\n",
    "for bitness in range(1, k + 1):\n",
    "    for j in array:\n",
    "        bitness_list[int(j[-bitness])].append(j)\n",
    "    array = unpack_array(bitness_list)\n",
    "    bitness_list = [[] for _ in range(m)]\n",
    "print(*[int(i) for i in array])"
   ]
  },
  {
   "cell_type": "code",
   "execution_count": null,
   "metadata": {},
   "outputs": [],
   "source": []
  }
 ],
 "metadata": {
  "kernelspec": {
   "display_name": "Python 3",
   "language": "python",
   "name": "python3"
  },
  "language_info": {
   "codemirror_mode": {
    "name": "ipython",
    "version": 3
   },
   "file_extension": ".py",
   "mimetype": "text/x-python",
   "name": "python",
   "nbconvert_exporter": "python",
   "pygments_lexer": "ipython3",
   "version": "3.7.3"
  }
 },
 "nbformat": 4,
 "nbformat_minor": 2
}
